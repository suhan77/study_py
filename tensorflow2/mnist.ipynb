{
 "cells": [
  {
   "cell_type": "code",
   "execution_count": 1,
   "metadata": {},
   "outputs": [],
   "source": [
    "from __future__ import absolute_import, division, print_function, unicode_literals\n",
    "\n",
    "import tensorflow_datasets as tfds\n",
    "import tensorflow as tf\n",
    "\n",
    "from tensorflow.keras.layers import Dense, Flatten, Conv2D\n",
    "from tensorflow.keras import Model"
   ]
  },
  {
   "cell_type": "code",
   "execution_count": 2,
   "metadata": {},
   "outputs": [
    {
     "data": {
      "text/plain": [
       "'2.0.0-alpha0'"
      ]
     },
     "execution_count": 2,
     "metadata": {},
     "output_type": "execute_result"
    }
   ],
   "source": [
    "tf.__version__"
   ]
  },
  {
   "cell_type": "markdown",
   "metadata": {},
   "source": [
    "mnist 데이터 사용"
   ]
  },
  {
   "cell_type": "code",
   "execution_count": 17,
   "metadata": {
    "scrolled": true
   },
   "outputs": [],
   "source": [
    "mnist = tf.keras.datasets.mnist\n",
    "\n",
    "(x_train, y_train), (x_test, y_test) = mnist.load_data()\n",
    "x_train, x_test = x_train / 255.0, x_test / 255.0"
   ]
  },
  {
   "cell_type": "code",
   "execution_count": 18,
   "metadata": {},
   "outputs": [],
   "source": [
    "model = tf.keras.models.Sequential([\n",
    "  tf.keras.layers.Flatten(input_shape=(28, 28)), # input shape 지정\n",
    "  tf.keras.layers.Dense(128, activation='relu'), # relu 함수 적용\n",
    "  tf.keras.layers.Dropout(0.2), \n",
    "  tf.keras.layers.Dense(10, activation='softmax') # softmax\n",
    "])\n",
    "\n",
    "model.compile(optimizer='adam',\n",
    "              loss='sparse_categorical_crossentropy',\n",
    "              metrics=['accuracy'])"
   ]
  },
  {
   "cell_type": "code",
   "execution_count": 19,
   "metadata": {
    "scrolled": true
   },
   "outputs": [
    {
     "name": "stdout",
     "output_type": "stream",
     "text": [
      "Epoch 1/5\n",
      "60000/60000 [==============================] - ETA: 4:06 - loss: 2.2696 - accuracy: 0.18 - ETA: 6s - loss: 1.2551 - accuracy: 0.6610 - ETA: 3s - loss: 0.9304 - accuracy: 0.74 - ETA: 2s - loss: 0.7799 - accuracy: 0.78 - ETA: 2s - loss: 0.6843 - accuracy: 0.80 - ETA: 2s - loss: 0.6204 - accuracy: 0.82 - ETA: 2s - loss: 0.5725 - accuracy: 0.83 - ETA: 1s - loss: 0.5438 - accuracy: 0.84 - ETA: 1s - loss: 0.5153 - accuracy: 0.85 - ETA: 1s - loss: 0.4940 - accuracy: 0.86 - ETA: 1s - loss: 0.4732 - accuracy: 0.86 - ETA: 1s - loss: 0.4541 - accuracy: 0.87 - ETA: 1s - loss: 0.4381 - accuracy: 0.87 - ETA: 1s - loss: 0.4243 - accuracy: 0.88 - ETA: 1s - loss: 0.4140 - accuracy: 0.88 - ETA: 1s - loss: 0.4058 - accuracy: 0.88 - ETA: 1s - loss: 0.3961 - accuracy: 0.88 - ETA: 0s - loss: 0.3853 - accuracy: 0.89 - ETA: 0s - loss: 0.3787 - accuracy: 0.89 - ETA: 0s - loss: 0.3715 - accuracy: 0.89 - ETA: 0s - loss: 0.3656 - accuracy: 0.89 - ETA: 0s - loss: 0.3596 - accuracy: 0.89 - ETA: 0s - loss: 0.3531 - accuracy: 0.89 - ETA: 0s - loss: 0.3470 - accuracy: 0.90 - ETA: 0s - loss: 0.3419 - accuracy: 0.90 - ETA: 0s - loss: 0.3364 - accuracy: 0.90 - ETA: 0s - loss: 0.3317 - accuracy: 0.90 - ETA: 0s - loss: 0.3271 - accuracy: 0.90 - ETA: 0s - loss: 0.3226 - accuracy: 0.90 - ETA: 0s - loss: 0.3175 - accuracy: 0.90 - ETA: 0s - loss: 0.3137 - accuracy: 0.91 - ETA: 0s - loss: 0.3095 - accuracy: 0.91 - ETA: 0s - loss: 0.3055 - accuracy: 0.91 - ETA: 0s - loss: 0.3018 - accuracy: 0.91 - 2s 31us/sample - loss: 0.2998 - accuracy: 0.9139\n",
      "Epoch 2/5\n",
      "60000/60000 [==============================] - ETA: 5s - loss: 0.0752 - accuracy: 1.00 - ETA: 1s - loss: 0.1628 - accuracy: 0.94 - ETA: 1s - loss: 0.1687 - accuracy: 0.94 - ETA: 1s - loss: 0.1654 - accuracy: 0.95 - ETA: 1s - loss: 0.1698 - accuracy: 0.94 - ETA: 1s - loss: 0.1657 - accuracy: 0.94 - ETA: 1s - loss: 0.1626 - accuracy: 0.95 - ETA: 1s - loss: 0.1630 - accuracy: 0.95 - ETA: 1s - loss: 0.1652 - accuracy: 0.95 - ETA: 1s - loss: 0.1608 - accuracy: 0.95 - ETA: 1s - loss: 0.1622 - accuracy: 0.95 - ETA: 1s - loss: 0.1620 - accuracy: 0.95 - ETA: 1s - loss: 0.1601 - accuracy: 0.95 - ETA: 1s - loss: 0.1580 - accuracy: 0.95 - ETA: 0s - loss: 0.1570 - accuracy: 0.95 - ETA: 0s - loss: 0.1580 - accuracy: 0.95 - ETA: 0s - loss: 0.1579 - accuracy: 0.95 - ETA: 0s - loss: 0.1560 - accuracy: 0.95 - ETA: 0s - loss: 0.1554 - accuracy: 0.95 - ETA: 0s - loss: 0.1542 - accuracy: 0.95 - ETA: 0s - loss: 0.1545 - accuracy: 0.95 - ETA: 0s - loss: 0.1539 - accuracy: 0.95 - ETA: 0s - loss: 0.1537 - accuracy: 0.95 - ETA: 0s - loss: 0.1524 - accuracy: 0.95 - ETA: 0s - loss: 0.1513 - accuracy: 0.95 - ETA: 0s - loss: 0.1501 - accuracy: 0.95 - ETA: 0s - loss: 0.1490 - accuracy: 0.95 - ETA: 0s - loss: 0.1486 - accuracy: 0.95 - ETA: 0s - loss: 0.1480 - accuracy: 0.95 - ETA: 0s - loss: 0.1475 - accuracy: 0.95 - ETA: 0s - loss: 0.1464 - accuracy: 0.95 - ETA: 0s - loss: 0.1460 - accuracy: 0.95 - ETA: 0s - loss: 0.1451 - accuracy: 0.95 - ETA: 0s - loss: 0.1451 - accuracy: 0.95 - 2s 28us/sample - loss: 0.1448 - accuracy: 0.9577\n",
      "Epoch 3/5\n",
      "60000/60000 [==============================] - ETA: 5s - loss: 0.0846 - accuracy: 0.96 - ETA: 1s - loss: 0.1097 - accuracy: 0.96 - ETA: 1s - loss: 0.1021 - accuracy: 0.96 - ETA: 1s - loss: 0.0998 - accuracy: 0.96 - ETA: 1s - loss: 0.1008 - accuracy: 0.96 - ETA: 1s - loss: 0.1002 - accuracy: 0.96 - ETA: 1s - loss: 0.1022 - accuracy: 0.96 - ETA: 1s - loss: 0.1003 - accuracy: 0.96 - ETA: 1s - loss: 0.1040 - accuracy: 0.96 - ETA: 1s - loss: 0.1036 - accuracy: 0.96 - ETA: 1s - loss: 0.1034 - accuracy: 0.96 - ETA: 1s - loss: 0.1045 - accuracy: 0.96 - ETA: 1s - loss: 0.1048 - accuracy: 0.96 - ETA: 1s - loss: 0.1038 - accuracy: 0.96 - ETA: 1s - loss: 0.1039 - accuracy: 0.96 - ETA: 0s - loss: 0.1043 - accuracy: 0.96 - ETA: 0s - loss: 0.1058 - accuracy: 0.96 - ETA: 0s - loss: 0.1070 - accuracy: 0.96 - ETA: 0s - loss: 0.1082 - accuracy: 0.96 - ETA: 0s - loss: 0.1080 - accuracy: 0.96 - ETA: 0s - loss: 0.1076 - accuracy: 0.96 - ETA: 0s - loss: 0.1083 - accuracy: 0.96 - ETA: 0s - loss: 0.1086 - accuracy: 0.96 - ETA: 0s - loss: 0.1079 - accuracy: 0.96 - ETA: 0s - loss: 0.1082 - accuracy: 0.96 - ETA: 0s - loss: 0.1086 - accuracy: 0.96 - ETA: 0s - loss: 0.1096 - accuracy: 0.96 - ETA: 0s - loss: 0.1096 - accuracy: 0.96 - ETA: 0s - loss: 0.1093 - accuracy: 0.96 - ETA: 0s - loss: 0.1095 - accuracy: 0.96 - ETA: 0s - loss: 0.1097 - accuracy: 0.96 - ETA: 0s - loss: 0.1089 - accuracy: 0.96 - ETA: 0s - loss: 0.1092 - accuracy: 0.96 - ETA: 0s - loss: 0.1093 - accuracy: 0.96 - 2s 29us/sample - loss: 0.1094 - accuracy: 0.9660\n",
      "Epoch 4/5\n",
      "60000/60000 [==============================] - ETA: 5s - loss: 0.0225 - accuracy: 1.00 - ETA: 1s - loss: 0.0807 - accuracy: 0.97 - ETA: 1s - loss: 0.0766 - accuracy: 0.97 - ETA: 1s - loss: 0.0736 - accuracy: 0.97 - ETA: 1s - loss: 0.0767 - accuracy: 0.97 - ETA: 1s - loss: 0.0788 - accuracy: 0.97 - ETA: 1s - loss: 0.0802 - accuracy: 0.97 - ETA: 1s - loss: 0.0801 - accuracy: 0.97 - ETA: 1s - loss: 0.0794 - accuracy: 0.97 - ETA: 1s - loss: 0.0804 - accuracy: 0.97 - ETA: 1s - loss: 0.0816 - accuracy: 0.97 - ETA: 1s - loss: 0.0814 - accuracy: 0.97 - ETA: 1s - loss: 0.0827 - accuracy: 0.97 - ETA: 1s - loss: 0.0840 - accuracy: 0.97 - ETA: 1s - loss: 0.0860 - accuracy: 0.97 - ETA: 0s - loss: 0.0862 - accuracy: 0.97 - ETA: 0s - loss: 0.0866 - accuracy: 0.97 - ETA: 0s - loss: 0.0866 - accuracy: 0.97 - ETA: 0s - loss: 0.0876 - accuracy: 0.97 - ETA: 0s - loss: 0.0881 - accuracy: 0.97 - ETA: 0s - loss: 0.0885 - accuracy: 0.97 - ETA: 0s - loss: 0.0874 - accuracy: 0.97 - ETA: 0s - loss: 0.0870 - accuracy: 0.97 - ETA: 0s - loss: 0.0871 - accuracy: 0.97 - ETA: 0s - loss: 0.0871 - accuracy: 0.97 - ETA: 0s - loss: 0.0875 - accuracy: 0.97 - ETA: 0s - loss: 0.0881 - accuracy: 0.97 - ETA: 0s - loss: 0.0876 - accuracy: 0.97 - ETA: 0s - loss: 0.0870 - accuracy: 0.97 - ETA: 0s - loss: 0.0869 - accuracy: 0.97 - ETA: 0s - loss: 0.0868 - accuracy: 0.97 - ETA: 0s - loss: 0.0869 - accuracy: 0.97 - ETA: 0s - loss: 0.0871 - accuracy: 0.97 - ETA: 0s - loss: 0.0869 - accuracy: 0.97 - 2s 29us/sample - loss: 0.0872 - accuracy: 0.9732\n",
      "Epoch 5/5\n",
      "60000/60000 [==============================] - ETA: 5s - loss: 0.0867 - accuracy: 0.96 - ETA: 1s - loss: 0.0755 - accuracy: 0.97 - ETA: 1s - loss: 0.0734 - accuracy: 0.97 - ETA: 1s - loss: 0.0757 - accuracy: 0.97 - ETA: 1s - loss: 0.0712 - accuracy: 0.97 - ETA: 1s - loss: 0.0689 - accuracy: 0.97 - ETA: 1s - loss: 0.0703 - accuracy: 0.97 - ETA: 1s - loss: 0.0703 - accuracy: 0.97 - ETA: 1s - loss: 0.0696 - accuracy: 0.97 - ETA: 1s - loss: 0.0713 - accuracy: 0.97 - ETA: 1s - loss: 0.0727 - accuracy: 0.97 - ETA: 1s - loss: 0.0730 - accuracy: 0.97 - ETA: 1s - loss: 0.0719 - accuracy: 0.97 - ETA: 1s - loss: 0.0733 - accuracy: 0.97 - ETA: 1s - loss: 0.0729 - accuracy: 0.97 - ETA: 0s - loss: 0.0722 - accuracy: 0.97 - ETA: 0s - loss: 0.0739 - accuracy: 0.97 - ETA: 0s - loss: 0.0739 - accuracy: 0.97 - ETA: 0s - loss: 0.0735 - accuracy: 0.97 - ETA: 0s - loss: 0.0734 - accuracy: 0.97 - ETA: 0s - loss: 0.0732 - accuracy: 0.97 - ETA: 0s - loss: 0.0731 - accuracy: 0.97 - ETA: 0s - loss: 0.0727 - accuracy: 0.97 - ETA: 0s - loss: 0.0726 - accuracy: 0.97 - ETA: 0s - loss: 0.0730 - accuracy: 0.97 - ETA: 0s - loss: 0.0732 - accuracy: 0.97 - ETA: 0s - loss: 0.0724 - accuracy: 0.97 - ETA: 0s - loss: 0.0731 - accuracy: 0.97 - ETA: 0s - loss: 0.0736 - accuracy: 0.97 - ETA: 0s - loss: 0.0739 - accuracy: 0.97 - ETA: 0s - loss: 0.0739 - accuracy: 0.97 - ETA: 0s - loss: 0.0746 - accuracy: 0.97 - ETA: 0s - loss: 0.0741 - accuracy: 0.97 - ETA: 0s - loss: 0.0752 - accuracy: 0.97 - 2s 29us/sample - loss: 0.0753 - accuracy: 0.9767\n",
      "10000/10000 [==============================] - ETA: 11s - loss: 0.0160 - accuracy: 1.000 - ETA: 0s - loss: 0.1029 - accuracy: 0.967 - ETA: 0s - loss: 0.0950 - accuracy: 0.97 - 0s 19us/sample - loss: 0.0779 - accuracy: 0.9761\n"
     ]
    },
    {
     "data": {
      "text/plain": [
       "[0.0779088361082133, 0.9761]"
      ]
     },
     "execution_count": 19,
     "metadata": {},
     "output_type": "execute_result"
    }
   ],
   "source": [
    "model.fit(x_train, y_train, epochs=5)\n",
    "\n",
    "model.evaluate(x_test, y_test)"
   ]
  },
  {
   "cell_type": "code",
   "execution_count": null,
   "metadata": {},
   "outputs": [],
   "source": []
  }
 ],
 "metadata": {
  "kernelspec": {
   "display_name": "Python 3",
   "language": "python",
   "name": "python3"
  },
  "language_info": {
   "codemirror_mode": {
    "name": "ipython",
    "version": 3
   },
   "file_extension": ".py",
   "mimetype": "text/x-python",
   "name": "python",
   "nbconvert_exporter": "python",
   "pygments_lexer": "ipython3",
   "version": "3.7.3"
  }
 },
 "nbformat": 4,
 "nbformat_minor": 2
}
