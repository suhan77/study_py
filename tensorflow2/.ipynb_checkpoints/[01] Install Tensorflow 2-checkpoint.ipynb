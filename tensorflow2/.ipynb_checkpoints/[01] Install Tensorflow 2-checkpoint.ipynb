{
 "cells": [
  {
   "cell_type": "markdown",
   "metadata": {},
   "source": [
    "# 설치 가능 환경"
   ]
  },
  {
   "cell_type": "markdown",
   "metadata": {},
   "source": [
    "TensorFlow는 다음 64비트 시스템에서 테스트 및 지원됩니다.\n",
    "\n",
    "- Python 3.5~3.8\n",
    "- Ubuntu 16.04 이상\n",
    "- Windows 7 이상(C++ 재배포 가능 패키지)\n",
    "- macOS 10.12.6(Sierra) 이상(GPU 지원 없음)\n",
    "- Raspbian 9.0 이상"
   ]
  },
  {
   "cell_type": "markdown",
   "metadata": {},
   "source": [
    "# PIP에서 제공하는 버전\n",
    "\n",
    "Requires the latest pip\n",
    "- pip install --upgrade pip\n",
    "\n",
    "Current stable release for CPU and GPU\n",
    "- pip install tensorflow\n",
    "- pip install tensorflow-gpu==2.4.0 (추천)\n",
    "\n",
    "Or try the preview build (unstable)\n",
    "\n",
    "- pip install tf-nightly"
   ]
  },
  {
   "cell_type": "markdown",
   "metadata": {},
   "source": [
    "# 최신 버전으로 업데이트\n",
    "\n",
    "- pip install --upgrade tensorflow"
   ]
  },
  {
   "cell_type": "markdown",
   "metadata": {},
   "source": [
    "# 버전 확인"
   ]
  },
  {
   "cell_type": "code",
   "execution_count": 1,
   "metadata": {},
   "outputs": [
    {
     "data": {
      "text/plain": [
       "'2.0.0-alpha0'"
      ]
     },
     "execution_count": 1,
     "metadata": {},
     "output_type": "execute_result"
    }
   ],
   "source": [
    "import tensorflow as tf\n",
    "tf.__version__"
   ]
  },
  {
   "cell_type": "markdown",
   "metadata": {},
   "source": [
    "# Gpu 사용 확인"
   ]
  },
  {
   "cell_type": "code",
   "execution_count": 3,
   "metadata": {},
   "outputs": [
    {
     "data": {
      "text/plain": [
       "[name: \"/device:CPU:0\"\n",
       " device_type: \"CPU\"\n",
       " memory_limit: 268435456\n",
       " locality {\n",
       " }\n",
       " incarnation: 14745450316513519152]"
      ]
     },
     "execution_count": 3,
     "metadata": {},
     "output_type": "execute_result"
    }
   ],
   "source": [
    "from tensorflow.python.client import device_lib\n",
    "device_lib.list_local_devices()"
   ]
  },
  {
   "cell_type": "markdown",
   "metadata": {},
   "source": [
    "# Jupyter notebook에 커널 추가 "
   ]
  },
  {
   "cell_type": "markdown",
   "metadata": {},
   "source": [
    "파이커널 설치\n",
    "\n",
    "- pip install ipykernel\n",
    "\n",
    "커널 추가\n",
    "\n",
    "- python -m ipykernel install —- user -- name 가상환경이름\n",
    "\n",
    "커널 삭제\n",
    "\n",
    "- jupyter kernelspec uninstall 가상환경이름"
   ]
  },
  {
   "cell_type": "code",
   "execution_count": null,
   "metadata": {},
   "outputs": [],
   "source": []
  }
 ],
 "metadata": {
  "kernelspec": {
   "display_name": "Python 3",
   "language": "python",
   "name": "python3"
  },
  "language_info": {
   "codemirror_mode": {
    "name": "ipython",
    "version": 3
   },
   "file_extension": ".py",
   "mimetype": "text/x-python",
   "name": "python",
   "nbconvert_exporter": "python",
   "pygments_lexer": "ipython3",
   "version": "3.8.8"
  }
 },
 "nbformat": 4,
 "nbformat_minor": 2
}
