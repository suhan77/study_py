{
 "cells": [
  {
   "cell_type": "code",
   "execution_count": 3,
   "id": "d81b59f9",
   "metadata": {},
   "outputs": [
    {
     "data": {
      "text/plain": [
       "'2.4.0'"
      ]
     },
     "execution_count": 3,
     "metadata": {},
     "output_type": "execute_result"
    }
   ],
   "source": [
    "import tensorflow as tf\n",
    "tf.__version__"
   ]
  },
  {
   "cell_type": "markdown",
   "id": "64416f4f",
   "metadata": {},
   "source": [
    "# 1. CSV 파일"
   ]
  },
  {
   "cell_type": "markdown",
   "id": "c30b7430",
   "metadata": {},
   "source": [
    "## 1.1. 데이터 설명\n",
    "\n",
    "- 트위터 감정분석 데이터\n",
    "- 감정 구분\n",
    "    - 0: 부정\n",
    "    - 1: 중립\n",
    "    - 2: 긍정"
   ]
  },
  {
   "cell_type": "code",
   "execution_count": 16,
   "id": "0a42ba4e",
   "metadata": {},
   "outputs": [],
   "source": [
    "train_path = '../../data/twitter/train.csv'\n",
    "valid_path = '../../data/twitter/valid.csv'\n",
    "vocab_path = '../../data/twitter/vocab.csv'"
   ]
  },
  {
   "cell_type": "markdown",
   "id": "afca2466",
   "metadata": {},
   "source": [
    "## 1.2. 데이터 불러오기"
   ]
  },
  {
   "cell_type": "code",
   "execution_count": 19,
   "id": "9997b68d",
   "metadata": {
    "scrolled": true
   },
   "outputs": [],
   "source": [
    "LABEL_COLUMN = 1\n",
    "LABELS = [0, 1, 2]"
   ]
  },
  {
   "cell_type": "code",
   "execution_count": 22,
   "id": "daec400d",
   "metadata": {},
   "outputs": [],
   "source": [
    "def get_dataset(file_path, **kwargs):\n",
    "    dataset = tf.data.experimental.make_csv_dataset(\n",
    "                file_path,\n",
    "                batch_size=5, # Artificially small to make examples easier to show.\n",
    "                #label_name=LABEL_COLUMN,\n",
    "                na_value=\"?\",\n",
    "                num_epochs=1,\n",
    "                ignore_errors=True, \n",
    "                **kwargs)\n",
    "    return dataset"
   ]
  },
  {
   "cell_type": "code",
   "execution_count": 23,
   "id": "edae1e3e",
   "metadata": {},
   "outputs": [],
   "source": [
    "raw_train_data = get_dataset(train_path)\n",
    "raw_train_data = get_dataset(valid_path)"
   ]
  },
  {
   "cell_type": "code",
   "execution_count": 24,
   "id": "d7437c32",
   "metadata": {},
   "outputs": [
    {
     "data": {
      "text/plain": [
       "<PrefetchDataset shapes: OrderedDict([(critic survey ashford hospit prime ahp amp kimco realti kim, (None,)), (0, (None,))]), types: OrderedDict([(critic survey ashford hospit prime ahp amp kimco realti kim, tf.string), (0, tf.int32)])>"
      ]
     },
     "execution_count": 24,
     "metadata": {},
     "output_type": "execute_result"
    }
   ],
   "source": [
    "raw_train_data"
   ]
  }
 ],
 "metadata": {
  "kernelspec": {
   "display_name": "Python 3",
   "language": "python",
   "name": "python3"
  },
  "language_info": {
   "codemirror_mode": {
    "name": "ipython",
    "version": 3
   },
   "file_extension": ".py",
   "mimetype": "text/x-python",
   "name": "python",
   "nbconvert_exporter": "python",
   "pygments_lexer": "ipython3",
   "version": "3.8.8"
  }
 },
 "nbformat": 4,
 "nbformat_minor": 5
}
