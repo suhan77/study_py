{
 "cells": [
  {
   "metadata": {
    "ExecuteTime": {
     "end_time": "2024-04-22T16:00:56.922838Z",
     "start_time": "2024-04-22T16:00:53.912267Z"
    }
   },
   "cell_type": "code",
   "source": [
    "import threading\n",
    "import time\n",
    "\n",
    "# 이벤트 객체 생성\n",
    "event = threading.Event()\n",
    "\n",
    "class Worker(threading.Thread):\n",
    "    def __init__(self, name):\n",
    "        super().__init__(name=name)\n",
    "    \n",
    "    def run(self):\n",
    "        print(f\"{self.name} is starting work\")\n",
    "        time.sleep(3)  # 작업 시뮬레이션\n",
    "        print(f\"{self.name} has finished work\")\n",
    "        event.set()  # 작업 완료 후 이벤트 설정\n",
    "\n",
    "class Waiter(threading.Thread):\n",
    "    def __init__(self, name):\n",
    "        super().__init__(name=name)\n",
    "    \n",
    "    def run(self):\n",
    "        print(f\"{self.name} is waiting for event\")\n",
    "        event.wait()  # 이벤트가 설정될 때까지 대기\n",
    "        print(f\"{self.name} has noticed that the event was set\")\n",
    "\n",
    "# 스레드 생성 및 실행\n",
    "worker = Worker(\"Worker\")\n",
    "waiter = Waiter(\"Waiter\")\n",
    "worker.start()\n",
    "waiter.start()\n",
    "\n",
    "worker.join()\n",
    "waiter.join()\n",
    "\n",
    "print(\"Main thread has completed\")\n"
   ],
   "id": "a1335e43d5c2e75e",
   "outputs": [
    {
     "name": "stdout",
     "output_type": "stream",
     "text": [
      "Worker is starting work\n",
      "Waiter is waiting for event\n",
      "Worker has finished work\n",
      "Waiter has noticed that the event was set\n",
      "Main thread has completed\n"
     ]
    }
   ],
   "execution_count": 1
  },
  {
   "metadata": {
    "ExecuteTime": {
     "end_time": "2024-04-22T16:05:39.325673Z",
     "start_time": "2024-04-22T16:05:26.243632Z"
    }
   },
   "cell_type": "code",
   "source": [
    "import threading\n",
    "import time\n",
    "import random\n",
    "\n",
    "# 버퍼와 조건 변수\n",
    "buffer = []\n",
    "condition = threading.Condition()\n",
    "MAX_ITEMS = 10\n",
    "\n",
    "class Producer(threading.Thread):\n",
    "    def run(self):\n",
    "        global buffer\n",
    "        while True:\n",
    "            item = random.randint(1, 100)\n",
    "            with condition:\n",
    "                while len(buffer) == MAX_ITEMS:\n",
    "                    condition.wait()  # 버퍼가 가득 찼으므로 대기\n",
    "                buffer.append(item)\n",
    "                print(f\"Produced {item}\")\n",
    "                condition.notify()  # 버퍼에 공간이 있으므로 소비자에게 알림\n",
    "            time.sleep(random.random())\n",
    "\n",
    "class Consumer(threading.Thread):\n",
    "    def run(self):\n",
    "        global buffer\n",
    "        while True:\n",
    "            with condition:\n",
    "                while not buffer:\n",
    "                    condition.wait()  # 버퍼가 비어있으므로 대기\n",
    "                item = buffer.pop(0)\n",
    "                print(f\"Consumed {item}\")\n",
    "                condition.notify()  # 아이템을 소비했으므로 생산자에게 알림\n",
    "            time.sleep(random.random())\n",
    "\n",
    "# 스레드 생성 및 실행\n",
    "producer = Producer()\n",
    "consumer = Consumer()\n",
    "producer.start()\n",
    "consumer.start()\n",
    "\n",
    "producer.join()\n",
    "consumer.join()\n"
   ],
   "id": "a56608202673168d",
   "outputs": [
    {
     "name": "stdout",
     "output_type": "stream",
     "text": [
      "Produced 50\n",
      "Consumed 50\n",
      "Produced 38\n",
      "Consumed 38\n",
      "Produced 8\n",
      "Consumed 8\n",
      "Produced 24\n",
      "Consumed 24\n",
      "Produced 4\n",
      "Consumed 4\n",
      "Produced 26\n",
      "Consumed 26\n",
      "Produced 23\n",
      "Consumed 23\n",
      "Produced 55\n",
      "Consumed 55\n",
      "Produced 65\n",
      "Consumed 65\n",
      "Produced 62\n",
      "Consumed 62\n",
      "Produced 42\n",
      "Consumed 42\n",
      "Produced 52\n",
      "Consumed 52\n",
      "Produced 20\n",
      "Consumed 20\n",
      "Produced 28\n",
      "Consumed 28\n",
      "Produced 25\n",
      "Consumed 25\n",
      "Produced 83\n",
      "Consumed 83\n",
      "Produced 91\n",
      "Produced 49\n",
      "Produced 100\n",
      "Consumed 91\n",
      "Consumed 49\n",
      "Produced 37\n",
      "Consumed 100\n",
      "Produced 95\n",
      "Consumed 37\n",
      "Consumed 95\n",
      "Produced 9\n",
      "Produced 49\n"
     ]
    },
    {
     "ename": "KeyboardInterrupt",
     "evalue": "",
     "output_type": "error",
     "traceback": [
      "\u001B[0;31m---------------------------------------------------------------------------\u001B[0m",
      "\u001B[0;31mKeyboardInterrupt\u001B[0m                         Traceback (most recent call last)",
      "Cell \u001B[0;32mIn[2], line 41\u001B[0m\n\u001B[1;32m     38\u001B[0m producer\u001B[38;5;241m.\u001B[39mstart()\n\u001B[1;32m     39\u001B[0m consumer\u001B[38;5;241m.\u001B[39mstart()\n\u001B[0;32m---> 41\u001B[0m \u001B[43mproducer\u001B[49m\u001B[38;5;241;43m.\u001B[39;49m\u001B[43mjoin\u001B[49m\u001B[43m(\u001B[49m\u001B[43m)\u001B[49m\n\u001B[1;32m     42\u001B[0m consumer\u001B[38;5;241m.\u001B[39mjoin()\n",
      "File \u001B[0;32m~/opt/anaconda3/envs/nlp/lib/python3.10/threading.py:1096\u001B[0m, in \u001B[0;36mThread.join\u001B[0;34m(self, timeout)\u001B[0m\n\u001B[1;32m   1093\u001B[0m     \u001B[38;5;28;01mraise\u001B[39;00m \u001B[38;5;167;01mRuntimeError\u001B[39;00m(\u001B[38;5;124m\"\u001B[39m\u001B[38;5;124mcannot join current thread\u001B[39m\u001B[38;5;124m\"\u001B[39m)\n\u001B[1;32m   1095\u001B[0m \u001B[38;5;28;01mif\u001B[39;00m timeout \u001B[38;5;129;01mis\u001B[39;00m \u001B[38;5;28;01mNone\u001B[39;00m:\n\u001B[0;32m-> 1096\u001B[0m     \u001B[38;5;28;43mself\u001B[39;49m\u001B[38;5;241;43m.\u001B[39;49m\u001B[43m_wait_for_tstate_lock\u001B[49m\u001B[43m(\u001B[49m\u001B[43m)\u001B[49m\n\u001B[1;32m   1097\u001B[0m \u001B[38;5;28;01melse\u001B[39;00m:\n\u001B[1;32m   1098\u001B[0m     \u001B[38;5;66;03m# the behavior of a negative timeout isn't documented, but\u001B[39;00m\n\u001B[1;32m   1099\u001B[0m     \u001B[38;5;66;03m# historically .join(timeout=x) for x<0 has acted as if timeout=0\u001B[39;00m\n\u001B[1;32m   1100\u001B[0m     \u001B[38;5;28mself\u001B[39m\u001B[38;5;241m.\u001B[39m_wait_for_tstate_lock(timeout\u001B[38;5;241m=\u001B[39m\u001B[38;5;28mmax\u001B[39m(timeout, \u001B[38;5;241m0\u001B[39m))\n",
      "File \u001B[0;32m~/opt/anaconda3/envs/nlp/lib/python3.10/threading.py:1116\u001B[0m, in \u001B[0;36mThread._wait_for_tstate_lock\u001B[0;34m(self, block, timeout)\u001B[0m\n\u001B[1;32m   1113\u001B[0m     \u001B[38;5;28;01mreturn\u001B[39;00m\n\u001B[1;32m   1115\u001B[0m \u001B[38;5;28;01mtry\u001B[39;00m:\n\u001B[0;32m-> 1116\u001B[0m     \u001B[38;5;28;01mif\u001B[39;00m \u001B[43mlock\u001B[49m\u001B[38;5;241;43m.\u001B[39;49m\u001B[43macquire\u001B[49m\u001B[43m(\u001B[49m\u001B[43mblock\u001B[49m\u001B[43m,\u001B[49m\u001B[43m \u001B[49m\u001B[43mtimeout\u001B[49m\u001B[43m)\u001B[49m:\n\u001B[1;32m   1117\u001B[0m         lock\u001B[38;5;241m.\u001B[39mrelease()\n\u001B[1;32m   1118\u001B[0m         \u001B[38;5;28mself\u001B[39m\u001B[38;5;241m.\u001B[39m_stop()\n",
      "\u001B[0;31mKeyboardInterrupt\u001B[0m: "
     ]
    }
   ],
   "execution_count": 2
  }
 ],
 "metadata": {
  "kernelspec": {
   "display_name": "Python 3",
   "language": "python",
   "name": "python3"
  },
  "language_info": {
   "codemirror_mode": {
    "name": "ipython",
    "version": 2
   },
   "file_extension": ".py",
   "mimetype": "text/x-python",
   "name": "python",
   "nbconvert_exporter": "python",
   "pygments_lexer": "ipython2",
   "version": "2.7.6"
  }
 },
 "nbformat": 4,
 "nbformat_minor": 5
}
