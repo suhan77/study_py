{
 "cells": [
  {
   "cell_type": "markdown",
   "metadata": {},
   "source": [
    "# file read or write"
   ]
  },
  {
   "cell_type": "markdown",
   "metadata": {},
   "source": [
    "### 1)기본적인 파일 열고 닫기"
   ]
  },
  {
   "cell_type": "code",
   "execution_count": null,
   "metadata": {},
   "outputs": [],
   "source": [
    "f = open(\"새파일.txt\", 'w') \n",
    "f.close()\n",
    "\n",
    "'''\n",
    "파일 열기모드\n",
    "r 읽기모드\n",
    "w 쓰기모드\n",
    "a 추가모드 (파일의 마지막에 새로운 내용을 추가)\n",
    "'''"
   ]
  },
  {
   "cell_type": "markdown",
   "metadata": {},
   "source": [
    "### 2) 파일 쓰기"
   ]
  },
  {
   "cell_type": "code",
   "execution_count": null,
   "metadata": {},
   "outputs": [],
   "source": [
    "f = open(\"./test1/test.txt\", 'w')\n",
    "data = '안녕하세요 글자를 써봅시다 \\n'\n",
    "f.write(data)\n",
    "f.close()"
   ]
  },
  {
   "cell_type": "code",
   "execution_count": null,
   "metadata": {},
   "outputs": [],
   "source": [
    "with open(\"./test1/test.txt\", \"w\") as f:\n",
    "    data = '안녕하세요 글자를 써봅시다 \\n'\n",
    "    f.write(data)"
   ]
  },
  {
   "cell_type": "markdown",
   "metadata": {},
   "source": [
    "### 3) 파일 추가쓰기"
   ]
  },
  {
   "cell_type": "code",
   "execution_count": null,
   "metadata": {},
   "outputs": [],
   "source": [
    "f = open(\"./test1/test.txt\", 'a')\n",
    "data = '웅노노 \\n'\n",
    "f.write(data)\n",
    "f.close()"
   ]
  },
  {
   "cell_type": "code",
   "execution_count": null,
   "metadata": {},
   "outputs": [],
   "source": [
    "with open(\"./test1/test.txt\", \"a\") as f:\n",
    "    data = '웅노노 \\n'\n",
    "    f.write(data)"
   ]
  },
  {
   "cell_type": "markdown",
   "metadata": {},
   "source": [
    "### 4)파일 읽기"
   ]
  },
  {
   "cell_type": "markdown",
   "metadata": {},
   "source": [
    "##### 방법 1"
   ]
  },
  {
   "cell_type": "code",
   "execution_count": null,
   "metadata": {},
   "outputs": [],
   "source": [
    "f = open(\"./test1/test.txt\", 'r')\n",
    "line = f.readline()\n",
    "line2 = f.readline()\n",
    "line3 = f.readline()\n",
    "print(line)\n",
    "print(line2)\n",
    "print(line3)\n",
    "f.close()"
   ]
  },
  {
   "cell_type": "code",
   "execution_count": null,
   "metadata": {},
   "outputs": [],
   "source": [
    "with open('./test1/test.txt', 'r') as f:\n",
    "    line = f.readline()\n",
    "    line2 = f.readline()\n",
    "    line3 = f.readline()\n",
    "    print(line)\n",
    "    print(line2)\n",
    "    print(line3)"
   ]
  },
  {
   "cell_type": "markdown",
   "metadata": {},
   "source": [
    "#####  방법2"
   ]
  },
  {
   "cell_type": "code",
   "execution_count": null,
   "metadata": {},
   "outputs": [],
   "source": [
    "f = open(\"./test1/test.txt\", 'r')\n",
    "lines = f.readlines()\n",
    "for line in lines:\n",
    "    print(line)\n",
    "f.close()"
   ]
  },
  {
   "cell_type": "code",
   "execution_count": 2,
   "metadata": {
    "collapsed": true
   },
   "outputs": [
    {
     "name": "stdout",
     "output_type": "stream",
     "text": [
      "안녕하세요 글자를 써봅시다 \n",
      "\n",
      "웅노노 \n",
      "\n",
      "웅노노 \n",
      "\n",
      "웅노노 \n",
      "\n",
      "웅노노 \n",
      "\n",
      "웅노노 \n",
      "\n",
      "웅노노 \n",
      "\n",
      "웅노노 \n",
      "\n",
      "웅노노 \n",
      "\n",
      "웅노노 \n",
      "\n",
      "웅노노 \n",
      "\n",
      "웅노노 \n",
      "\n",
      "웅노노 \n",
      "\n",
      "웅노노 \n",
      "\n",
      "웅노노 \n",
      "\n",
      "웅노노 \n",
      "\n",
      "웅노노 \n",
      "\n",
      "웅노노 \n",
      "\n",
      "웅노노 \n",
      "\n",
      "웅노노 \n",
      "\n",
      "웅노노 \n",
      "\n"
     ]
    }
   ],
   "source": [
    "with open('./test1/test.txt', 'r') as f:\n",
    "    lines = f.readlines()\n",
    "    for line in lines:\n",
    "        print(line)"
   ]
  },
  {
   "cell_type": "markdown",
   "metadata": {},
   "source": [
    "##### 방법3"
   ]
  },
  {
   "cell_type": "code",
   "execution_count": null,
   "metadata": {},
   "outputs": [],
   "source": [
    "f = open(\"./test1/test.txt\", 'r')\n",
    "data = f.read()\n",
    "print(data)\n",
    "f.close()"
   ]
  },
  {
   "cell_type": "code",
   "execution_count": 3,
   "metadata": {
    "collapsed": true
   },
   "outputs": [
    {
     "name": "stdout",
     "output_type": "stream",
     "text": [
      "안녕하세요 글자를 써봅시다 \n",
      "웅노노 \n",
      "웅노노 \n",
      "웅노노 \n",
      "웅노노 \n",
      "웅노노 \n",
      "웅노노 \n",
      "웅노노 \n",
      "웅노노 \n",
      "웅노노 \n",
      "웅노노 \n",
      "웅노노 \n",
      "웅노노 \n",
      "웅노노 \n",
      "웅노노 \n",
      "웅노노 \n",
      "웅노노 \n",
      "웅노노 \n",
      "웅노노 \n",
      "웅노노 \n",
      "웅노노 \n",
      "\n"
     ]
    }
   ],
   "source": [
    "with open('./test1/test.txt', 'r') as f:\n",
    "    data = f.read()\n",
    "    print(data)"
   ]
  },
  {
   "cell_type": "markdown",
   "metadata": {},
   "source": [
    "# pickle"
   ]
  },
  {
   "cell_type": "code",
   "execution_count": null,
   "metadata": {},
   "outputs": [],
   "source": [
    "import pickle"
   ]
  },
  {
   "cell_type": "code",
   "execution_count": null,
   "metadata": {},
   "outputs": [],
   "source": [
    "# 파일 저장하기\n",
    "with open('./test1/test.txt', 'wb') as f:\n",
    "    users = {'kim':'3kid9', 'sun80':'393948', 'ljm':'py90390'}\n",
    "    pickle.dump(users,f)"
   ]
  },
  {
   "cell_type": "code",
   "execution_count": null,
   "metadata": {},
   "outputs": [],
   "source": [
    "# 파일 불러오기\n",
    "with open('./test1/test.txt', 'rb') as f:\n",
    "    data = pickle.load(f)\n",
    "    print(data)"
   ]
  },
  {
   "cell_type": "markdown",
   "metadata": {},
   "source": [
    "# csv 파일 읽고 쓰기 "
   ]
  },
  {
   "cell_type": "markdown",
   "metadata": {},
   "source": [
    "### csv 파일 읽기"
   ]
  },
  {
   "cell_type": "code",
   "execution_count": 3,
   "metadata": {},
   "outputs": [],
   "source": [
    "import csv"
   ]
  },
  {
   "cell_type": "code",
   "execution_count": 1,
   "metadata": {},
   "outputs": [],
   "source": [
    "csv_file_path = 'C:/Users/Suhan/Desktop/work/cp949/cp949.csv'"
   ]
  },
  {
   "cell_type": "code",
   "execution_count": 11,
   "metadata": {},
   "outputs": [],
   "source": [
    "info = {}\n",
    "with open(csv_file_path, 'r', encoding='utf-8') as meta_f:\n",
    "    reader = csv.reader(meta_f)\n",
    "    for line in reader:\n",
    "        num = line[0].replace('\\ufeff','')\n",
    "        info[num] = line[1].strip()"
   ]
  },
  {
   "cell_type": "code",
   "execution_count": 12,
   "metadata": {},
   "outputs": [
    {
     "data": {
      "text/plain": [
       "{'1': '너나없이 바쁜 일을 접어 두고는 모두들 한데 어우러져 춤추고 노래 부르며 얼근히 술에 취했다.',\n",
       " '2': '그 때, 베로나의 영주 에스칼루스 왕자가 말을 타고 달려왔다.'}"
      ]
     },
     "execution_count": 12,
     "metadata": {},
     "output_type": "execute_result"
    }
   ],
   "source": [
    "info"
   ]
  }
 ],
 "metadata": {
  "kernelspec": {
   "display_name": "Python 3",
   "language": "python",
   "name": "python3"
  },
  "language_info": {
   "codemirror_mode": {
    "name": "ipython",
    "version": 3
   },
   "file_extension": ".py",
   "mimetype": "text/x-python",
   "name": "python",
   "nbconvert_exporter": "python",
   "pygments_lexer": "ipython3",
   "version": "3.6.6"
  }
 },
 "nbformat": 4,
 "nbformat_minor": 2
}
