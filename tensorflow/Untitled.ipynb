{
 "cells": [
  {
   "cell_type": "code",
   "execution_count": 15,
   "metadata": {},
   "outputs": [
    {
     "name": "stdout",
     "output_type": "stream",
     "text": [
      "# packages in environment at C:\\Users\\jsh\\Anaconda3\\envs\\tens2:\n",
      "#\n",
      "# Name                    Version                   Build  Channel\n",
      "absl-py                   0.7.1                     <pip>\n",
      "astor                     0.7.1                     <pip>\n",
      "attrs                     19.1.0                   py37_1  \n",
      "backcall                  0.1.0                    py37_0  \n",
      "bleach                    3.1.0                    py37_0  \n",
      "ca-certificates           2019.1.23                     0  \n",
      "certifi                   2019.3.9                 py37_0  \n",
      "colorama                  0.4.1                    py37_0  \n",
      "decorator                 4.4.0                    py37_1  \n",
      "defusedxml                0.6.0                      py_0  \n",
      "entrypoints               0.3                      py37_0  \n",
      "gast                      0.2.2                     <pip>\n",
      "google-pasta              0.1.5                     <pip>\n",
      "grpcio                    1.20.1                    <pip>\n",
      "h5py                      2.9.0                     <pip>\n",
      "icu                       58.2                 ha66f8fd_1  \n",
      "ipykernel                 5.1.0            py37h39e3cac_0  \n",
      "ipython                   7.5.0            py37h39e3cac_0  \n",
      "ipython_genutils          0.2.0                    py37_0  \n",
      "ipywidgets                7.4.2                    py37_0  \n",
      "jedi                      0.13.3                   py37_0  \n",
      "jinja2                    2.10.1                   py37_0  \n",
      "jpeg                      9b                   hb83a4c4_2  \n",
      "jsonschema                3.0.1                    py37_0  \n",
      "jupyter                   1.0.0                    py37_7  \n",
      "jupyter_client            5.2.4                    py37_0  \n",
      "jupyter_console           6.0.0                    py37_0  \n",
      "jupyter_core              4.4.0                    py37_0  \n",
      "Keras-Applications        1.0.7                     <pip>\n",
      "Keras-Preprocessing       1.0.9                     <pip>\n",
      "libpng                    1.6.37               h2a8f88b_0  \n",
      "libsodium                 1.0.16               h9d3ae62_0  \n",
      "m2w64-gcc-libgfortran     5.3.0                         6  \n",
      "m2w64-gcc-libs            5.3.0                         7  \n",
      "m2w64-gcc-libs-core       5.3.0                         7  \n",
      "m2w64-gmp                 6.1.0                         2  \n",
      "m2w64-libwinpthread-git   5.0.0.4634.697f757               2  \n",
      "Markdown                  3.1                       <pip>\n",
      "markupsafe                1.1.1            py37he774522_0  \n",
      "mistune                   0.8.4            py37he774522_0  \n",
      "msys2-conda-epoch         20160418                      1  \n",
      "nbconvert                 5.4.1                    py37_3  \n",
      "nbformat                  4.4.0                    py37_0  \n",
      "notebook                  5.7.8                    py37_0  \n",
      "numpy                     1.16.3                    <pip>\n",
      "openssl                   1.1.1b               he774522_1  \n",
      "pandoc                    2.2.3.2                       0  \n",
      "pandocfilters             1.4.2                    py37_1  \n",
      "parso                     0.4.0                      py_0  \n",
      "pickleshare               0.7.5                    py37_0  \n",
      "pip                       19.1                     py37_0  \n",
      "prometheus_client         0.6.0                    py37_0  \n",
      "prompt_toolkit            2.0.9                    py37_0  \n",
      "protobuf                  3.7.1                     <pip>\n",
      "pygments                  2.3.1                    py37_0  \n",
      "pyqt                      5.9.2            py37h6538335_2  \n",
      "pyrsistent                0.14.11          py37he774522_0  \n",
      "python                    3.7.3                h8c8aaf0_1  \n",
      "python-dateutil           2.8.0                    py37_0  \n",
      "pywinpty                  0.5.5                 py37_1000  \n",
      "pyzmq                     18.0.0           py37ha925a31_0  \n",
      "qt                        5.9.7            vc14h73c81de_0  \n",
      "qtconsole                 4.4.3                    py37_0  \n",
      "send2trash                1.5.0                    py37_0  \n",
      "setuptools                41.0.0                   py37_0  \n",
      "sip                       4.19.8           py37h6538335_0  \n",
      "six                       1.12.0                   py37_0  \n",
      "sqlite                    3.28.0               he774522_0  \n",
      "tb-nightly                1.14.0a20190301           <pip>\n",
      "tensorflow                2.0.0a0                   <pip>\n",
      "tensorflow-gpu            2.0.0a0                   <pip>\n",
      "termcolor                 1.1.0                     <pip>\n",
      "terminado                 0.8.2                    py37_0  \n",
      "testpath                  0.4.2                    py37_0  \n",
      "tf-estimator-nightly      1.14.0.dev2019030115           <pip>\n",
      "tornado                   6.0.2            py37he774522_0  \n",
      "traitlets                 4.3.2                    py37_0  \n",
      "vc                        14.1                 h0510ff6_4  \n",
      "vs2015_runtime            14.15.26706          h3a45250_0  \n",
      "wcwidth                   0.1.7                    py37_0  \n",
      "webencodings              0.5.1                    py37_1  \n",
      "Werkzeug                  0.15.2                    <pip>\n",
      "wheel                     0.33.1                   py37_0  \n",
      "widgetsnbextension        3.4.2                    py37_0  \n",
      "wincertstore              0.2                      py37_0  \n",
      "winpty                    0.4.3                         4  \n",
      "zeromq                    4.3.1                h33f27b4_3  \n",
      "zlib                      1.2.11               h62dcd97_3  \n"
     ]
    }
   ],
   "source": [
    "!conda list"
   ]
  },
  {
   "cell_type": "code",
   "execution_count": 12,
   "metadata": {},
   "outputs": [
    {
     "name": "stdout",
     "output_type": "stream",
     "text": [
      "Collecting tensorflow==2.0.0-alpha0\n",
      "  Using cached https://files.pythonhosted.org/packages/c7/90/cf5e7fbf4a3c14b314e1ed6571eae1f9ad3b5e32a4e24b2b817466435a21/tensorflow-2.0.0a0-cp37-cp37m-win_amd64.whl\n",
      "Requirement already satisfied: tb-nightly<1.14.0a20190302,>=1.14.0a20190301 in c:\\users\\jsh\\anaconda3\\envs\\tens2\\lib\\site-packages (from tensorflow==2.0.0-alpha0) (1.14.0a20190301)\n",
      "Requirement already satisfied: tf-estimator-nightly<1.14.0.dev2019030116,>=1.14.0.dev2019030115 in c:\\users\\jsh\\anaconda3\\envs\\tens2\\lib\\site-packages (from tensorflow==2.0.0-alpha0) (1.14.0.dev2019030115)\n",
      "Requirement already satisfied: keras-preprocessing>=1.0.5 in c:\\users\\jsh\\anaconda3\\envs\\tens2\\lib\\site-packages (from tensorflow==2.0.0-alpha0) (1.0.9)\n",
      "Requirement already satisfied: termcolor>=1.1.0 in c:\\users\\jsh\\anaconda3\\envs\\tens2\\lib\\site-packages (from tensorflow==2.0.0-alpha0) (1.1.0)\n",
      "Requirement already satisfied: google-pasta>=0.1.2 in c:\\users\\jsh\\anaconda3\\envs\\tens2\\lib\\site-packages (from tensorflow==2.0.0-alpha0) (0.1.5)\n",
      "Requirement already satisfied: numpy<2.0,>=1.14.5 in c:\\users\\jsh\\anaconda3\\envs\\tens2\\lib\\site-packages (from tensorflow==2.0.0-alpha0) (1.16.3)\n",
      "Requirement already satisfied: wheel>=0.26 in c:\\users\\jsh\\anaconda3\\envs\\tens2\\lib\\site-packages (from tensorflow==2.0.0-alpha0) (0.33.1)\n",
      "Requirement already satisfied: protobuf>=3.6.1 in c:\\users\\jsh\\anaconda3\\envs\\tens2\\lib\\site-packages (from tensorflow==2.0.0-alpha0) (3.7.1)\n",
      "Requirement already satisfied: grpcio>=1.8.6 in c:\\users\\jsh\\anaconda3\\envs\\tens2\\lib\\site-packages (from tensorflow==2.0.0-alpha0) (1.20.1)\n",
      "Requirement already satisfied: six>=1.10.0 in c:\\users\\jsh\\anaconda3\\envs\\tens2\\lib\\site-packages (from tensorflow==2.0.0-alpha0) (1.12.0)\n",
      "Requirement already satisfied: gast>=0.2.0 in c:\\users\\jsh\\anaconda3\\envs\\tens2\\lib\\site-packages (from tensorflow==2.0.0-alpha0) (0.2.2)\n",
      "Requirement already satisfied: absl-py>=0.7.0 in c:\\users\\jsh\\anaconda3\\envs\\tens2\\lib\\site-packages (from tensorflow==2.0.0-alpha0) (0.7.1)\n",
      "Requirement already satisfied: keras-applications>=1.0.6 in c:\\users\\jsh\\anaconda3\\envs\\tens2\\lib\\site-packages (from tensorflow==2.0.0-alpha0) (1.0.7)\n",
      "Requirement already satisfied: astor>=0.6.0 in c:\\users\\jsh\\anaconda3\\envs\\tens2\\lib\\site-packages (from tensorflow==2.0.0-alpha0) (0.7.1)\n",
      "Requirement already satisfied: markdown>=2.6.8 in c:\\users\\jsh\\anaconda3\\envs\\tens2\\lib\\site-packages (from tb-nightly<1.14.0a20190302,>=1.14.0a20190301->tensorflow==2.0.0-alpha0) (3.1)\n",
      "Requirement already satisfied: werkzeug>=0.11.15 in c:\\users\\jsh\\anaconda3\\envs\\tens2\\lib\\site-packages (from tb-nightly<1.14.0a20190302,>=1.14.0a20190301->tensorflow==2.0.0-alpha0) (0.15.2)\n",
      "Requirement already satisfied: setuptools in c:\\users\\jsh\\anaconda3\\envs\\tens2\\lib\\site-packages (from protobuf>=3.6.1->tensorflow==2.0.0-alpha0) (41.0.0)\n",
      "Requirement already satisfied: h5py in c:\\users\\jsh\\anaconda3\\envs\\tens2\\lib\\site-packages (from keras-applications>=1.0.6->tensorflow==2.0.0-alpha0) (2.9.0)\n",
      "Installing collected packages: tensorflow\n",
      "Successfully installed tensorflow-2.0.0a0\n"
     ]
    }
   ],
   "source": [
    "!pip install tensorflow==2.0.0-alpha0"
   ]
  },
  {
   "cell_type": "code",
   "execution_count": 13,
   "metadata": {},
   "outputs": [],
   "source": [
    "import tensorflow as tf"
   ]
  },
  {
   "cell_type": "code",
   "execution_count": 14,
   "metadata": {},
   "outputs": [
    {
     "data": {
      "text/plain": [
       "'2.0.0-alpha0'"
      ]
     },
     "execution_count": 14,
     "metadata": {},
     "output_type": "execute_result"
    }
   ],
   "source": [
    "tf.__version__"
   ]
  },
  {
   "cell_type": "code",
   "execution_count": 4,
   "metadata": {},
   "outputs": [
    {
     "name": "stdout",
     "output_type": "stream",
     "text": [
      "Extracting MNIST_data_2/train-images-idx3-ubyte.gz\n",
      "Extracting MNIST_data_2/train-labels-idx1-ubyte.gz\n",
      "Extracting MNIST_data_2/t10k-images-idx3-ubyte.gz\n",
      "Extracting MNIST_data_2/t10k-labels-idx1-ubyte.gz\n",
      "Download Done!\n",
      "Accuarcy on Test-dataset:  0.9194\n",
      "C:\\Users\\jsh\\dev\\python\\study_py\n",
      "Model saved in file:  ./mmd/minist_softmax.ckpt\n"
     ]
    }
   ],
   "source": [
    "import tensorflow as tf\n",
    "from tensorflow.examples.tutorials.mnist import input_data\n",
    "\n",
    "mnist = input_data.read_data_sets(\"MNIST_data_2/\", one_hot=True)\n",
    "print(\"Download Done!\")\n",
    "\n",
    "x = tf.placeholder(tf.float32, [None, 784])\n",
    "\n",
    "# paras\n",
    "W = tf.Variable(tf.zeros([784, 10]))\n",
    "b = tf.Variable(tf.zeros([10]))\n",
    "\n",
    "y = tf.nn.softmax(tf.matmul(x, W) + b)\n",
    "y_ = tf.placeholder(tf.float32, [None, 10])\n",
    "\n",
    "# loss func\n",
    "cross_entropy = -tf.reduce_sum(y_ * tf.log(y))\n",
    "train_step = tf.train.GradientDescentOptimizer(0.01).minimize(cross_entropy)\n",
    "\n",
    "# init\n",
    "init = tf.initialize_all_variables()\n",
    "\n",
    "sess = tf.Session()\n",
    "sess.run(init)\n",
    "\n",
    "# train \n",
    "for i in range(1000):\n",
    "    batch_xs, batch_ys = mnist.train.next_batch(100)\n",
    "    sess.run(train_step, feed_dict={x: batch_xs, y_: batch_ys})\n",
    "\n",
    "correct_prediction = tf.equal(tf.arg_max(y, 1), tf.arg_max(y_, 1))\n",
    "accuracy = tf.reduce_mean(tf.cast(correct_prediction, \"float\"))\n",
    "\n",
    "print(\"Accuarcy on Test-dataset: \", sess.run(accuracy, feed_dict={x:        mnist.test.images, y_: mnist.test.labels}))\n",
    "\n",
    "# save model \n",
    "saver = tf.train.Saver()\n",
    "save_path = saver.save(sess, \"./mmd/minist_softmax.ckpt\")\n",
    "\n",
    "import os\n",
    "print (os.getcwd())\n",
    "print(\"Model saved in file: \", save_path)"
   ]
  },
  {
   "cell_type": "code",
   "execution_count": 6,
   "metadata": {},
   "outputs": [
    {
     "name": "stdout",
     "output_type": "stream",
     "text": [
      "INFO:tensorflow:Restoring parameters from ./mmd/minist_softmax.ckpt\n",
      "[0.1 0.1 0.1 0.1 0.1 0.1 0.1 0.1 0.1 0.1]\n"
     ]
    }
   ],
   "source": [
    "from PIL import Image\n",
    "from numpy import *\n",
    "import tensorflow as tf\n",
    "import sys\n",
    "\n",
    "im=Image.open(\"./mmd/MNIST_test_image.jpg\")\n",
    "img = array(im.resize((28, 28), Image.ANTIALIAS).convert(\"L\"))\n",
    "data = img.reshape([1, 784])\n",
    "\n",
    "x = tf.placeholder(tf.float32, [None, 784])\n",
    "W = tf.Variable(tf.zeros([784, 10]))\n",
    "b = tf.Variable(tf.zeros([10]))\n",
    "\n",
    "y = tf.nn.softmax(tf.matmul(x, W) + b)\n",
    "\n",
    "saver = tf.train.Saver()\n",
    "init_op = tf.global_variables_initializer()\n",
    "\n",
    "with tf.Session() as sess:\n",
    "    sess.run(init_op)\n",
    "    save_path = \"./mmd/minist_softmax.ckpt\"\n",
    "    saver.restore(sess, save_path)\n",
    "    predictions = sess.run(y, feed_dict={x: data})\n",
    "    print(predictions[0]);"
   ]
  },
  {
   "cell_type": "code",
   "execution_count": 8,
   "metadata": {},
   "outputs": [
    {
     "data": {
      "text/plain": [
       "(1, 784)"
      ]
     },
     "execution_count": 8,
     "metadata": {},
     "output_type": "execute_result"
    }
   ],
   "source": [
    "data.shape"
   ]
  }
 ],
 "metadata": {
  "kernelspec": {
   "display_name": "Python 3",
   "language": "python",
   "name": "python3"
  },
  "language_info": {
   "codemirror_mode": {
    "name": "ipython",
    "version": 3
   },
   "file_extension": ".py",
   "mimetype": "text/x-python",
   "name": "python",
   "nbconvert_exporter": "python",
   "pygments_lexer": "ipython3",
   "version": "3.7.3"
  }
 },
 "nbformat": 4,
 "nbformat_minor": 2
}
