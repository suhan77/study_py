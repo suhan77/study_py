{
 "cells": [
  {
   "cell_type": "code",
   "execution_count": 1,
   "metadata": {},
   "outputs": [],
   "source": [
    "import tensorflow as tf"
   ]
  },
  {
   "cell_type": "code",
   "execution_count": 2,
   "metadata": {},
   "outputs": [
    {
     "name": "stdout",
     "output_type": "stream",
     "text": [
      "WARNING:tensorflow:From C:\\Users\\jsh\\AppData\\Local\\conda\\conda\\envs\\tens\\lib\\site-packages\\tensorflow\\python\\framework\\op_def_library.py:263: colocate_with (from tensorflow.python.framework.ops) is deprecated and will be removed in a future version.\n",
      "Instructions for updating:\n",
      "Colocations handled automatically by placer.\n"
     ]
    }
   ],
   "source": [
    "# 변수 정의\n",
    "\n",
    "W = tf.Variable(tf.random_normal(shape=[1]), name='w')\n",
    "b = tf.Variable(tf.random_normal(shape=[1]), name='b')\n",
    "x = tf.placeholder(tf.float32, name='x')\n",
    "linear_model = W*x + b\n",
    "\n",
    "y = tf.placeholder(tf.float32, name='y')"
   ]
  },
  {
   "cell_type": "code",
   "execution_count": 4,
   "metadata": {},
   "outputs": [
    {
     "data": {
      "text/plain": [
       "<tf.Tensor 'loss:0' shape=() dtype=string>"
      ]
     },
     "execution_count": 4,
     "metadata": {},
     "output_type": "execute_result"
    }
   ],
   "source": [
    "# 솔심함수 정의\n",
    "loss = tf.reduce_mean(tf.square(linear_model - y)) # root mean square\n",
    "\n",
    "# 텐서보드에 loss 값 저장\n",
    "tf.summary.scalar('loss', loss)"
   ]
  },
  {
   "cell_type": "code",
   "execution_count": 5,
   "metadata": {},
   "outputs": [
    {
     "name": "stdout",
     "output_type": "stream",
     "text": [
      "WARNING:tensorflow:From C:\\Users\\jsh\\AppData\\Local\\conda\\conda\\envs\\tens\\lib\\site-packages\\tensorflow\\python\\ops\\math_ops.py:3066: to_int32 (from tensorflow.python.ops.math_ops) is deprecated and will be removed in a future version.\n",
      "Instructions for updating:\n",
      "Use tf.cast instead.\n"
     ]
    }
   ],
   "source": [
    "optimizer = tf.train.GradientDescentOptimizer(0.01) # 경사하강법\n",
    "train_step = optimizer.minimize(loss) # 최적화"
   ]
  },
  {
   "cell_type": "code",
   "execution_count": 10,
   "metadata": {},
   "outputs": [],
   "source": [
    "# test 데이터\n",
    "x_train = [1, 2, 3, 4]\n",
    "y_train = [2, 4, 6, 8]"
   ]
  },
  {
   "cell_type": "code",
   "execution_count": 7,
   "metadata": {},
   "outputs": [],
   "source": [
    "# w, b (Varibale) 값 초기화\n",
    "sess = tf.Session()\n",
    "sess.run(tf.global_variables_initializer())"
   ]
  },
  {
   "cell_type": "code",
   "execution_count": 8,
   "metadata": {},
   "outputs": [],
   "source": [
    "# 모든 데이터 합침\n",
    "merged = tf.summary.merge_all()\n",
    "\n",
    "# 경로 지정\n",
    "tensorboard_writer = tf.summary.FileWriter('./tensor_board/tensorboard_log', sess.graph)"
   ]
  },
  {
   "cell_type": "code",
   "execution_count": 12,
   "metadata": {},
   "outputs": [],
   "source": [
    "# 경사하강법 1000번 수행\n",
    "for i in range(1000):\n",
    "    sess.run(train_step, feed_dict={x:x_train, y : y_train})\n",
    "    \n",
    "    # 텐서보드에 저장\n",
    "    summary = sess.run(merged, feed_dict={x : x_train, y : y_train}) # 데이터 merge\n",
    "    tensorboard_writer.add_summary(summary, i) # tensorboard 경로에 저장"
   ]
  },
  {
   "cell_type": "code",
   "execution_count": 13,
   "metadata": {},
   "outputs": [
    {
     "name": "stdout",
     "output_type": "stream",
     "text": [
      "[ 6.999345  9.997588 10.997004 11.996418]\n"
     ]
    }
   ],
   "source": [
    "# 테스트하기\n",
    "\n",
    "x_test = [3.5, 5, 5.5, 6]\n",
    "print(sess.run(linear_model, feed_dict={x:x_test}))\n",
    "\n",
    "sess.close()"
   ]
  },
  {
   "cell_type": "markdown",
   "metadata": {},
   "source": [
    "### tensor board 여는법\n",
    "\n",
    "tensorboard --logdir=텐서보드 디렉터리경로\n",
    "\n",
    "http://localhost:6006"
   ]
  }
 ],
 "metadata": {
  "kernelspec": {
   "display_name": "Python 3",
   "language": "python",
   "name": "python3"
  },
  "language_info": {
   "codemirror_mode": {
    "name": "ipython",
    "version": 3
   },
   "file_extension": ".py",
   "mimetype": "text/x-python",
   "name": "python",
   "nbconvert_exporter": "python",
   "pygments_lexer": "ipython3",
   "version": "3.7.2"
  }
 },
 "nbformat": 4,
 "nbformat_minor": 2
}
