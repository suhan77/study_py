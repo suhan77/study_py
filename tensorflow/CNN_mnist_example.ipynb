{
 "cells": [
  {
   "cell_type": "code",
   "execution_count": 1,
   "metadata": {},
   "outputs": [],
   "source": [
    "import tensorflow as tf"
   ]
  },
  {
   "cell_type": "code",
   "execution_count": 5,
   "metadata": {
    "scrolled": true
   },
   "outputs": [
    {
     "name": "stdout",
     "output_type": "stream",
     "text": [
      "WARNING:tensorflow:From <ipython-input-5-d63f79221b26>:3: read_data_sets (from tensorflow.contrib.learn.python.learn.datasets.mnist) is deprecated and will be removed in a future version.\n",
      "Instructions for updating:\n",
      "Please use alternatives such as official/mnist/dataset.py from tensorflow/models.\n",
      "WARNING:tensorflow:From C:\\Users\\jsh\\Anaconda3\\envs\\tens\\lib\\site-packages\\tensorflow\\contrib\\learn\\python\\learn\\datasets\\mnist.py:260: maybe_download (from tensorflow.contrib.learn.python.learn.datasets.base) is deprecated and will be removed in a future version.\n",
      "Instructions for updating:\n",
      "Please write your own downloading logic.\n",
      "WARNING:tensorflow:From C:\\Users\\jsh\\Anaconda3\\envs\\tens\\lib\\site-packages\\tensorflow\\contrib\\learn\\python\\learn\\datasets\\mnist.py:262: extract_images (from tensorflow.contrib.learn.python.learn.datasets.mnist) is deprecated and will be removed in a future version.\n",
      "Instructions for updating:\n",
      "Please use tf.data to implement this functionality.\n",
      "Extracting /tmp/data/train-images-idx3-ubyte.gz\n",
      "WARNING:tensorflow:From C:\\Users\\jsh\\Anaconda3\\envs\\tens\\lib\\site-packages\\tensorflow\\contrib\\learn\\python\\learn\\datasets\\mnist.py:267: extract_labels (from tensorflow.contrib.learn.python.learn.datasets.mnist) is deprecated and will be removed in a future version.\n",
      "Instructions for updating:\n",
      "Please use tf.data to implement this functionality.\n",
      "Extracting /tmp/data/train-labels-idx1-ubyte.gz\n",
      "WARNING:tensorflow:From C:\\Users\\jsh\\Anaconda3\\envs\\tens\\lib\\site-packages\\tensorflow\\contrib\\learn\\python\\learn\\datasets\\mnist.py:110: dense_to_one_hot (from tensorflow.contrib.learn.python.learn.datasets.mnist) is deprecated and will be removed in a future version.\n",
      "Instructions for updating:\n",
      "Please use tf.one_hot on tensors.\n",
      "Extracting /tmp/data/t10k-images-idx3-ubyte.gz\n",
      "Extracting /tmp/data/t10k-labels-idx1-ubyte.gz\n",
      "WARNING:tensorflow:From C:\\Users\\jsh\\Anaconda3\\envs\\tens\\lib\\site-packages\\tensorflow\\contrib\\learn\\python\\learn\\datasets\\mnist.py:290: DataSet.__init__ (from tensorflow.contrib.learn.python.learn.datasets.mnist) is deprecated and will be removed in a future version.\n",
      "Instructions for updating:\n",
      "Please use alternatives such as official/mnist/dataset.py from tensorflow/models.\n"
     ]
    }
   ],
   "source": [
    "# MNIST 데이터 다운\n",
    "from tensorflow.examples.tutorials.mnist import input_data\n",
    "mnist = input_data.read_data_sets(\"./data/\", one_hot=True)"
   ]
  },
  {
   "cell_type": "code",
   "execution_count": 6,
   "metadata": {},
   "outputs": [],
   "source": [
    "# CNN 모델 정의\n",
    "def build_CNN_classifier(x):\n",
    "    x_image = tf.reshape(x, [-1, 28, 28, 1])\n",
    "    \n",
    "    # 1st convolution layer\n",
    "    # kernel 5 x 5 size 32개\n",
    "    # 28 x 28 x 1 -> 28 x 28 x 32\n",
    "    W_conv1 = tf.Variable(tf.truncated_normal(shape=[5, 5, 1, 32], stddev=5e-2))\n",
    "    b_conv1 = tf.Variable(tf.constant(0.1, shape=[32]))\n",
    "    h_conv1 = tf.nn.relu(tf.nn.conv2d(x_image, W_conv1, strides=[1, 1, 1, 1], padding='SAME') + b_conv1)\n",
    "    \n",
    "    # 1st pooling layer\n",
    "    # 28 x 28 x 31 -> 14 x 14 x 32\n",
    "    h_pool1 = tf.nn.max_pool(h_conv1, ksize=[1, 2, 2, 1], strides=[1, 2, 2, 1], padding='SAME')\n",
    "    \n",
    "    # 2nd convolution layer\n",
    "    # kernel 5 x 5 size 64개\n",
    "    # 14 x 14 x 32 -> 14 x 14 x 64\n",
    "    W_conv2 = tf.Variable(tf.truncated_normal(shape=[5, 5, 32, 64], stddev=5e-2))\n",
    "    b_conv2 = tf.Variable(tf.constant(0.1, shape=[64]))\n",
    "    h_conv2 = tf.nn.relu(tf.nn.conv2d(h_pool1, W_conv2, strides=[1, 1, 1, 1], padding='SAME') + b_conv2)\n",
    "    \n",
    "    # 2nd pooling layer\n",
    "    # 14 x 14 x 64 -> 7 x 7 x 64\n",
    "    h_pool2 = tf.nn.max_pool(h_conv2, ksize=[1, 2, 2, 1], strides=[1, 2, 2, 1], padding='SAME')\n",
    "    \n",
    "    # 완전연결층\n",
    "    # 7 x 7 x 64 (3136) -> 1024\n",
    "    W_fc1 = tf.Variable(tf.truncated_normal(shape=[7*7*64, 1024], stddev=5e-2))\n",
    "    b_fc1 = tf.Variable(tf.constant(0.1, shape=[1024]))\n",
    "    h_pool2_flat = tf.reshape(h_pool2, [-1, 7*7*64])\n",
    "    h_fc1 = tf.nn.relu(tf.matmul(h_pool2_flat, W_fc1) + b_fc1)\n",
    "    \n",
    "    # 출력층\n",
    "    # 1024 -> 10\n",
    "    W_output = tf.Variable(tf.truncated_normal(shape=[1024, 10]))\n",
    "    b_output = tf.Variable(tf.constant(0.1, shape=[10]))\n",
    "    logits = tf.matmul(h_fc1, W_output) + b_output\n",
    "    y_pred = tf.nn.softmax(logits)\n",
    "    \n",
    "    return y_pred, logits"
   ]
  },
  {
   "cell_type": "code",
   "execution_count": 7,
   "metadata": {},
   "outputs": [],
   "source": [
    "# 인풋, 아웃풋 데이터\n",
    "x = tf.placeholder(tf.float32, shape=[None, 784])\n",
    "y = tf.placeholder(tf.float32, shape=[None, 10])\n",
    "\n",
    "# cnn 선언\n",
    "y_pred, logits = build_CNN_classifier(x)\n",
    "\n",
    "# cross entropy 손실함수, 옵티마이저 정의\n",
    "loss = tf.reduce_mean(tf.nn.softmax_cross_entropy_with_logits(labels=y, logits=logits))\n",
    "train_step = tf.train.AdamOptimizer(1e-4).minimize(loss)"
   ]
  },
  {
   "cell_type": "code",
   "execution_count": 8,
   "metadata": {},
   "outputs": [],
   "source": [
    "# 정확도를 계산하는 연산\n",
    "correct_prediction = tf.equal(tf.argmax(y_pred, 1), tf.argmax(y, 1))\n",
    "accuracy = tf.reduce_mean(tf.cast(correct_prediction, tf.float32))"
   ]
  },
  {
   "cell_type": "code",
   "execution_count": 10,
   "metadata": {
    "scrolled": true
   },
   "outputs": [
    {
     "name": "stdout",
     "output_type": "stream",
     "text": [
      "반복(epoch) : 0, 트레이닝 데이터 정확도 : 0.120000\n",
      "반복(epoch) : 100, 트레이닝 데이터 정확도 : 0.700000\n",
      "반복(epoch) : 200, 트레이닝 데이터 정확도 : 0.920000\n",
      "반복(epoch) : 300, 트레이닝 데이터 정확도 : 0.840000\n",
      "반복(epoch) : 400, 트레이닝 데이터 정확도 : 0.900000\n",
      "반복(epoch) : 500, 트레이닝 데이터 정확도 : 0.880000\n",
      "반복(epoch) : 600, 트레이닝 데이터 정확도 : 0.960000\n",
      "반복(epoch) : 700, 트레이닝 데이터 정확도 : 0.940000\n",
      "반복(epoch) : 800, 트레이닝 데이터 정확도 : 0.940000\n",
      "반복(epoch) : 900, 트레이닝 데이터 정확도 : 0.920000\n",
      "반복(epoch) : 1000, 트레이닝 데이터 정확도 : 1.000000\n",
      "반복(epoch) : 1100, 트레이닝 데이터 정확도 : 1.000000\n",
      "반복(epoch) : 1200, 트레이닝 데이터 정확도 : 1.000000\n",
      "반복(epoch) : 1300, 트레이닝 데이터 정확도 : 0.920000\n",
      "반복(epoch) : 1400, 트레이닝 데이터 정확도 : 0.980000\n",
      "반복(epoch) : 1500, 트레이닝 데이터 정확도 : 0.960000\n",
      "반복(epoch) : 1600, 트레이닝 데이터 정확도 : 0.920000\n",
      "반복(epoch) : 1700, 트레이닝 데이터 정확도 : 0.940000\n",
      "반복(epoch) : 1800, 트레이닝 데이터 정확도 : 1.000000\n",
      "반복(epoch) : 1900, 트레이닝 데이터 정확도 : 0.940000\n",
      "반복(epoch) : 2000, 트레이닝 데이터 정확도 : 0.960000\n",
      "반복(epoch) : 2100, 트레이닝 데이터 정확도 : 0.980000\n",
      "반복(epoch) : 2200, 트레이닝 데이터 정확도 : 0.940000\n",
      "반복(epoch) : 2300, 트레이닝 데이터 정확도 : 0.960000\n",
      "반복(epoch) : 2400, 트레이닝 데이터 정확도 : 0.980000\n",
      "반복(epoch) : 2500, 트레이닝 데이터 정확도 : 1.000000\n",
      "반복(epoch) : 2600, 트레이닝 데이터 정확도 : 0.960000\n",
      "반복(epoch) : 2700, 트레이닝 데이터 정확도 : 0.980000\n",
      "반복(epoch) : 2800, 트레이닝 데이터 정확도 : 0.980000\n",
      "반복(epoch) : 2900, 트레이닝 데이터 정확도 : 1.000000\n",
      "반복(epoch) : 3000, 트레이닝 데이터 정확도 : 1.000000\n",
      "반복(epoch) : 3100, 트레이닝 데이터 정확도 : 0.980000\n",
      "반복(epoch) : 3200, 트레이닝 데이터 정확도 : 0.980000\n",
      "반복(epoch) : 3300, 트레이닝 데이터 정확도 : 0.980000\n",
      "반복(epoch) : 3400, 트레이닝 데이터 정확도 : 0.980000\n",
      "반복(epoch) : 3500, 트레이닝 데이터 정확도 : 0.960000\n",
      "반복(epoch) : 3600, 트레이닝 데이터 정확도 : 0.980000\n",
      "반복(epoch) : 3700, 트레이닝 데이터 정확도 : 0.960000\n",
      "반복(epoch) : 3800, 트레이닝 데이터 정확도 : 0.980000\n",
      "반복(epoch) : 3900, 트레이닝 데이터 정확도 : 0.940000\n",
      "반복(epoch) : 4000, 트레이닝 데이터 정확도 : 0.960000\n",
      "반복(epoch) : 4100, 트레이닝 데이터 정확도 : 0.980000\n",
      "반복(epoch) : 4200, 트레이닝 데이터 정확도 : 0.980000\n",
      "반복(epoch) : 4300, 트레이닝 데이터 정확도 : 1.000000\n",
      "반복(epoch) : 4400, 트레이닝 데이터 정확도 : 0.980000\n",
      "반복(epoch) : 4500, 트레이닝 데이터 정확도 : 0.940000\n",
      "반복(epoch) : 4600, 트레이닝 데이터 정확도 : 1.000000\n",
      "반복(epoch) : 4700, 트레이닝 데이터 정확도 : 0.980000\n",
      "반복(epoch) : 4800, 트레이닝 데이터 정확도 : 0.980000\n",
      "반복(epoch) : 4900, 트레이닝 데이터 정확도 : 0.960000\n",
      "반복(epoch) : 5000, 트레이닝 데이터 정확도 : 0.980000\n",
      "반복(epoch) : 5100, 트레이닝 데이터 정확도 : 1.000000\n",
      "반복(epoch) : 5200, 트레이닝 데이터 정확도 : 0.980000\n",
      "반복(epoch) : 5300, 트레이닝 데이터 정확도 : 1.000000\n",
      "반복(epoch) : 5400, 트레이닝 데이터 정확도 : 0.980000\n",
      "반복(epoch) : 5500, 트레이닝 데이터 정확도 : 1.000000\n",
      "반복(epoch) : 5600, 트레이닝 데이터 정확도 : 1.000000\n",
      "반복(epoch) : 5700, 트레이닝 데이터 정확도 : 1.000000\n",
      "반복(epoch) : 5800, 트레이닝 데이터 정확도 : 0.960000\n",
      "반복(epoch) : 5900, 트레이닝 데이터 정확도 : 0.980000\n",
      "반복(epoch) : 6000, 트레이닝 데이터 정확도 : 1.000000\n",
      "반복(epoch) : 6100, 트레이닝 데이터 정확도 : 1.000000\n",
      "반복(epoch) : 6200, 트레이닝 데이터 정확도 : 1.000000\n",
      "반복(epoch) : 6300, 트레이닝 데이터 정확도 : 1.000000\n",
      "반복(epoch) : 6400, 트레이닝 데이터 정확도 : 0.980000\n",
      "반복(epoch) : 6500, 트레이닝 데이터 정확도 : 1.000000\n",
      "반복(epoch) : 6600, 트레이닝 데이터 정확도 : 1.000000\n",
      "반복(epoch) : 6700, 트레이닝 데이터 정확도 : 1.000000\n",
      "반복(epoch) : 6800, 트레이닝 데이터 정확도 : 1.000000\n",
      "반복(epoch) : 6900, 트레이닝 데이터 정확도 : 1.000000\n",
      "반복(epoch) : 7000, 트레이닝 데이터 정확도 : 1.000000\n",
      "반복(epoch) : 7100, 트레이닝 데이터 정확도 : 1.000000\n",
      "반복(epoch) : 7200, 트레이닝 데이터 정확도 : 0.960000\n",
      "반복(epoch) : 7300, 트레이닝 데이터 정확도 : 0.980000\n",
      "반복(epoch) : 7400, 트레이닝 데이터 정확도 : 0.960000\n",
      "반복(epoch) : 7500, 트레이닝 데이터 정확도 : 0.980000\n",
      "반복(epoch) : 7600, 트레이닝 데이터 정확도 : 1.000000\n",
      "반복(epoch) : 7700, 트레이닝 데이터 정확도 : 1.000000\n",
      "반복(epoch) : 7800, 트레이닝 데이터 정확도 : 1.000000\n",
      "반복(epoch) : 7900, 트레이닝 데이터 정확도 : 1.000000\n",
      "반복(epoch) : 8000, 트레이닝 데이터 정확도 : 1.000000\n",
      "반복(epoch) : 8100, 트레이닝 데이터 정확도 : 0.980000\n",
      "반복(epoch) : 8200, 트레이닝 데이터 정확도 : 0.980000\n",
      "반복(epoch) : 8300, 트레이닝 데이터 정확도 : 0.980000\n",
      "반복(epoch) : 8400, 트레이닝 데이터 정확도 : 1.000000\n",
      "반복(epoch) : 8500, 트레이닝 데이터 정확도 : 1.000000\n",
      "반복(epoch) : 8600, 트레이닝 데이터 정확도 : 1.000000\n",
      "반복(epoch) : 8700, 트레이닝 데이터 정확도 : 1.000000\n",
      "반복(epoch) : 8800, 트레이닝 데이터 정확도 : 0.980000\n",
      "반복(epoch) : 8900, 트레이닝 데이터 정확도 : 1.000000\n",
      "반복(epoch) : 9000, 트레이닝 데이터 정확도 : 1.000000\n",
      "반복(epoch) : 9100, 트레이닝 데이터 정확도 : 1.000000\n",
      "반복(epoch) : 9200, 트레이닝 데이터 정확도 : 1.000000\n",
      "반복(epoch) : 9300, 트레이닝 데이터 정확도 : 1.000000\n",
      "반복(epoch) : 9400, 트레이닝 데이터 정확도 : 1.000000\n",
      "반복(epoch) : 9500, 트레이닝 데이터 정확도 : 1.000000\n",
      "반복(epoch) : 9600, 트레이닝 데이터 정확도 : 1.000000\n",
      "반복(epoch) : 9700, 트레이닝 데이터 정확도 : 0.980000\n",
      "반복(epoch) : 9800, 트레이닝 데이터 정확도 : 1.000000\n",
      "반복(epoch) : 9900, 트레이닝 데이터 정확도 : 1.000000\n",
      "테스트 데이터 정확도 : 0.987800\n"
     ]
    }
   ],
   "source": [
    "# 세션을 열어 학습 진행\n",
    "with tf.Session() as sess:\n",
    "    sess.run(tf.global_variables_initializer())\n",
    "    \n",
    "    for i in range(10000):\n",
    "        batch = mnist.train.next_batch(50)\n",
    "        \n",
    "        if i % 100 == 0:\n",
    "            train_accuracy = accuracy.eval(feed_dict={x : batch[0], y : batch[1]})\n",
    "            print('반복(epoch) : %d, 트레이닝 데이터 정확도 : %f'%(i, train_accuracy))\n",
    "        \n",
    "        sess.run([train_step], feed_dict={x : batch[0], y : batch[1]})\n",
    "        \n",
    "    print('테스트 데이터 정확도 : %f' % (accuracy.eval(feed_dict={x : mnist.test.images, y : mnist.test.labels})))"
   ]
  },
  {
   "cell_type": "code",
   "execution_count": 48,
   "metadata": {},
   "outputs": [
    {
     "name": "stdout",
     "output_type": "stream",
     "text": [
      "6\n"
     ]
    }
   ],
   "source": [
    "with tf.Session() as sess:\n",
    "    \n",
    "#     correct_prediction = tf.equal(tf.argmax([1,1], 1), tf.argmax([1,1], 1))\n",
    "#     accuracy = tf.reduce_mean(tf.cast(correct_prediction, tf.float32))\n",
    "    print(sess.run(tf.argmax([1,1,2,3,4,5,6])))"
   ]
  }
 ],
 "metadata": {
  "kernelspec": {
   "display_name": "Python 3",
   "language": "python",
   "name": "python3"
  },
  "language_info": {
   "codemirror_mode": {
    "name": "ipython",
    "version": 3
   },
   "file_extension": ".py",
   "mimetype": "text/x-python",
   "name": "python",
   "nbconvert_exporter": "python",
   "pygments_lexer": "ipython3",
   "version": "3.7.3"
  }
 },
 "nbformat": 4,
 "nbformat_minor": 2
}
