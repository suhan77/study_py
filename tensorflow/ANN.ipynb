{
 "cells": [
  {
   "cell_type": "code",
   "execution_count": 1,
   "metadata": {},
   "outputs": [
    {
     "ename": "ModuleNotFoundError",
     "evalue": "No module named 'tensorflow.examples'",
     "output_type": "error",
     "traceback": [
      "\u001b[1;31m---------------------------------------------------------------------------\u001b[0m",
      "\u001b[1;31mModuleNotFoundError\u001b[0m                       Traceback (most recent call last)",
      "\u001b[1;32m<ipython-input-1-c2aaa1e81da4>\u001b[0m in \u001b[0;36m<module>\u001b[1;34m\u001b[0m\n\u001b[0;32m      1\u001b[0m \u001b[1;32mimport\u001b[0m \u001b[0mtensorflow\u001b[0m \u001b[1;32mas\u001b[0m \u001b[0mtf\u001b[0m\u001b[1;33m\u001b[0m\u001b[1;33m\u001b[0m\u001b[0m\n\u001b[1;32m----> 2\u001b[1;33m \u001b[1;32mfrom\u001b[0m \u001b[0mtensorflow\u001b[0m\u001b[1;33m.\u001b[0m\u001b[0mexamples\u001b[0m\u001b[1;33m.\u001b[0m\u001b[0mtutorials\u001b[0m\u001b[1;33m.\u001b[0m\u001b[0mmnist\u001b[0m \u001b[1;32mimport\u001b[0m \u001b[0minput_data\u001b[0m\u001b[1;33m\u001b[0m\u001b[1;33m\u001b[0m\u001b[0m\n\u001b[0m",
      "\u001b[1;31mModuleNotFoundError\u001b[0m: No module named 'tensorflow.examples'"
     ]
    }
   ],
   "source": [
    "import tensorflow as tf\n",
    "from tensorflow.examples.tutorials.mnist import input_data"
   ]
  },
  {
   "cell_type": "code",
   "execution_count": null,
   "metadata": {
    "scrolled": true
   },
   "outputs": [],
   "source": [
    "mnist = input_data.read_data_sets(\"/temp/data/\", one_hot=True)"
   ]
  },
  {
   "cell_type": "code",
   "execution_count": 3,
   "metadata": {},
   "outputs": [],
   "source": [
    "# 하이퍼 파라미터\n",
    "learning_rate = 0.001 # 학습률\n",
    "num_epochs = 30 # 학습 횟수\n",
    "batch_size = 256\n",
    "display_step = 1 # 손실함수 출력 주기\n",
    "input_size = 784\n",
    "hidden1_size = 256\n",
    "hidden2_size = 256\n",
    "output_size = 10"
   ]
  },
  {
   "cell_type": "code",
   "execution_count": 4,
   "metadata": {},
   "outputs": [],
   "source": [
    "# 변수값\n",
    "x = tf.placeholder(tf.float32, shape=[None, input_size])\n",
    "y = tf.placeholder(tf.float32, shape=[None, output_size])"
   ]
  },
  {
   "cell_type": "code",
   "execution_count": 8,
   "metadata": {},
   "outputs": [],
   "source": [
    "# ANN 모델\n",
    "def build_ANN(x):\n",
    "    W1 = tf.Variable(tf.random_normal(shape=[input_size, hidden1_size]))\n",
    "    b1 = tf.Variable(tf.random_normal(shape=[hidden1_size]))\n",
    "    H1_output = tf.nn.relu(tf.matmul(x, W1) + b1)\n",
    "    \n",
    "    W2 = tf.Variable(tf.random_normal(shape=[hidden1_size, hidden2_size]))\n",
    "    b2 = tf.Variable(tf.random_normal(shape=[hidden2_size]))\n",
    "    H2_output = tf.nn.relu(tf.matmul(H1_output, W2) + b2)\n",
    "    \n",
    "    W_output = tf.Variable(tf.random_normal(shape=[hidden2_size, output_size]))\n",
    "    b_output = tf.Variable(tf.random_normal(shape=[output_size]))\n",
    "    logits = tf.matmul(H2_output, W_output) + b_output\n",
    "    \n",
    "    return logits"
   ]
  },
  {
   "cell_type": "code",
   "execution_count": 9,
   "metadata": {},
   "outputs": [],
   "source": [
    "# ann 모델 정의\n",
    "predicted_value = build_ANN(x)\n",
    "\n",
    "# loss function\n",
    "# labels : 정답 테이블\n",
    "loss = tf.reduce_mean(tf.nn.softmax_cross_entropy_with_logits(logits=predicted_value, labels=y))\n",
    "\n",
    "# 최적화, \n",
    "# adam optimizer 사용\n",
    "train_step = tf.train.AdamOptimizer(learning_rate=learning_rate).minimize(loss)"
   ]
  },
  {
   "cell_type": "code",
   "execution_count": 10,
   "metadata": {},
   "outputs": [
    {
     "name": "stdout",
     "output_type": "stream",
     "text": [
      "반복(Epoch): 1, 손실함수(Loss): 236.702206\n",
      "반복(Epoch): 2, 손실함수(Loss): 59.679057\n",
      "반복(Epoch): 3, 손실함수(Loss): 39.775235\n",
      "반복(Epoch): 4, 손실함수(Loss): 29.819679\n",
      "반복(Epoch): 5, 손실함수(Loss): 23.424646\n",
      "반복(Epoch): 6, 손실함수(Loss): 18.808145\n",
      "반복(Epoch): 7, 손실함수(Loss): 15.358778\n",
      "반복(Epoch): 8, 손실함수(Loss): 12.875808\n",
      "반복(Epoch): 9, 손실함수(Loss): 10.526512\n",
      "반복(Epoch): 10, 손실함수(Loss): 8.759935\n",
      "반복(Epoch): 11, 손실함수(Loss): 7.291584\n",
      "반복(Epoch): 12, 손실함수(Loss): 6.083518\n",
      "반복(Epoch): 13, 손실함수(Loss): 5.193202\n",
      "반복(Epoch): 14, 손실함수(Loss): 4.106666\n",
      "반복(Epoch): 15, 손실함수(Loss): 3.570476\n",
      "반복(Epoch): 16, 손실함수(Loss): 2.880872\n",
      "반복(Epoch): 17, 손실함수(Loss): 2.292540\n",
      "반복(Epoch): 18, 손실함수(Loss): 1.800099\n",
      "반복(Epoch): 19, 손실함수(Loss): 1.555816\n",
      "반복(Epoch): 20, 손실함수(Loss): 1.247144\n",
      "반복(Epoch): 21, 손실함수(Loss): 1.028885\n",
      "반복(Epoch): 22, 손실함수(Loss): 0.837488\n",
      "반복(Epoch): 23, 손실함수(Loss): 0.641349\n",
      "반복(Epoch): 24, 손실함수(Loss): 0.519411\n",
      "반복(Epoch): 25, 손실함수(Loss): 0.403847\n",
      "반복(Epoch): 26, 손실함수(Loss): 0.398862\n",
      "반복(Epoch): 27, 손실함수(Loss): 0.297089\n",
      "반복(Epoch): 28, 손실함수(Loss): 0.226989\n",
      "반복(Epoch): 29, 손실함수(Loss): 0.226704\n",
      "반복(Epoch): 30, 손실함수(Loss): 0.283587\n",
      "정확도(Accuracy): 0.945000\n"
     ]
    }
   ],
   "source": [
    "# session open\n",
    "with tf.Session() as sess:\n",
    "    sess.run(tf.global_variables_initializer())\n",
    "    \n",
    "    for epoch in range(num_epochs):\n",
    "        average_loss = 0.\n",
    "        \n",
    "        # 전체 배치를 불러옴\n",
    "        total_batch = int(mnist.train.num_examples/batch_size)\n",
    "        \n",
    "        for i in range(total_batch):\n",
    "            batch_x, batch_y = mnist.train.next_batch(batch_size) # 학습할 batch\n",
    "            _, current_loss = sess.run([train_step, loss], feed_dict={x:batch_x, y:batch_y})\n",
    "            average_loss += current_loss / total_batch # 평균 손실\n",
    "            \n",
    "        if epoch % display_step == 0:\n",
    "            print(\"반복(Epoch): %d, 손실함수(Loss): %f\" %((epoch+1), average_loss))\n",
    "            \n",
    "    correct_prediction = tf.equal(tf.argmax(predicted_value, 1), tf.argmax(y, 1))\n",
    "    accuracy = tf.reduce_mean(tf.cast(correct_prediction, 'float'))\n",
    "    print('정확도(Accuracy): %f'%(accuracy.eval(feed_dict={x:mnist.test.images, y:mnist.test.labels})))"
   ]
  },
  {
   "cell_type": "code",
   "execution_count": null,
   "metadata": {},
   "outputs": [],
   "source": []
  },
  {
   "cell_type": "code",
   "execution_count": null,
   "metadata": {},
   "outputs": [],
   "source": []
  },
  {
   "cell_type": "code",
   "execution_count": null,
   "metadata": {},
   "outputs": [],
   "source": []
  },
  {
   "cell_type": "code",
   "execution_count": null,
   "metadata": {},
   "outputs": [],
   "source": []
  },
  {
   "cell_type": "code",
   "execution_count": null,
   "metadata": {},
   "outputs": [],
   "source": []
  },
  {
   "cell_type": "code",
   "execution_count": null,
   "metadata": {},
   "outputs": [],
   "source": []
  },
  {
   "cell_type": "code",
   "execution_count": null,
   "metadata": {},
   "outputs": [],
   "source": []
  },
  {
   "cell_type": "code",
   "execution_count": null,
   "metadata": {},
   "outputs": [],
   "source": []
  },
  {
   "cell_type": "code",
   "execution_count": null,
   "metadata": {},
   "outputs": [],
   "source": []
  }
 ],
 "metadata": {
  "kernelspec": {
   "display_name": "Python 3",
   "language": "python",
   "name": "python3"
  },
  "language_info": {
   "codemirror_mode": {
    "name": "ipython",
    "version": 3
   },
   "file_extension": ".py",
   "mimetype": "text/x-python",
   "name": "python",
   "nbconvert_exporter": "python",
   "pygments_lexer": "ipython3",
   "version": "3.7.3"
  }
 },
 "nbformat": 4,
 "nbformat_minor": 2
}
