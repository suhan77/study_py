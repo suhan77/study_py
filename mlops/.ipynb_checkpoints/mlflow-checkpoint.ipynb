{
 "cells": [
  {
   "cell_type": "markdown",
   "id": "d4524e2f-0f7c-42f9-b0ff-4ce0aa5bbd89",
   "metadata": {},
   "source": [
    "# 1. 데이터셋 로드"
   ]
  },
  {
   "cell_type": "code",
   "execution_count": 2,
   "id": "090b4b75-349a-4f57-94c0-83c952605bca",
   "metadata": {},
   "outputs": [],
   "source": [
    "import mlflow\n",
    "import mlflow.sklearn\n",
    "from sklearn.datasets import fetch_california_housing\n",
    "from sklearn.model_selection import train_test_split\n",
    "from sklearn.linear_model import LinearRegression\n",
    "from sklearn.metrics import mean_squared_error\n",
    "\n",
    "# 데이터셋 로드\n",
    "california = fetch_california_housing()\n",
    "X, y = california.data, california.target\n",
    "\n",
    "# 데이터를 학습 세트와 테스트 세트로 분할\n",
    "X_train, X_test, y_train, y_test = train_test_split(X, y, test_size=0.2, random_state=42)"
   ]
  },
  {
   "cell_type": "markdown",
   "id": "d1d78b40-94ba-4049-93ce-d9598949058a",
   "metadata": {},
   "source": [
    "# 2. 실험"
   ]
  },
  {
   "cell_type": "code",
   "execution_count": 3,
   "id": "6f08ca90-38c7-49f4-bd14-2b68f6733389",
   "metadata": {},
   "outputs": [],
   "source": [
    "# MLflow 실험 시작\n",
    "mlflow.start_run()\n",
    "\n",
    "# 모델 학습\n",
    "model = LinearRegression()\n",
    "model.fit(X_train, y_train)\n",
    "\n",
    "# 예측 및 메트릭 계산\n",
    "predictions = model.predict(X_test)\n",
    "mse = mean_squared_error(y_test, predictions)\n",
    "\n",
    "# 매개변수, 메트릭, 모델 기록\n",
    "mlflow.log_param(\"model_type\", \"linear_regression\")\n",
    "mlflow.log_metric(\"mse\", mse)\n",
    "\n",
    "# 모델 저장\n",
    "mlflow.sklearn.log_model(model, \"model\")\n",
    "\n",
    "# MLflow 실험 종료\n",
    "mlflow.end_run()"
   ]
  }
 ],
 "metadata": {
  "kernelspec": {
   "display_name": "Python 3 (ipykernel)",
   "language": "python",
   "name": "python3"
  },
  "language_info": {
   "codemirror_mode": {
    "name": "ipython",
    "version": 3
   },
   "file_extension": ".py",
   "mimetype": "text/x-python",
   "name": "python",
   "nbconvert_exporter": "python",
   "pygments_lexer": "ipython3",
   "version": "3.10.13"
  }
 },
 "nbformat": 4,
 "nbformat_minor": 5
}
