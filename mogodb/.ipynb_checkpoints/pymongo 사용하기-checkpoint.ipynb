{
 "cells": [
  {
   "cell_type": "code",
   "execution_count": 2,
   "metadata": {},
   "outputs": [],
   "source": [
    "import pymongo\n",
    "from pymongo import MongoClient"
   ]
  },
  {
   "cell_type": "markdown",
   "metadata": {},
   "source": [
    "# 디비 접속"
   ]
  },
  {
   "cell_type": "code",
   "execution_count": 3,
   "metadata": {},
   "outputs": [],
   "source": [
    "client = MongoClient('192.168.1.104', 27017)"
   ]
  },
  {
   "cell_type": "code",
   "execution_count": 8,
   "metadata": {},
   "outputs": [],
   "source": [
    "# 데이터베이스 가져오기\n",
    "db = client['test_database']\n",
    "# db = client.test_database"
   ]
  },
  {
   "cell_type": "code",
   "execution_count": 14,
   "metadata": {},
   "outputs": [],
   "source": [
    "# 컬렉션 가져오기\n",
    "collection = db['collection']\n",
    "# db.voicebank"
   ]
  },
  {
   "cell_type": "markdown",
   "metadata": {},
   "source": [
    "# insert"
   ]
  },
  {
   "cell_type": "code",
   "execution_count": 13,
   "metadata": {},
   "outputs": [],
   "source": [
    "# 넣을 데이터\n",
    "post = { 'name' : 'jsh', 'age' : 25, 'tall' : 180 }\n",
    "post2 = { 'name' : 'jju', 'age' : 26, 'tall' : 155 }"
   ]
  },
  {
   "cell_type": "code",
   "execution_count": 51,
   "metadata": {},
   "outputs": [],
   "source": [
    "# 여러개 동시에 넣기 가능\n",
    "many = [\n",
    "    { 'name' : 'jsh', 'age' : 25, 'tall' : 180 },\n",
    "    { 'name' : 'jju', 'age' : 27, 'tall' : 155 }\n",
    "]"
   ]
  },
  {
   "cell_type": "code",
   "execution_count": 53,
   "metadata": {
    "scrolled": true
   },
   "outputs": [
    {
     "name": "stderr",
     "output_type": "stream",
     "text": [
      "C:\\Users\\Suhan\\Anaconda3\\envs\\env1\\lib\\site-packages\\ipykernel_launcher.py:1: DeprecationWarning: insert is deprecated. Use insert_one or insert_many instead.\n",
      "  \"\"\"Entry point for launching an IPython kernel.\n"
     ]
    }
   ],
   "source": [
    "post_id = collection.insert(many)"
   ]
  },
  {
   "cell_type": "markdown",
   "metadata": {},
   "source": [
    "# select"
   ]
  },
  {
   "cell_type": "code",
   "execution_count": 37,
   "metadata": {},
   "outputs": [
    {
     "data": {
      "text/plain": [
       "{'_id': ObjectId('5bd01ee660278fd18559cb9b'),\n",
       " 'name': 'jsh',\n",
       " 'age': 25,\n",
       " 'tall': 180}"
      ]
     },
     "execution_count": 37,
     "metadata": {},
     "output_type": "execute_result"
    }
   ],
   "source": [
    "# 맨위 하나 가져오기\n",
    "collection.find_one()"
   ]
  },
  {
   "cell_type": "code",
   "execution_count": 36,
   "metadata": {},
   "outputs": [
    {
     "data": {
      "text/plain": [
       "{'_id': ObjectId('5bd0200660278fd18559cb9c'),\n",
       " 'name': 'jju',\n",
       " 'age': 26,\n",
       " 'tall': 155}"
      ]
     },
     "execution_count": 36,
     "metadata": {},
     "output_type": "execute_result"
    }
   ],
   "source": [
    "# 속성으로 검색하기\n",
    "collection.find_one({'name':'jju'})"
   ]
  },
  {
   "cell_type": "code",
   "execution_count": 43,
   "metadata": {},
   "outputs": [
    {
     "data": {
      "text/plain": [
       "{'_id': ObjectId('5bd0200660278fd18559cb9c'),\n",
       " 'name': 'jju',\n",
       " 'age': 26,\n",
       " 'tall': 155}"
      ]
     },
     "execution_count": 43,
     "metadata": {},
     "output_type": "execute_result"
    }
   ],
   "source": [
    "# 아이디로 검색하기\n",
    "collection.find_one({'_id':post_id})"
   ]
  },
  {
   "cell_type": "markdown",
   "metadata": {},
   "source": [
    "# 쿼리문"
   ]
  },
  {
   "cell_type": "code",
   "execution_count": 62,
   "metadata": {},
   "outputs": [
    {
     "name": "stdout",
     "output_type": "stream",
     "text": [
      "{'_id': ObjectId('5bd01ee660278fd18559cb9b'), 'name': 'jsh', 'age': 25, 'tall': 180}\n",
      "{'_id': ObjectId('5bd0200660278fd18559cb9c'), 'name': 'jju', 'age': 26, 'tall': 155}\n",
      "{'_id': ObjectId('5bd022d060278fd18559cb9d'), 'name': 'jsh', 'age': 25, 'tall': 180}\n",
      "{'_id': ObjectId('5bd022d060278fd18559cb9e'), 'name': 'jju', 'age': 28, 'tall': 155}\n"
     ]
    }
   ],
   "source": [
    "# 전부 확인하기\n",
    "for one in collection.find():\n",
    "    print(one)"
   ]
  },
  {
   "cell_type": "code",
   "execution_count": 55,
   "metadata": {},
   "outputs": [
    {
     "name": "stdout",
     "output_type": "stream",
     "text": [
      "{'_id': ObjectId('5bd01ee660278fd18559cb9b'), 'name': 'jsh', 'age': 25, 'tall': 180}\n",
      "{'_id': ObjectId('5bd022d060278fd18559cb9d'), 'name': 'jsh', 'age': 25, 'tall': 180}\n"
     ]
    }
   ],
   "source": [
    "# 제한하기\n",
    "for one in collection.find({ 'name': 'jsh'}):\n",
    "    print(one)"
   ]
  },
  {
   "cell_type": "code",
   "execution_count": 56,
   "metadata": {},
   "outputs": [
    {
     "name": "stderr",
     "output_type": "stream",
     "text": [
      "C:\\Users\\Suhan\\Anaconda3\\envs\\env1\\lib\\site-packages\\ipykernel_launcher.py:2: DeprecationWarning: count is deprecated. Use estimated_document_count or count_documents instead. Please note that $where must be replaced by $expr, $near must be replaced by $geoWithin with $center, and $nearSphere must be replaced by $geoWithin with $centerSphere\n",
      "  \n"
     ]
    },
    {
     "data": {
      "text/plain": [
       "4"
      ]
     },
     "execution_count": 56,
     "metadata": {},
     "output_type": "execute_result"
    }
   ],
   "source": [
    "# 숫자세기\n",
    "collection.count()"
   ]
  },
  {
   "cell_type": "code",
   "execution_count": 57,
   "metadata": {},
   "outputs": [
    {
     "name": "stderr",
     "output_type": "stream",
     "text": [
      "C:\\Users\\Suhan\\Anaconda3\\envs\\env1\\lib\\site-packages\\ipykernel_launcher.py:2: DeprecationWarning: count is deprecated. Use Collection.count_documents instead.\n",
      "  \n"
     ]
    },
    {
     "data": {
      "text/plain": [
       "2"
      ]
     },
     "execution_count": 57,
     "metadata": {},
     "output_type": "execute_result"
    }
   ],
   "source": [
    "# 개수세기\n",
    "collection.find({'name': 'jsh'}).count()"
   ]
  },
  {
   "cell_type": "code",
   "execution_count": 59,
   "metadata": {},
   "outputs": [
    {
     "name": "stdout",
     "output_type": "stream",
     "text": [
      "{'_id': ObjectId('5bd01ee660278fd18559cb9b'), 'name': 'jsh', 'age': 25, 'tall': 180}\n",
      "{'_id': ObjectId('5bd022d060278fd18559cb9d'), 'name': 'jsh', 'age': 25, 'tall': 180}\n"
     ]
    }
   ],
   "source": [
    "age = 26\n",
    "\n",
    "for one in collection.find({\"age\": {\"$lt\": age}}).sort(\"author\"):\n",
    "    print(one)"
   ]
  },
  {
   "cell_type": "code",
   "execution_count": 60,
   "metadata": {},
   "outputs": [
    {
     "name": "stdout",
     "output_type": "stream",
     "text": [
      "{'_id': ObjectId('5bd022d060278fd18559cb9e'), 'name': 'jju', 'age': 27, 'tall': 155}\n"
     ]
    }
   ],
   "source": [
    "age = 26\n",
    "\n",
    "for one in collection.find({\"age\": {\"$gt\": age}}).sort(\"author\"):\n",
    "    print(one)"
   ]
  },
  {
   "cell_type": "markdown",
   "metadata": {},
   "source": [
    "# update "
   ]
  },
  {
   "cell_type": "code",
   "execution_count": 61,
   "metadata": {},
   "outputs": [
    {
     "data": {
      "text/plain": [
       "<pymongo.results.UpdateResult at 0x224f213f988>"
      ]
     },
     "execution_count": 61,
     "metadata": {},
     "output_type": "execute_result"
    }
   ],
   "source": [
    "# 27을 28로 수정\n",
    "# 위에 조건\n",
    "# 밑에 $set 만들고 수정\n",
    "\n",
    "collection.update_one(\n",
    "    {'age' : 27},\n",
    "    {\n",
    "        '$set':{\n",
    "            'age' : 28\n",
    "        }\n",
    "    }\n",
    ")"
   ]
  },
  {
   "cell_type": "code",
   "execution_count": 64,
   "metadata": {},
   "outputs": [
    {
     "data": {
      "text/plain": [
       "<pymongo.results.UpdateResult at 0x224f21f6488>"
      ]
     },
     "execution_count": 64,
     "metadata": {},
     "output_type": "execute_result"
    }
   ],
   "source": [
    "# and로 조건을 둘다 만족하는 경우\n",
    "# or 도 사용할 수 있다.\n",
    "\n",
    "\n",
    "collection.update_one({\n",
    "    '$and' : [\n",
    "            {'name' : 'jju'},\n",
    "            {'age' : 28}\n",
    "        ]\n",
    "    },\n",
    "    {\n",
    "        '$set':{\n",
    "            'name' : 'juj',\n",
    "            'age'  : 26\n",
    "        }\n",
    "    }\n",
    ")"
   ]
  },
  {
   "cell_type": "code",
   "execution_count": 65,
   "metadata": {},
   "outputs": [
    {
     "name": "stdout",
     "output_type": "stream",
     "text": [
      "{'_id': ObjectId('5bd01ee660278fd18559cb9b'), 'name': 'jsh', 'age': 25, 'tall': 180}\n",
      "{'_id': ObjectId('5bd0200660278fd18559cb9c'), 'name': 'jju', 'age': 26, 'tall': 155}\n",
      "{'_id': ObjectId('5bd022d060278fd18559cb9d'), 'name': 'jsh', 'age': 25, 'tall': 180}\n",
      "{'_id': ObjectId('5bd022d060278fd18559cb9e'), 'name': 'juj', 'age': 26, 'tall': 155}\n"
     ]
    }
   ],
   "source": [
    "for one in collection.find():\n",
    "    print(one)"
   ]
  },
  {
   "cell_type": "code",
   "execution_count": 66,
   "metadata": {},
   "outputs": [
    {
     "data": {
      "text/plain": [
       "{'_id': ObjectId('5bd01ee660278fd18559cb9b'),\n",
       " 'name': 'jsh',\n",
       " 'age': 25,\n",
       " 'tall': 180}"
      ]
     },
     "execution_count": 66,
     "metadata": {},
     "output_type": "execute_result"
    }
   ],
   "source": [
    "# find_one 라서 하나만 바꾸는 듯 하다.\n",
    "\n",
    "collection.find_one_and_update({\n",
    "    '$and' : [\n",
    "            {'name' : 'jsh'},\n",
    "            {'age' : 25}\n",
    "        ]\n",
    "    },\n",
    "    {\n",
    "        '$set':{\n",
    "            'tall' : 181,\n",
    "            'age'  : 28\n",
    "        }\n",
    "    }\n",
    "\n",
    ")"
   ]
  },
  {
   "cell_type": "code",
   "execution_count": 67,
   "metadata": {},
   "outputs": [
    {
     "name": "stdout",
     "output_type": "stream",
     "text": [
      "{'_id': ObjectId('5bd01ee660278fd18559cb9b'), 'name': 'jsh', 'age': 28, 'tall': 181}\n",
      "{'_id': ObjectId('5bd0200660278fd18559cb9c'), 'name': 'jju', 'age': 26, 'tall': 155}\n",
      "{'_id': ObjectId('5bd022d060278fd18559cb9d'), 'name': 'jsh', 'age': 25, 'tall': 180}\n",
      "{'_id': ObjectId('5bd022d060278fd18559cb9e'), 'name': 'juj', 'age': 26, 'tall': 155}\n"
     ]
    }
   ],
   "source": [
    "for one in collection.find():\n",
    "    print(one)"
   ]
  },
  {
   "cell_type": "code",
   "execution_count": 19,
   "metadata": {},
   "outputs": [],
   "source": [
    "from datetime import datetime, timedelta\n",
    "from pymongo import MongoClient, ReturnDocument, ASCENDING, DESCENDING"
   ]
  },
  {
   "cell_type": "code",
   "execution_count": 16,
   "metadata": {},
   "outputs": [],
   "source": [
    "# 데이터베이스 가져오기\n",
    "db = client['voicebank']\n",
    "# db = client.test_database"
   ]
  },
  {
   "cell_type": "code",
   "execution_count": 58,
   "metadata": {},
   "outputs": [],
   "source": [
    "def lock_status_import(id1, instance, hb_seconds):\n",
    "    acqtime = datetime.utcnow() - timedelta(seconds=hb_seconds)\n",
    "\n",
    "    status = db.muses.voice['muses.voice'].find_one_and_update(\n",
    "        {\n",
    "            'museId': id1,\n",
    "            '$or': [\n",
    "                { 'lock': None },\n",
    "                { 'lock':{'instanceId': instance }},\n",
    "                { 'lock':{'instanceId': { '$ne': instance }}, 'lock':{'acquire_time': { '$lt' : acqtime } }}\n",
    "            ]\n",
    "        },\n",
    "        {\n",
    "            '$currentDate': {\n",
    "                'lock':{'acquire_time': True}\n",
    "            },\n",
    "            '$set': {\n",
    "                'lock':{'instanceId': instance}\n",
    "            }\n",
    "        }\n",
    "        ,return_document=ReturnDocument.AFTER\n",
    "    )\n",
    "\n",
    "    return status"
   ]
  },
  {
   "cell_type": "code",
   "execution_count": 59,
   "metadata": {},
   "outputs": [
    {
     "ename": "OperationFailure",
     "evalue": "Unrecognized $currentDate option: acquire_time",
     "output_type": "error",
     "traceback": [
      "\u001b[1;31m---------------------------------------------------------------------------\u001b[0m",
      "\u001b[1;31mOperationFailure\u001b[0m                          Traceback (most recent call last)",
      "\u001b[1;32m<ipython-input-59-cfae0e2ed919>\u001b[0m in \u001b[0;36m<module>\u001b[1;34m()\u001b[0m\n\u001b[1;32m----> 1\u001b[1;33m \u001b[0mlock_status_import\u001b[0m\u001b[1;33m(\u001b[0m\u001b[1;34m'5bd7bd8bc6b9080813a553f3'\u001b[0m\u001b[1;33m,\u001b[0m\u001b[1;34m'virel3l9f2j4flmn3d'\u001b[0m\u001b[1;33m,\u001b[0m\u001b[1;36m500\u001b[0m  \u001b[1;33m)\u001b[0m\u001b[1;33m\u001b[0m\u001b[0m\n\u001b[0m",
      "\u001b[1;32m<ipython-input-58-36ab21e4c354>\u001b[0m in \u001b[0;36mlock_status_import\u001b[1;34m(id1, instance, hb_seconds)\u001b[0m\n\u001b[0;32m     19\u001b[0m             }\n\u001b[0;32m     20\u001b[0m         }\n\u001b[1;32m---> 21\u001b[1;33m         \u001b[1;33m,\u001b[0m\u001b[0mreturn_document\u001b[0m\u001b[1;33m=\u001b[0m\u001b[0mReturnDocument\u001b[0m\u001b[1;33m.\u001b[0m\u001b[0mAFTER\u001b[0m\u001b[1;33m\u001b[0m\u001b[0m\n\u001b[0m\u001b[0;32m     22\u001b[0m     )\n\u001b[0;32m     23\u001b[0m \u001b[1;33m\u001b[0m\u001b[0m\n",
      "\u001b[1;32m~\\Anaconda3\\envs\\env1\\lib\\site-packages\\pymongo\\collection.py\u001b[0m in \u001b[0;36mfind_one_and_update\u001b[1;34m(self, filter, update, projection, sort, upsert, return_document, array_filters, session, **kwargs)\u001b[0m\n\u001b[0;32m   3113\u001b[0m         return self.__find_and_modify(filter, projection,\n\u001b[0;32m   3114\u001b[0m                                       \u001b[0msort\u001b[0m\u001b[1;33m,\u001b[0m \u001b[0mupsert\u001b[0m\u001b[1;33m,\u001b[0m \u001b[0mreturn_document\u001b[0m\u001b[1;33m,\u001b[0m\u001b[1;33m\u001b[0m\u001b[0m\n\u001b[1;32m-> 3115\u001b[1;33m                                       array_filters, session=session, **kwargs)\n\u001b[0m\u001b[0;32m   3116\u001b[0m \u001b[1;33m\u001b[0m\u001b[0m\n\u001b[0;32m   3117\u001b[0m     \u001b[1;32mdef\u001b[0m \u001b[0msave\u001b[0m\u001b[1;33m(\u001b[0m\u001b[0mself\u001b[0m\u001b[1;33m,\u001b[0m \u001b[0mto_save\u001b[0m\u001b[1;33m,\u001b[0m \u001b[0mmanipulate\u001b[0m\u001b[1;33m=\u001b[0m\u001b[1;32mTrue\u001b[0m\u001b[1;33m,\u001b[0m \u001b[0mcheck_keys\u001b[0m\u001b[1;33m=\u001b[0m\u001b[1;32mTrue\u001b[0m\u001b[1;33m,\u001b[0m \u001b[1;33m**\u001b[0m\u001b[0mkwargs\u001b[0m\u001b[1;33m)\u001b[0m\u001b[1;33m:\u001b[0m\u001b[1;33m\u001b[0m\u001b[0m\n",
      "\u001b[1;32m~\\Anaconda3\\envs\\env1\\lib\\site-packages\\pymongo\\collection.py\u001b[0m in \u001b[0;36m__find_and_modify\u001b[1;34m(self, filter, projection, sort, upsert, return_document, array_filters, session, **kwargs)\u001b[0m\n\u001b[0;32m   2870\u001b[0m \u001b[1;33m\u001b[0m\u001b[0m\n\u001b[0;32m   2871\u001b[0m         return self.__database.client._retryable_write(\n\u001b[1;32m-> 2872\u001b[1;33m             write_concern.acknowledged, _find_and_modify, session)\n\u001b[0m\u001b[0;32m   2873\u001b[0m \u001b[1;33m\u001b[0m\u001b[0m\n\u001b[0;32m   2874\u001b[0m     def find_one_and_delete(self, filter,\n",
      "\u001b[1;32m~\\Anaconda3\\envs\\env1\\lib\\site-packages\\pymongo\\mongo_client.py\u001b[0m in \u001b[0;36m_retryable_write\u001b[1;34m(self, retryable, func, session)\u001b[0m\n\u001b[0;32m   1241\u001b[0m         \u001b[1;34m\"\"\"Internal retryable write helper.\"\"\"\u001b[0m\u001b[1;33m\u001b[0m\u001b[0m\n\u001b[0;32m   1242\u001b[0m         \u001b[1;32mwith\u001b[0m \u001b[0mself\u001b[0m\u001b[1;33m.\u001b[0m\u001b[0m_tmp_session\u001b[0m\u001b[1;33m(\u001b[0m\u001b[0msession\u001b[0m\u001b[1;33m)\u001b[0m \u001b[1;32mas\u001b[0m \u001b[0ms\u001b[0m\u001b[1;33m:\u001b[0m\u001b[1;33m\u001b[0m\u001b[0m\n\u001b[1;32m-> 1243\u001b[1;33m             \u001b[1;32mreturn\u001b[0m \u001b[0mself\u001b[0m\u001b[1;33m.\u001b[0m\u001b[0m_retry_with_session\u001b[0m\u001b[1;33m(\u001b[0m\u001b[0mretryable\u001b[0m\u001b[1;33m,\u001b[0m \u001b[0mfunc\u001b[0m\u001b[1;33m,\u001b[0m \u001b[0ms\u001b[0m\u001b[1;33m,\u001b[0m \u001b[1;32mNone\u001b[0m\u001b[1;33m)\u001b[0m\u001b[1;33m\u001b[0m\u001b[0m\n\u001b[0m\u001b[0;32m   1244\u001b[0m \u001b[1;33m\u001b[0m\u001b[0m\n\u001b[0;32m   1245\u001b[0m     \u001b[1;32mdef\u001b[0m \u001b[0m__reset_server\u001b[0m\u001b[1;33m(\u001b[0m\u001b[0mself\u001b[0m\u001b[1;33m,\u001b[0m \u001b[0maddress\u001b[0m\u001b[1;33m)\u001b[0m\u001b[1;33m:\u001b[0m\u001b[1;33m\u001b[0m\u001b[0m\n",
      "\u001b[1;32m~\\Anaconda3\\envs\\env1\\lib\\site-packages\\pymongo\\mongo_client.py\u001b[0m in \u001b[0;36m_retry_with_session\u001b[1;34m(self, retryable, func, session, bulk)\u001b[0m\n\u001b[0;32m   1194\u001b[0m                         \u001b[1;31m# Reset the transaction id and retry the operation.\u001b[0m\u001b[1;33m\u001b[0m\u001b[1;33m\u001b[0m\u001b[0m\n\u001b[0;32m   1195\u001b[0m                         \u001b[0msession\u001b[0m\u001b[1;33m.\u001b[0m\u001b[0m_retry_transaction_id\u001b[0m\u001b[1;33m(\u001b[0m\u001b[1;33m)\u001b[0m\u001b[1;33m\u001b[0m\u001b[0m\n\u001b[1;32m-> 1196\u001b[1;33m                     \u001b[1;32mreturn\u001b[0m \u001b[0mfunc\u001b[0m\u001b[1;33m(\u001b[0m\u001b[0msession\u001b[0m\u001b[1;33m,\u001b[0m \u001b[0msock_info\u001b[0m\u001b[1;33m,\u001b[0m \u001b[0mretryable\u001b[0m\u001b[1;33m)\u001b[0m\u001b[1;33m\u001b[0m\u001b[0m\n\u001b[0m\u001b[0;32m   1197\u001b[0m             \u001b[1;32mexcept\u001b[0m \u001b[0mServerSelectionTimeoutError\u001b[0m\u001b[1;33m:\u001b[0m\u001b[1;33m\u001b[0m\u001b[0m\n\u001b[0;32m   1198\u001b[0m                 \u001b[1;32mif\u001b[0m \u001b[0mis_retrying\u001b[0m\u001b[1;33m(\u001b[0m\u001b[1;33m)\u001b[0m\u001b[1;33m:\u001b[0m\u001b[1;33m\u001b[0m\u001b[0m\n",
      "\u001b[1;32m~\\Anaconda3\\envs\\env1\\lib\\site-packages\\pymongo\\collection.py\u001b[0m in \u001b[0;36m_find_and_modify\u001b[1;34m(session, sock_info, retryable_write)\u001b[0m\n\u001b[0;32m   2865\u001b[0m                                 \u001b[0mallowable_errors\u001b[0m\u001b[1;33m=\u001b[0m\u001b[1;33m[\u001b[0m\u001b[0m_NO_OBJ_ERROR\u001b[0m\u001b[1;33m]\u001b[0m\u001b[1;33m,\u001b[0m\u001b[1;33m\u001b[0m\u001b[0m\n\u001b[0;32m   2866\u001b[0m                                 \u001b[0mcollation\u001b[0m\u001b[1;33m=\u001b[0m\u001b[0mcollation\u001b[0m\u001b[1;33m,\u001b[0m \u001b[0msession\u001b[0m\u001b[1;33m=\u001b[0m\u001b[0msession\u001b[0m\u001b[1;33m,\u001b[0m\u001b[1;33m\u001b[0m\u001b[0m\n\u001b[1;32m-> 2867\u001b[1;33m                                 retryable_write=retryable_write)\n\u001b[0m\u001b[0;32m   2868\u001b[0m             \u001b[0m_check_write_command_response\u001b[0m\u001b[1;33m(\u001b[0m\u001b[0mout\u001b[0m\u001b[1;33m)\u001b[0m\u001b[1;33m\u001b[0m\u001b[0m\n\u001b[0;32m   2869\u001b[0m             \u001b[1;32mreturn\u001b[0m \u001b[0mout\u001b[0m\u001b[1;33m.\u001b[0m\u001b[0mget\u001b[0m\u001b[1;33m(\u001b[0m\u001b[1;34m\"value\"\u001b[0m\u001b[1;33m)\u001b[0m\u001b[1;33m\u001b[0m\u001b[0m\n",
      "\u001b[1;32m~\\Anaconda3\\envs\\env1\\lib\\site-packages\\pymongo\\collection.py\u001b[0m in \u001b[0;36m_command\u001b[1;34m(self, sock_info, command, slave_ok, read_preference, codec_options, check, allowable_errors, read_concern, write_concern, collation, session, retryable_write)\u001b[0m\n\u001b[0;32m    242\u001b[0m                 \u001b[0msession\u001b[0m\u001b[1;33m=\u001b[0m\u001b[0ms\u001b[0m\u001b[1;33m,\u001b[0m\u001b[1;33m\u001b[0m\u001b[0m\n\u001b[0;32m    243\u001b[0m                 \u001b[0mclient\u001b[0m\u001b[1;33m=\u001b[0m\u001b[0mself\u001b[0m\u001b[1;33m.\u001b[0m\u001b[0m__database\u001b[0m\u001b[1;33m.\u001b[0m\u001b[0mclient\u001b[0m\u001b[1;33m,\u001b[0m\u001b[1;33m\u001b[0m\u001b[0m\n\u001b[1;32m--> 244\u001b[1;33m                 retryable_write=retryable_write)\n\u001b[0m\u001b[0;32m    245\u001b[0m \u001b[1;33m\u001b[0m\u001b[0m\n\u001b[0;32m    246\u001b[0m     \u001b[1;32mdef\u001b[0m \u001b[0m__create\u001b[0m\u001b[1;33m(\u001b[0m\u001b[0mself\u001b[0m\u001b[1;33m,\u001b[0m \u001b[0moptions\u001b[0m\u001b[1;33m,\u001b[0m \u001b[0mcollation\u001b[0m\u001b[1;33m,\u001b[0m \u001b[0msession\u001b[0m\u001b[1;33m)\u001b[0m\u001b[1;33m:\u001b[0m\u001b[1;33m\u001b[0m\u001b[0m\n",
      "\u001b[1;32m~\\Anaconda3\\envs\\env1\\lib\\site-packages\\pymongo\\pool.py\u001b[0m in \u001b[0;36mcommand\u001b[1;34m(self, dbname, spec, slave_ok, read_preference, codec_options, check, allowable_errors, check_keys, read_concern, write_concern, parse_write_concern_error, collation, session, client, retryable_write, publish_events)\u001b[0m\n\u001b[0;32m    577\u001b[0m                            \u001b[0mcompression_ctx\u001b[0m\u001b[1;33m=\u001b[0m\u001b[0mself\u001b[0m\u001b[1;33m.\u001b[0m\u001b[0mcompression_context\u001b[0m\u001b[1;33m,\u001b[0m\u001b[1;33m\u001b[0m\u001b[0m\n\u001b[0;32m    578\u001b[0m                            \u001b[0muse_op_msg\u001b[0m\u001b[1;33m=\u001b[0m\u001b[0mself\u001b[0m\u001b[1;33m.\u001b[0m\u001b[0mop_msg_enabled\u001b[0m\u001b[1;33m,\u001b[0m\u001b[1;33m\u001b[0m\u001b[0m\n\u001b[1;32m--> 579\u001b[1;33m                            unacknowledged=unacknowledged)\n\u001b[0m\u001b[0;32m    580\u001b[0m         \u001b[1;32mexcept\u001b[0m \u001b[0mOperationFailure\u001b[0m\u001b[1;33m:\u001b[0m\u001b[1;33m\u001b[0m\u001b[0m\n\u001b[0;32m    581\u001b[0m             \u001b[1;32mraise\u001b[0m\u001b[1;33m\u001b[0m\u001b[0m\n",
      "\u001b[1;32m~\\Anaconda3\\envs\\env1\\lib\\site-packages\\pymongo\\network.py\u001b[0m in \u001b[0;36mcommand\u001b[1;34m(sock, dbname, spec, slave_ok, is_mongos, read_preference, codec_options, session, client, check, allowable_errors, address, check_keys, listeners, max_bson_size, read_concern, parse_write_concern_error, collation, compression_ctx, use_op_msg, unacknowledged)\u001b[0m\n\u001b[0;32m    148\u001b[0m                 helpers._check_command_response(\n\u001b[0;32m    149\u001b[0m                     \u001b[0mresponse_doc\u001b[0m\u001b[1;33m,\u001b[0m \u001b[1;32mNone\u001b[0m\u001b[1;33m,\u001b[0m \u001b[0mallowable_errors\u001b[0m\u001b[1;33m,\u001b[0m\u001b[1;33m\u001b[0m\u001b[0m\n\u001b[1;32m--> 150\u001b[1;33m                     parse_write_concern_error=parse_write_concern_error)\n\u001b[0m\u001b[0;32m    151\u001b[0m     \u001b[1;32mexcept\u001b[0m \u001b[0mException\u001b[0m \u001b[1;32mas\u001b[0m \u001b[0mexc\u001b[0m\u001b[1;33m:\u001b[0m\u001b[1;33m\u001b[0m\u001b[0m\n\u001b[0;32m    152\u001b[0m         \u001b[1;32mif\u001b[0m \u001b[0mpublish\u001b[0m\u001b[1;33m:\u001b[0m\u001b[1;33m\u001b[0m\u001b[0m\n",
      "\u001b[1;32m~\\Anaconda3\\envs\\env1\\lib\\site-packages\\pymongo\\helpers.py\u001b[0m in \u001b[0;36m_check_command_response\u001b[1;34m(response, msg, allowable_errors, parse_write_concern_error)\u001b[0m\n\u001b[0;32m    153\u001b[0m \u001b[1;33m\u001b[0m\u001b[0m\n\u001b[0;32m    154\u001b[0m             \u001b[0mmsg\u001b[0m \u001b[1;33m=\u001b[0m \u001b[0mmsg\u001b[0m \u001b[1;32mor\u001b[0m \u001b[1;34m\"%s\"\u001b[0m\u001b[1;33m\u001b[0m\u001b[0m\n\u001b[1;32m--> 155\u001b[1;33m             \u001b[1;32mraise\u001b[0m \u001b[0mOperationFailure\u001b[0m\u001b[1;33m(\u001b[0m\u001b[0mmsg\u001b[0m \u001b[1;33m%\u001b[0m \u001b[0merrmsg\u001b[0m\u001b[1;33m,\u001b[0m \u001b[0mcode\u001b[0m\u001b[1;33m,\u001b[0m \u001b[0mresponse\u001b[0m\u001b[1;33m)\u001b[0m\u001b[1;33m\u001b[0m\u001b[0m\n\u001b[0m\u001b[0;32m    156\u001b[0m \u001b[1;33m\u001b[0m\u001b[0m\n\u001b[0;32m    157\u001b[0m \u001b[1;33m\u001b[0m\u001b[0m\n",
      "\u001b[1;31mOperationFailure\u001b[0m: Unrecognized $currentDate option: acquire_time"
     ]
    }
   ],
   "source": [
    "lock_status_import('5bd7bd8bc6b9080813a553f3','virel3l9f2j4flmn3d',500  )"
   ]
  },
  {
   "cell_type": "code",
   "execution_count": 50,
   "metadata": {},
   "outputs": [],
   "source": [
    "def lock_status_import(id1, instance, hb_seconds):\n",
    "    acqtime = datetime.utcnow() - timedelta(seconds=hb_seconds)\n",
    "\n",
    "    status = db.muses.voice['muses.voice'].find_one_and_update(\n",
    "        {\n",
    "            'museId': id1,\n",
    "        },\n",
    "        {\n",
    "            '$set': {\n",
    "                'lock':{'instanceId': instance}\n",
    "            }\n",
    "        }\n",
    "    )\n",
    "\n",
    "    return status"
   ]
  },
  {
   "cell_type": "code",
   "execution_count": 51,
   "metadata": {},
   "outputs": [],
   "source": [
    "lock_status_import('5bd7bd8bc6b9080813a553f3','virel3l9f2j4flmn3d',500  )"
   ]
  }
 ],
 "metadata": {
  "kernelspec": {
   "display_name": "Python 3",
   "language": "python",
   "name": "python3"
  },
  "language_info": {
   "codemirror_mode": {
    "name": "ipython",
    "version": 3
   },
   "file_extension": ".py",
   "mimetype": "text/x-python",
   "name": "python",
   "nbconvert_exporter": "python",
   "pygments_lexer": "ipython3",
   "version": "3.6.6"
  }
 },
 "nbformat": 4,
 "nbformat_minor": 2
}
