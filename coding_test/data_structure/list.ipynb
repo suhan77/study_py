{
 "cells": [
  {
   "cell_type": "code",
   "id": "initial_id",
   "metadata": {
    "collapsed": true,
    "ExecuteTime": {
     "end_time": "2024-04-20T10:00:29.863906Z",
     "start_time": "2024-04-20T10:00:29.860572Z"
    }
   },
   "source": "numbers = [1, 2, 3, 4, 5,]",
   "outputs": [],
   "execution_count": 3
  },
  {
   "metadata": {
    "ExecuteTime": {
     "end_time": "2024-04-20T10:00:45.883731Z",
     "start_time": "2024-04-20T10:00:45.879706Z"
    }
   },
   "cell_type": "code",
   "source": [
    "numbers.append(6)\n",
    "numbers"
   ],
   "id": "edf6ed4e59feee14",
   "outputs": [
    {
     "data": {
      "text/plain": [
       "[1, 2, 3, 4, 5, 6]"
      ]
     },
     "execution_count": 4,
     "metadata": {},
     "output_type": "execute_result"
    }
   ],
   "execution_count": 4
  },
  {
   "metadata": {
    "ExecuteTime": {
     "end_time": "2024-04-20T10:01:53.962406Z",
     "start_time": "2024-04-20T10:01:53.958841Z"
    }
   },
   "cell_type": "code",
   "source": [
    "numbers.insert(3, 99)\n",
    "numbers"
   ],
   "id": "4b802fc9595ac94c",
   "outputs": [
    {
     "data": {
      "text/plain": [
       "[1, 2, 3, 99, 4, 5, 6]"
      ]
     },
     "execution_count": 5,
     "metadata": {},
     "output_type": "execute_result"
    }
   ],
   "execution_count": 5
  },
  {
   "metadata": {},
   "cell_type": "code",
   "outputs": [],
   "execution_count": null,
   "source": "numbers.extend()",
   "id": "4f0bd5a1b02f2705"
  },
  {
   "metadata": {
    "ExecuteTime": {
     "end_time": "2024-04-20T10:27:32.956864Z",
     "start_time": "2024-04-20T10:27:32.954510Z"
    }
   },
   "cell_type": "code",
   "source": [
    "number1 = [1, 2, 3]\n",
    "number2 = [4, 5, 6]\n",
    "\n",
    "result = number1 + number2\n",
    "print(result) # [1, 2, 3, 4, 5 ,6]"
   ],
   "id": "c2d6859359e8d9da",
   "outputs": [
    {
     "name": "stdout",
     "output_type": "stream",
     "text": [
      "[1, 2, 3, 4, 5, 6]\n"
     ]
    }
   ],
   "execution_count": 6
  },
  {
   "metadata": {
    "ExecuteTime": {
     "end_time": "2024-04-20T10:31:38.991430Z",
     "start_time": "2024-04-20T10:31:38.987708Z"
    }
   },
   "cell_type": "code",
   "source": [
    "fruits = ['apple', 'banana', 'cherry', 'mellon']\n",
    "\n",
    "idx = fruits.index('cherry')\n",
    "print(idx)"
   ],
   "id": "db9393432aa8bc08",
   "outputs": [
    {
     "data": {
      "text/plain": [
       "2"
      ]
     },
     "execution_count": 7,
     "metadata": {},
     "output_type": "execute_result"
    }
   ],
   "execution_count": 7
  },
  {
   "metadata": {
    "ExecuteTime": {
     "end_time": "2024-04-20T10:53:31.153627Z",
     "start_time": "2024-04-20T10:53:31.150110Z"
    }
   },
   "cell_type": "code",
   "source": [
    "fruits = ['apple', 'banana', 'cherry', 'mellon', 'banana', 'banana']\n",
    "\n",
    "cnt = fruits.count('banana')\n",
    "print(cnt)"
   ],
   "id": "d40c549fc61d26c6",
   "outputs": [
    {
     "name": "stdout",
     "output_type": "stream",
     "text": [
      "3\n"
     ]
    }
   ],
   "execution_count": 9
  },
  {
   "metadata": {
    "ExecuteTime": {
     "end_time": "2024-04-20T10:59:44.945725Z",
     "start_time": "2024-04-20T10:59:44.894034Z"
    }
   },
   "cell_type": "code",
   "source": [
    "import numpy as np\n",
    "\n",
    "fruits = ['apple', 'banana', 'cherry', 'banana', 'apple']\n",
    "fruit_array = np.array(fruits)\n",
    "indices_of_banana = np.where(fruit_array == 'banana')[0]\n",
    "print(indices_of_banana)  # 출력: [1 3]"
   ],
   "id": "6b0f82e58e2d2305",
   "outputs": [
    {
     "name": "stdout",
     "output_type": "stream",
     "text": [
      "[1 3]\n"
     ]
    }
   ],
   "execution_count": 10
  },
  {
   "metadata": {
    "ExecuteTime": {
     "end_time": "2024-04-20T10:59:59.097024Z",
     "start_time": "2024-04-20T10:59:59.091940Z"
    }
   },
   "cell_type": "code",
   "source": "np.where(fruit_array == 'banana')",
   "id": "931ac0f665ac5dfb",
   "outputs": [
    {
     "data": {
      "text/plain": [
       "(array([1, 3]),)"
      ]
     },
     "execution_count": 12,
     "metadata": {},
     "output_type": "execute_result"
    }
   ],
   "execution_count": 12
  },
  {
   "metadata": {
    "ExecuteTime": {
     "end_time": "2024-04-20T11:08:18.092682Z",
     "start_time": "2024-04-20T11:08:18.090462Z"
    }
   },
   "cell_type": "code",
   "source": [
    "fruits = ['apple', 'blueberry', 'banana', 'cherry', 'orange']\n",
    "fruits.remove('banana')\n",
    "print(fruits) # ['apple', 'blueberry', 'cherry', 'orange']]"
   ],
   "id": "81f34be7a54f45c6",
   "outputs": [
    {
     "name": "stdout",
     "output_type": "stream",
     "text": [
      "['apple', 'blueberry', 'cherry', 'orange']\n"
     ]
    }
   ],
   "execution_count": 13
  },
  {
   "metadata": {
    "ExecuteTime": {
     "end_time": "2024-04-20T11:08:52.864484Z",
     "start_time": "2024-04-20T11:08:52.861031Z"
    }
   },
   "cell_type": "code",
   "source": [
    "fruits = ['apple', 'blueberry', 'banana', 'cherry', 'orange']\n",
    "poped = fruits.pop()\n",
    "\n",
    "print(poped)\n",
    "print(fruits)"
   ],
   "id": "cd6fc4369ce2e25e",
   "outputs": [
    {
     "name": "stdout",
     "output_type": "stream",
     "text": [
      "orange\n",
      "['apple', 'blueberry', 'banana', 'cherry']\n"
     ]
    }
   ],
   "execution_count": 14
  },
  {
   "metadata": {
    "ExecuteTime": {
     "end_time": "2024-04-20T11:12:38.470557Z",
     "start_time": "2024-04-20T11:12:38.231711Z"
    }
   },
   "cell_type": "code",
   "source": [
    "fruits = ['apple', 'blueberry', 'banana', 'cherry', 'orange']\n",
    "fruits.remove('test')\n",
    "print(fruits) # ['apple', 'blueberry', 'cherry', 'orange']]"
   ],
   "id": "1f898c8c2979b4a7",
   "outputs": [
    {
     "ename": "ValueError",
     "evalue": "list.remove(x): x not in list",
     "output_type": "error",
     "traceback": [
      "\u001B[0;31m---------------------------------------------------------------------------\u001B[0m",
      "\u001B[0;31mValueError\u001B[0m                                Traceback (most recent call last)",
      "Cell \u001B[0;32mIn[15], line 2\u001B[0m\n\u001B[1;32m      1\u001B[0m fruits \u001B[38;5;241m=\u001B[39m [\u001B[38;5;124m'\u001B[39m\u001B[38;5;124mapple\u001B[39m\u001B[38;5;124m'\u001B[39m, \u001B[38;5;124m'\u001B[39m\u001B[38;5;124mblueberry\u001B[39m\u001B[38;5;124m'\u001B[39m, \u001B[38;5;124m'\u001B[39m\u001B[38;5;124mbanana\u001B[39m\u001B[38;5;124m'\u001B[39m, \u001B[38;5;124m'\u001B[39m\u001B[38;5;124mcherry\u001B[39m\u001B[38;5;124m'\u001B[39m, \u001B[38;5;124m'\u001B[39m\u001B[38;5;124morange\u001B[39m\u001B[38;5;124m'\u001B[39m]\n\u001B[0;32m----> 2\u001B[0m \u001B[43mfruits\u001B[49m\u001B[38;5;241;43m.\u001B[39;49m\u001B[43mremove\u001B[49m\u001B[43m(\u001B[49m\u001B[38;5;124;43m'\u001B[39;49m\u001B[38;5;124;43mtest\u001B[39;49m\u001B[38;5;124;43m'\u001B[39;49m\u001B[43m)\u001B[49m\n\u001B[1;32m      3\u001B[0m \u001B[38;5;28mprint\u001B[39m(fruits)\n",
      "\u001B[0;31mValueError\u001B[0m: list.remove(x): x not in list"
     ]
    }
   ],
   "execution_count": 15
  },
  {
   "metadata": {
    "ExecuteTime": {
     "end_time": "2024-04-20T11:20:58.526076Z",
     "start_time": "2024-04-20T11:20:58.523283Z"
    }
   },
   "cell_type": "code",
   "source": [
    "fruits = ['apple', 'banana', 'cherry']\n",
    "fruits.reverse()\n",
    "\n",
    "print(fruits)"
   ],
   "id": "d85be4085174be18",
   "outputs": [
    {
     "name": "stdout",
     "output_type": "stream",
     "text": [
      "['cherry', 'banana', 'apple']\n"
     ]
    }
   ],
   "execution_count": 18
  },
  {
   "metadata": {
    "ExecuteTime": {
     "end_time": "2024-04-20T11:29:30.462146Z",
     "start_time": "2024-04-20T11:29:30.458333Z"
    }
   },
   "cell_type": "code",
   "source": [
    "numbers = [0, 1, 2, 3, 4, 5, 6]\n",
    "\n",
    "print(numbers[2: 5])"
   ],
   "id": "67d1f83c72db3e6",
   "outputs": [
    {
     "name": "stdout",
     "output_type": "stream",
     "text": [
      "[2, 3, 4]\n"
     ]
    }
   ],
   "execution_count": 20
  },
  {
   "metadata": {
    "ExecuteTime": {
     "end_time": "2024-04-20T12:48:13.457910Z",
     "start_time": "2024-04-20T12:48:13.453948Z"
    }
   },
   "cell_type": "code",
   "source": [
    "name = \"Alice\"\n",
    "age = 30\n",
    "\n",
    "# 문자열과 정수를 결합\n",
    "print(\"Hello, %s. You are %d years old.\" % (name, age))\n",
    "\n",
    "# 부동 소수점 수 포매팅\n",
    "pi_value = 3.14159\n",
    "print(\"The value of pi is approximately %.2f.\" % pi_value)\n",
    "\n",
    "# 여러 값과 포맷 지정자 사용\n",
    "height = 168.5\n",
    "print(\"%s is %d years old and her height is %.1f cm.\" % (name, age, height))\n"
   ],
   "id": "233ae45824758ef8",
   "outputs": [
    {
     "name": "stdout",
     "output_type": "stream",
     "text": [
      "Hello, Alice. You are 30 years old.\n",
      "The value of pi is approximately 3.14.\n",
      "Alice is 30 years old and her height is 168.5 cm.\n"
     ]
    }
   ],
   "execution_count": 21
  }
 ],
 "metadata": {
  "kernelspec": {
   "display_name": "Python 3",
   "language": "python",
   "name": "python3"
  },
  "language_info": {
   "codemirror_mode": {
    "name": "ipython",
    "version": 2
   },
   "file_extension": ".py",
   "mimetype": "text/x-python",
   "name": "python",
   "nbconvert_exporter": "python",
   "pygments_lexer": "ipython2",
   "version": "2.7.6"
  }
 },
 "nbformat": 4,
 "nbformat_minor": 5
}
