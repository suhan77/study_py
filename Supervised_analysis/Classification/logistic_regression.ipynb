{
 "cells": [
  {
   "cell_type": "code",
   "execution_count": 5,
   "metadata": {},
   "outputs": [],
   "source": [
    "import numpy as np\n",
    "from sklearn.datasets import make_classification\n",
    "import statsmodels as sm\n",
    "from statsmodels.discrete.discrete_model import Logit\n",
    "from scipy import stats\n",
    "import matplotlib.pyplot as plt\n",
    "import matplotlib as mpl\n",
    "import seaborn as sns"
   ]
  },
  {
   "cell_type": "code",
   "execution_count": 2,
   "metadata": {},
   "outputs": [],
   "source": [
    "xx = np.linspace(-5, 5, 1000)"
   ]
  },
  {
   "cell_type": "markdown",
   "metadata": {},
   "source": [
    "설명 : https://datascienceschool.net/view-notebook/ec26c797cec646e295d737c522733b15/"
   ]
  },
  {
   "cell_type": "markdown",
   "metadata": {},
   "source": [
    "# 1. Logit 사용하기 "
   ]
  },
  {
   "cell_type": "code",
   "execution_count": 3,
   "metadata": {},
   "outputs": [],
   "source": [
    "X0, y = make_classification(n_features=1, n_redundant=0, n_informative=1,\n",
    "                            n_clusters_per_class=1, random_state=4) # 가상 데이터 생성\n",
    "X = sm.tools.tools.add_constant(X0)"
   ]
  },
  {
   "cell_type": "code",
   "execution_count": 9,
   "metadata": {},
   "outputs": [
    {
     "name": "stdout",
     "output_type": "stream",
     "text": [
      "                           Logit Regression Results                           \n",
      "==============================================================================\n",
      "Dep. Variable:                      y   No. Observations:                  100\n",
      "Model:                          Logit   Df Residuals:                       98\n",
      "Method:                           MLE   Df Model:                            1\n",
      "Date:                Fri, 31 May 2019   Pseudo R-squ.:                  0.7679\n",
      "Time:                        14:38:08   Log-Likelihood:                -16.084\n",
      "converged:                       True   LL-Null:                       -69.295\n",
      "                                        LLR p-value:                 5.963e-25\n",
      "==============================================================================\n",
      "                 coef    std err          z      P>|z|      [0.025      0.975]\n",
      "------------------------------------------------------------------------------\n",
      "const          0.2515      0.477      0.527      0.598      -0.683       1.186\n",
      "x1             4.2382      0.902      4.699      0.000       2.470       6.006\n",
      "==============================================================================\n"
     ]
    }
   ],
   "source": [
    "# chisqprob 함수가 없다는 오류가 발생하면 다음 두 줄을 실행한다.\n",
    "stats.chisqprob = lambda chisq, df: stats.chi2.sf(chisq, df)\n",
    "logit_mod = Logit(y, X)\n",
    "logit_res = logit_mod.fit(disp=0)\n",
    "print(logit_res.summary())"
   ]
  },
  {
   "cell_type": "code",
   "execution_count": 26,
   "metadata": {},
   "outputs": [
    {
     "data": {
      "image/png": "[encoded data removed]",
      "text/plain": [
       "<Figure size 432x288 with 1 Axes>"
      ]
     },
     "metadata": {
      "needs_background": "light"
     },
     "output_type": "display_data"
    }
   ],
   "source": [
    "xx = np.linspace(-3, 3, 100)\n",
    "mu = logit_res.predict(sm.tools.tools.add_constant(xx))\n",
    "plt.plot(xx, mu, lw=5, alpha=0.5)\n",
    "plt.scatter(X0, y, label=\"y\", marker='o', s=100)\n",
    "plt.scatter(X0, logit_res.predict(X), label=r\"$\\hat{y}$\", marker='x', c=y,\n",
    "            s=200, lw=2, alpha=0.5, cmap=mpl.cm.jet)\n",
    "plt.xlim(-3, 3)\n",
    "plt.xlabel(\"x\")\n",
    "plt.ylabel(r\"$\\mu$\")\n",
    "plt.title(r\"$\\hat{y} = \\mu(x)$\")\n",
    "plt.legend()\n",
    "plt.show()"
   ]
  },
  {
   "cell_type": "markdown",
   "metadata": {},
   "source": [
    "# 2. Logit.from_formula 사용하기 "
   ]
  },
  {
   "cell_type": "markdown",
   "metadata": {},
   "source": [
    "### 1) 데이터 가져오기\n",
    "\n",
    "다음 데이터는 미국 의대생의 입학관련 데이터이다. "
   ]
  },
  {
   "cell_type": "code",
   "execution_count": 3,
   "metadata": {},
   "outputs": [
    {
     "data": {
      "text/html": [
       "<div>\n",
       "<style scoped>\n",
       "    .dataframe tbody tr th:only-of-type {\n",
       "        vertical-align: middle;\n",
       "    }\n",
       "\n",
       "    .dataframe tbody tr th {\n",
       "        vertical-align: top;\n",
       "    }\n",
       "\n",
       "    .dataframe thead th {\n",
       "        text-align: right;\n",
       "    }\n",
       "</style>\n",
       "<table border=\"1\" class=\"dataframe\">\n",
       "  <thead>\n",
       "    <tr style=\"text-align: right;\">\n",
       "      <th></th>\n",
       "      <th>Accept</th>\n",
       "      <th>Acceptance</th>\n",
       "      <th>Sex</th>\n",
       "      <th>BCPM</th>\n",
       "      <th>GPA</th>\n",
       "      <th>VR</th>\n",
       "      <th>PS</th>\n",
       "      <th>WS</th>\n",
       "      <th>BS</th>\n",
       "      <th>MCAT</th>\n",
       "      <th>Apps</th>\n",
       "    </tr>\n",
       "  </thead>\n",
       "  <tbody>\n",
       "    <tr>\n",
       "      <th>50</th>\n",
       "      <td>D</td>\n",
       "      <td>0</td>\n",
       "      <td>M</td>\n",
       "      <td>2.41</td>\n",
       "      <td>2.72</td>\n",
       "      <td>8</td>\n",
       "      <td>8</td>\n",
       "      <td>8.0</td>\n",
       "      <td>8</td>\n",
       "      <td>32</td>\n",
       "      <td>7</td>\n",
       "    </tr>\n",
       "    <tr>\n",
       "      <th>51</th>\n",
       "      <td>D</td>\n",
       "      <td>0</td>\n",
       "      <td>M</td>\n",
       "      <td>3.51</td>\n",
       "      <td>3.56</td>\n",
       "      <td>11</td>\n",
       "      <td>8</td>\n",
       "      <td>6.0</td>\n",
       "      <td>9</td>\n",
       "      <td>34</td>\n",
       "      <td>6</td>\n",
       "    </tr>\n",
       "    <tr>\n",
       "      <th>52</th>\n",
       "      <td>A</td>\n",
       "      <td>1</td>\n",
       "      <td>F</td>\n",
       "      <td>3.43</td>\n",
       "      <td>3.48</td>\n",
       "      <td>7</td>\n",
       "      <td>10</td>\n",
       "      <td>7.0</td>\n",
       "      <td>10</td>\n",
       "      <td>34</td>\n",
       "      <td>14</td>\n",
       "    </tr>\n",
       "    <tr>\n",
       "      <th>53</th>\n",
       "      <td>D</td>\n",
       "      <td>0</td>\n",
       "      <td>M</td>\n",
       "      <td>2.61</td>\n",
       "      <td>2.80</td>\n",
       "      <td>7</td>\n",
       "      <td>5</td>\n",
       "      <td>NaN</td>\n",
       "      <td>6</td>\n",
       "      <td>18</td>\n",
       "      <td>6</td>\n",
       "    </tr>\n",
       "    <tr>\n",
       "      <th>54</th>\n",
       "      <td>D</td>\n",
       "      <td>0</td>\n",
       "      <td>M</td>\n",
       "      <td>3.36</td>\n",
       "      <td>3.44</td>\n",
       "      <td>11</td>\n",
       "      <td>11</td>\n",
       "      <td>8.0</td>\n",
       "      <td>9</td>\n",
       "      <td>39</td>\n",
       "      <td>1</td>\n",
       "    </tr>\n",
       "  </tbody>\n",
       "</table>\n",
       "</div>"
      ],
      "text/plain": [
       "   Accept  Acceptance Sex  BCPM   GPA  VR  PS   WS  BS  MCAT  Apps\n",
       "50      D           0   M  2.41  2.72   8   8  8.0   8    32     7\n",
       "51      D           0   M  3.51  3.56  11   8  6.0   9    34     6\n",
       "52      A           1   F  3.43  3.48   7  10  7.0  10    34    14\n",
       "53      D           0   M  2.61  2.80   7   5  NaN   6    18     6\n",
       "54      D           0   M  3.36  3.44  11  11  8.0   9    39     1"
      ]
     },
     "execution_count": 3,
     "metadata": {},
     "output_type": "execute_result"
    }
   ],
   "source": [
    "data_med = sm.datasets.get_rdataset(\"MedGPA\", package=\"Stat2Data\")\n",
    "df_med = data_med.data\n",
    "df_med.tail()"
   ]
  },
  {
   "cell_type": "markdown",
   "metadata": {},
   "source": [
    "### 2) 데이터 확인하기 "
   ]
  },
  {
   "cell_type": "code",
   "execution_count": 6,
   "metadata": {},
   "outputs": [
    {
     "data": {
      "image/png": "[encoded data removed]",
      "text/plain": [
       "<Figure size 432x288 with 1 Axes>"
      ]
     },
     "metadata": {
      "needs_background": "light"
     },
     "output_type": "display_data"
    }
   ],
   "source": [
    "sns.stripplot(x=\"GPA\", y=\"Acceptance\", data=df_med,\n",
    "              jitter=True, orient='h', order=[1, 0])\n",
    "plt.grid(True)\n",
    "plt.show()"
   ]
  },
  {
   "cell_type": "markdown",
   "metadata": {},
   "source": [
    "### 3) 모델 만들기 "
   ]
  },
  {
   "cell_type": "code",
   "execution_count": 7,
   "metadata": {},
   "outputs": [
    {
     "name": "stdout",
     "output_type": "stream",
     "text": [
      "Optimization terminated successfully.\n",
      "         Current function value: 0.280736\n",
      "         Iterations 9\n",
      "                           Logit Regression Results                           \n",
      "==============================================================================\n",
      "Dep. Variable:             Acceptance   No. Observations:                   54\n",
      "Model:                          Logit   Df Residuals:                       45\n",
      "Method:                           MLE   Df Model:                            8\n",
      "Date:                Sat, 01 Jun 2019   Pseudo R-squ.:                  0.5913\n",
      "Time:                        20:12:20   Log-Likelihood:                -15.160\n",
      "converged:                       True   LL-Null:                       -37.096\n",
      "                                        LLR p-value:                 6.014e-07\n",
      "==============================================================================\n",
      "                 coef    std err          z      P>|z|      [0.025      0.975]\n",
      "------------------------------------------------------------------------------\n",
      "Intercept    -46.6414     15.600     -2.990      0.003     -77.216     -16.067\n",
      "Sex[T.M]      -2.2835      1.429     -1.597      0.110      -5.085       0.518\n",
      "BCPM          -6.1633      6.963     -0.885      0.376     -19.811       7.484\n",
      "GPA           12.3973      8.611      1.440      0.150      -4.479      29.274\n",
      "VR             0.0790      0.311      0.254      0.799      -0.530       0.688\n",
      "PS             1.1673      0.539      2.164      0.030       0.110       2.225\n",
      "WS            -0.7784      0.396     -1.968      0.049      -1.554      -0.003\n",
      "BS             1.9184      0.682      2.814      0.005       0.582       3.255\n",
      "Apps           0.0512      0.147      0.348      0.728      -0.237       0.340\n",
      "==============================================================================\n"
     ]
    }
   ],
   "source": [
    "model_med = Logit.from_formula(\"Acceptance ~ Sex + BCPM + GPA + VR + PS + WS + BS + Apps\", df_med)\n",
    "result_med = model_med.fit()\n",
    "print(result_med.summary())"
   ]
  }
 ],
 "metadata": {
  "kernelspec": {
   "display_name": "Python 3",
   "language": "python",
   "name": "python3"
  },
  "language_info": {
   "codemirror_mode": {
    "name": "ipython",
    "version": 3
   },
   "file_extension": ".py",
   "mimetype": "text/x-python",
   "name": "python",
   "nbconvert_exporter": "python",
   "pygments_lexer": "ipython3",
   "version": "3.7.3"
  }
 },
 "nbformat": 4,
 "nbformat_minor": 2
}
