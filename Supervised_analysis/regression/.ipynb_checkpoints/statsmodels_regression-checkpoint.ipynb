{
 "cells": [
  {
   "cell_type": "markdown",
   "metadata": {},
   "source": [
    "R-style formula 연산자¶\n",
    "모형정의 연산자 formula에 복수의 데이터를 지정하는 경우에는 다음과 같은 연산자를 포함해야 한다.\n",
    "\n",
    "기호\t설명\n",
    "+\t설명 변수 추가\n",
    "-\t설명 변수 제거\n",
    "1, 0\tintercept. (제거시 사용)\n",
    ":\tinteraction (곱)\n",
    "*\ta*b = a + b + a:b\n",
    "/\ta/b = a + a:b\n",
    "~\t종속 - 독립 관계"
   ]
  },
  {
   "cell_type": "code",
   "execution_count": 16,
   "metadata": {},
   "outputs": [],
   "source": [
    "import statsmodels.api as sm\n",
    "import pandas as pd\n",
    "from patsy import *\n",
    "import numpy as np"
   ]
  },
  {
   "cell_type": "markdown",
   "metadata": {},
   "source": [
    "# 1. patsy 패키지\n",
    "\n",
    "회귀분석을 하기 위한 전처리 패키지"
   ]
  },
  {
   "cell_type": "code",
   "execution_count": 6,
   "metadata": {},
   "outputs": [
    {
     "data": {
      "text/html": [
       "<div>\n",
       "<style scoped>\n",
       "    .dataframe tbody tr th:only-of-type {\n",
       "        vertical-align: middle;\n",
       "    }\n",
       "\n",
       "    .dataframe tbody tr th {\n",
       "        vertical-align: top;\n",
       "    }\n",
       "\n",
       "    .dataframe thead th {\n",
       "        text-align: right;\n",
       "    }\n",
       "</style>\n",
       "<table border=\"1\" class=\"dataframe\">\n",
       "  <thead>\n",
       "    <tr style=\"text-align: right;\">\n",
       "      <th></th>\n",
       "      <th>x1</th>\n",
       "      <th>x2</th>\n",
       "      <th>y</th>\n",
       "    </tr>\n",
       "  </thead>\n",
       "  <tbody>\n",
       "    <tr>\n",
       "      <th>0</th>\n",
       "      <td>1.764052</td>\n",
       "      <td>-0.977278</td>\n",
       "      <td>0.144044</td>\n",
       "    </tr>\n",
       "    <tr>\n",
       "      <th>1</th>\n",
       "      <td>0.400157</td>\n",
       "      <td>0.950088</td>\n",
       "      <td>1.454274</td>\n",
       "    </tr>\n",
       "    <tr>\n",
       "      <th>2</th>\n",
       "      <td>0.978738</td>\n",
       "      <td>-0.151357</td>\n",
       "      <td>0.761038</td>\n",
       "    </tr>\n",
       "    <tr>\n",
       "      <th>3</th>\n",
       "      <td>2.240893</td>\n",
       "      <td>-0.103219</td>\n",
       "      <td>0.121675</td>\n",
       "    </tr>\n",
       "    <tr>\n",
       "      <th>4</th>\n",
       "      <td>1.867558</td>\n",
       "      <td>0.410599</td>\n",
       "      <td>0.443863</td>\n",
       "    </tr>\n",
       "  </tbody>\n",
       "</table>\n",
       "</div>"
      ],
      "text/plain": [
       "         x1        x2         y\n",
       "0  1.764052 -0.977278  0.144044\n",
       "1  0.400157  0.950088  1.454274\n",
       "2  0.978738 -0.151357  0.761038\n",
       "3  2.240893 -0.103219  0.121675\n",
       "4  1.867558  0.410599  0.443863"
      ]
     },
     "execution_count": 6,
     "metadata": {},
     "output_type": "execute_result"
    }
   ],
   "source": [
    "df = pd.DataFrame(demo_data(\"x1\", \"x2\", \"y\"))\n",
    "df"
   ]
  },
  {
   "cell_type": "markdown",
   "metadata": {},
   "source": [
    "patsy 패키지의 dmatrix라는 명령을 사용하면 실험 설계 행렬(experiment design matrix)을 간단히 만들수 있다. dmatrix에 다음과 같이 모형 정의 문자열 formula와 원데이터 data을 입력하면 formula에서 지정한 대로 변환된 데이터 data_transformed를 출력한다."
   ]
  },
  {
   "cell_type": "code",
   "execution_count": 7,
   "metadata": {},
   "outputs": [
    {
     "data": {
      "text/plain": [
       "DesignMatrix with shape (5, 2)\n",
       "  Intercept       x1\n",
       "          1  1.76405\n",
       "          1  0.40016\n",
       "          1  0.97874\n",
       "          1  2.24089\n",
       "          1  1.86756\n",
       "  Terms:\n",
       "    'Intercept' (column 0)\n",
       "    'x1' (column 1)"
      ]
     },
     "execution_count": 7,
     "metadata": {},
     "output_type": "execute_result"
    }
   ],
   "source": [
    "dmatrix(\"x1\", df)"
   ]
  },
  {
   "cell_type": "markdown",
   "metadata": {},
   "source": [
    "모형정의 연산자 formula에 복수의 데이터를 지정하는 경우에는 다음과 같은 연산자를 포함해야 한다.\n",
    "\n",
    "~~~\n",
    "기호\t설명\n",
    "+\t설명 변수 추가\n",
    "-\t설명 변수 제거\n",
    "1, 0\tintercept. (제거시 사용)\n",
    ":\tinteraction (곱)\n",
    "*\ta*b = a + b + a:b\n",
    "/\ta/b = a + a:b\n",
    "~\t종속 - 독립 관계\n",
    "~~~\n",
    "\n",
    "상수항을 제외하고자 하는 경우에는 - 1 또는 + 0을 써주어야 한다."
   ]
  },
  {
   "cell_type": "code",
   "execution_count": 9,
   "metadata": {},
   "outputs": [
    {
     "data": {
      "text/plain": [
       "DesignMatrix with shape (5, 1)\n",
       "       x1\n",
       "  1.76405\n",
       "  0.40016\n",
       "  0.97874\n",
       "  2.24089\n",
       "  1.86756\n",
       "  Terms:\n",
       "    'x1' (column 0)"
      ]
     },
     "execution_count": 9,
     "metadata": {},
     "output_type": "execute_result"
    }
   ],
   "source": [
    "dmatrix(\"x1 - 1\", df)"
   ]
  },
  {
   "cell_type": "code",
   "execution_count": 10,
   "metadata": {},
   "outputs": [
    {
     "data": {
      "text/plain": [
       "DesignMatrix with shape (5, 1)\n",
       "       x1\n",
       "  1.76405\n",
       "  0.40016\n",
       "  0.97874\n",
       "  2.24089\n",
       "  1.86756\n",
       "  Terms:\n",
       "    'x1' (column 0)"
      ]
     },
     "execution_count": 10,
     "metadata": {},
     "output_type": "execute_result"
    }
   ],
   "source": [
    "dmatrix(\"x1 + 0\", df)"
   ]
  },
  {
   "cell_type": "markdown",
   "metadata": {},
   "source": [
    "두 개 이상의 데이터를 포함하는 경우에는 + 연산자를 사용한다."
   ]
  },
  {
   "cell_type": "code",
   "execution_count": 11,
   "metadata": {},
   "outputs": [
    {
     "data": {
      "text/plain": [
       "DesignMatrix with shape (5, 3)\n",
       "  Intercept       x1        x2\n",
       "          1  1.76405  -0.97728\n",
       "          1  0.40016   0.95009\n",
       "          1  0.97874  -0.15136\n",
       "          1  2.24089  -0.10322\n",
       "          1  1.86756   0.41060\n",
       "  Terms:\n",
       "    'Intercept' (column 0)\n",
       "    'x1' (column 1)\n",
       "    'x2' (column 2)"
      ]
     },
     "execution_count": 11,
     "metadata": {},
     "output_type": "execute_result"
    }
   ],
   "source": [
    "dmatrix(\"x1 + x2\", df)"
   ]
  },
  {
   "cell_type": "code",
   "execution_count": 12,
   "metadata": {},
   "outputs": [
    {
     "data": {
      "text/plain": [
       "DesignMatrix with shape (5, 2)\n",
       "       x1        x2\n",
       "  1.76405  -0.97728\n",
       "  0.40016   0.95009\n",
       "  0.97874  -0.15136\n",
       "  2.24089  -0.10322\n",
       "  1.86756   0.41060\n",
       "  Terms:\n",
       "    'x1' (column 0)\n",
       "    'x2' (column 1)"
      ]
     },
     "execution_count": 12,
     "metadata": {},
     "output_type": "execute_result"
    }
   ],
   "source": [
    "dmatrix(\"x1 + x2 - 1\", df)"
   ]
  },
  {
   "cell_type": "markdown",
   "metadata": {},
   "source": [
    "두 변수의 곱을 새로운 변수로 추가하려면 : 연산자를 사용한다."
   ]
  },
  {
   "cell_type": "code",
   "execution_count": 13,
   "metadata": {},
   "outputs": [
    {
     "data": {
      "text/plain": [
       "DesignMatrix with shape (5, 3)\n",
       "       x1        x2     x1:x2\n",
       "  1.76405  -0.97728  -1.72397\n",
       "  0.40016   0.95009   0.38018\n",
       "  0.97874  -0.15136  -0.14814\n",
       "  2.24089  -0.10322  -0.23130\n",
       "  1.86756   0.41060   0.76682\n",
       "  Terms:\n",
       "    'x1' (column 0)\n",
       "    'x2' (column 1)\n",
       "    'x1:x2' (column 2)"
      ]
     },
     "execution_count": 13,
     "metadata": {},
     "output_type": "execute_result"
    }
   ],
   "source": [
    "dmatrix(\"x1 + x2 + x1:x2 - 1\", df)"
   ]
  },
  {
   "cell_type": "markdown",
   "metadata": {},
   "source": [
    "\\* 연산자\n"
   ]
  },
  {
   "cell_type": "code",
   "execution_count": 14,
   "metadata": {},
   "outputs": [
    {
     "data": {
      "text/plain": [
       "DesignMatrix with shape (5, 3)\n",
       "       x1        x2     x1:x2\n",
       "  1.76405  -0.97728  -1.72397\n",
       "  0.40016   0.95009   0.38018\n",
       "  0.97874  -0.15136  -0.14814\n",
       "  2.24089  -0.10322  -0.23130\n",
       "  1.86756   0.41060   0.76682\n",
       "  Terms:\n",
       "    'x1' (column 0)\n",
       "    'x2' (column 1)\n",
       "    'x1:x2' (column 2)"
      ]
     },
     "execution_count": 14,
     "metadata": {},
     "output_type": "execute_result"
    }
   ],
   "source": [
    "dmatrix(\"x1 * x2 - 1\", df)"
   ]
  },
  {
   "cell_type": "markdown",
   "metadata": {},
   "source": [
    "log 사용"
   ]
  },
  {
   "cell_type": "code",
   "execution_count": 17,
   "metadata": {},
   "outputs": [
    {
     "data": {
      "text/plain": [
       "DesignMatrix with shape (5, 3)\n",
       "  Intercept       x1  np.log(np.abs(x2))\n",
       "          1  1.76405            -0.02298\n",
       "          1  0.40016            -0.05120\n",
       "          1  0.97874            -1.88811\n",
       "          1  2.24089            -2.27090\n",
       "          1  1.86756            -0.89014\n",
       "  Terms:\n",
       "    'Intercept' (column 0)\n",
       "    'x1' (column 1)\n",
       "    'np.log(np.abs(x2))' (column 2)"
      ]
     },
     "execution_count": 17,
     "metadata": {},
     "output_type": "execute_result"
    }
   ],
   "source": [
    "dmatrix(\"x1 + np.log(np.abs(x2))\", df)"
   ]
  },
  {
   "cell_type": "markdown",
   "metadata": {},
   "source": [
    "사용자 정의 함수 사용"
   ]
  },
  {
   "cell_type": "code",
   "execution_count": 18,
   "metadata": {},
   "outputs": [
    {
     "data": {
      "text/plain": [
       "DesignMatrix with shape (5, 2)\n",
       "  Intercept  doubleit(x1)\n",
       "          1       3.52810\n",
       "          1       0.80031\n",
       "          1       1.95748\n",
       "          1       4.48179\n",
       "          1       3.73512\n",
       "  Terms:\n",
       "    'Intercept' (column 0)\n",
       "    'doubleit(x1)' (column 1)"
      ]
     },
     "execution_count": 18,
     "metadata": {},
     "output_type": "execute_result"
    }
   ],
   "source": [
    "def doubleit(x):\n",
    "    return 2 * x\n",
    "\n",
    "dmatrix(\"doubleit(x1)\", df)"
   ]
  },
  {
   "cell_type": "markdown",
   "metadata": {},
   "source": [
    "patsy의 가장 강력한 기능 중의 하나는 상태 보존 변환(stateful trasform)이 가능하다는 점이다. 예를 들어 다음 변환 함수는 평균을 계산하여 빼주거나 및 표준편차를 계산하여 나누어주는데 이 때 계산한 평균과 표준편차를 내부에 상태변수로 저장한다.\n",
    "\n",
    "- center(x): 평균 제거\n",
    "- standardize(x): 평균 제거 및 표준편차로 스케일링\n",
    "- scale(x): standardize(x) 과 같음"
   ]
  },
  {
   "cell_type": "code",
   "execution_count": 19,
   "metadata": {},
   "outputs": [
    {
     "data": {
      "text/plain": [
       "DesignMatrix with shape (5, 1)\n",
       "  center(x1)\n",
       "     0.31377\n",
       "    -1.05012\n",
       "    -0.47154\n",
       "     0.79061\n",
       "     0.41728\n",
       "  Terms:\n",
       "    'center(x1)' (column 0)"
      ]
     },
     "execution_count": 19,
     "metadata": {},
     "output_type": "execute_result"
    }
   ],
   "source": [
    "dm = dmatrix(\"center(x1) + 0\", df)\n",
    "dm"
   ]
  },
  {
   "cell_type": "code",
   "execution_count": 20,
   "metadata": {},
   "outputs": [
    {
     "data": {
      "text/plain": [
       "0    0.313773\n",
       "1   -1.050123\n",
       "2   -0.471542\n",
       "3    0.790613\n",
       "4    0.417278\n",
       "Name: x1, dtype: float64"
      ]
     },
     "execution_count": 20,
     "metadata": {},
     "output_type": "execute_result"
    }
   ],
   "source": [
    "# 위와 같다\n",
    "df.x1 - np.mean(df.x1)"
   ]
  },
  {
   "cell_type": "markdown",
   "metadata": {},
   "source": [
    "변수 보호\n",
    "\n",
    "함수를 사용한 변수 변환 이외에도 모형 정의 문자열 자체내에 연산기호를 넣어 연산한 값을 만드는 것도 가능하다. 이 때에는 모형정의 연산자와 혼동되지 않도록 I() 연산자를 추가해야 한다."
   ]
  },
  {
   "cell_type": "code",
   "execution_count": 21,
   "metadata": {},
   "outputs": [
    {
     "data": {
      "text/plain": [
       "DesignMatrix with shape (5, 2)\n",
       "  Intercept  I(x1 + x2)\n",
       "          1     0.78677\n",
       "          1     1.35025\n",
       "          1     0.82738\n",
       "          1     2.13767\n",
       "          1     2.27816\n",
       "  Terms:\n",
       "    'Intercept' (column 0)\n",
       "    'I(x1 + x2)' (column 1)"
      ]
     },
     "execution_count": 21,
     "metadata": {},
     "output_type": "execute_result"
    }
   ],
   "source": [
    "dmatrix(\"I(x1 + x2)\", df)"
   ]
  },
  {
   "cell_type": "code",
   "execution_count": 22,
   "metadata": {},
   "outputs": [
    {
     "data": {
      "text/plain": [
       "DesignMatrix with shape (5, 3)\n",
       "  Intercept       x1        x2\n",
       "          1  1.76405  -0.97728\n",
       "          1  0.40016   0.95009\n",
       "          1  0.97874  -0.15136\n",
       "          1  2.24089  -0.10322\n",
       "          1  1.86756   0.41060\n",
       "  Terms:\n",
       "    'Intercept' (column 0)\n",
       "    'x1' (column 1)\n",
       "    'x2' (column 2)"
      ]
     },
     "execution_count": 22,
     "metadata": {},
     "output_type": "execute_result"
    }
   ],
   "source": [
    "# I() 를 쓰지 않은 결과\n",
    "dmatrix(\"x1 + x2\", df)"
   ]
  },
  {
   "cell_type": "markdown",
   "metadata": {},
   "source": [
    "다항 선형회귀\n",
    "\n",
    "I() 연산자를 활용하면 다항 선형회귀(polynomial regression)도 할 수 있다."
   ]
  },
  {
   "cell_type": "code",
   "execution_count": 25,
   "metadata": {},
   "outputs": [
    {
     "data": {
      "text/plain": [
       "DesignMatrix with shape (5, 5)\n",
       "  Intercept       x1  I(x1 ** 2)  I(x1 ** 3)  I(x1 ** 4)\n",
       "          1  1.76405     3.11188     5.48952     9.68380\n",
       "          1  0.40016     0.16013     0.06408     0.02564\n",
       "          1  0.97874     0.95793     0.93756     0.91763\n",
       "          1  2.24089     5.02160    11.25287    25.21649\n",
       "          1  1.86756     3.48777     6.51362    12.16456\n",
       "  Terms:\n",
       "    'Intercept' (column 0)\n",
       "    'x1' (column 1)\n",
       "    'I(x1 ** 2)' (column 2)\n",
       "    'I(x1 ** 3)' (column 3)\n",
       "    'I(x1 ** 4)' (column 4)"
      ]
     },
     "execution_count": 25,
     "metadata": {},
     "output_type": "execute_result"
    }
   ],
   "source": [
    "dmatrix(\"x1 + I(x1**2) + I(x1**3) + I(x1**4)\", df)"
   ]
  },
  {
   "cell_type": "markdown",
   "metadata": {},
   "source": [
    "좀더 고차원의 다항 선형 회귀를 하려면 Poly 명령과 balanced 명령을 사용하여 다항회귀 차수를 지정할 수 있다. dmatrix 명령의 return_type=\"dataframe\" 인수는 결과를 NumPy 배열이 아닌 판다스 데이터프레임으로 출력하라는 뜻이다."
   ]
  },
  {
   "cell_type": "code",
   "execution_count": 26,
   "metadata": {},
   "outputs": [
    {
     "data": {
      "text/html": [
       "<div>\n",
       "<style scoped>\n",
       "    .dataframe tbody tr th:only-of-type {\n",
       "        vertical-align: middle;\n",
       "    }\n",
       "\n",
       "    .dataframe tbody tr th {\n",
       "        vertical-align: top;\n",
       "    }\n",
       "\n",
       "    .dataframe thead th {\n",
       "        text-align: right;\n",
       "    }\n",
       "</style>\n",
       "<table border=\"1\" class=\"dataframe\">\n",
       "  <thead>\n",
       "    <tr style=\"text-align: right;\">\n",
       "      <th></th>\n",
       "      <th>Intercept</th>\n",
       "      <th>C(x1, Poly).Linear</th>\n",
       "      <th>C(x1, Poly).Quadratic</th>\n",
       "      <th>C(x1, Poly).Cubic</th>\n",
       "      <th>C(x1, Poly)^4</th>\n",
       "      <th>C(x1, Poly)^5</th>\n",
       "      <th>C(x1, Poly)^6</th>\n",
       "      <th>C(x1, Poly)^7</th>\n",
       "      <th>C(x1, Poly)^8</th>\n",
       "      <th>C(x1, Poly)^9</th>\n",
       "    </tr>\n",
       "  </thead>\n",
       "  <tbody>\n",
       "    <tr>\n",
       "      <th>0</th>\n",
       "      <td>1.0</td>\n",
       "      <td>-0.495434</td>\n",
       "      <td>0.522233</td>\n",
       "      <td>-0.453425</td>\n",
       "      <td>0.336581</td>\n",
       "      <td>-0.214834</td>\n",
       "      <td>0.116775</td>\n",
       "      <td>-0.052694</td>\n",
       "      <td>0.018699</td>\n",
       "      <td>-0.004535</td>\n",
       "    </tr>\n",
       "    <tr>\n",
       "      <th>1</th>\n",
       "      <td>1.0</td>\n",
       "      <td>-0.275241</td>\n",
       "      <td>-0.087039</td>\n",
       "      <td>0.377854</td>\n",
       "      <td>-0.317882</td>\n",
       "      <td>-0.035806</td>\n",
       "      <td>0.389249</td>\n",
       "      <td>-0.503518</td>\n",
       "      <td>0.373979</td>\n",
       "      <td>-0.163266</td>\n",
       "    </tr>\n",
       "    <tr>\n",
       "      <th>2</th>\n",
       "      <td>1.0</td>\n",
       "      <td>-0.165145</td>\n",
       "      <td>-0.261116</td>\n",
       "      <td>0.334671</td>\n",
       "      <td>0.056097</td>\n",
       "      <td>-0.393863</td>\n",
       "      <td>0.233550</td>\n",
       "      <td>0.245904</td>\n",
       "      <td>-0.523570</td>\n",
       "      <td>0.380953</td>\n",
       "    </tr>\n",
       "    <tr>\n",
       "      <th>3</th>\n",
       "      <td>1.0</td>\n",
       "      <td>-0.055048</td>\n",
       "      <td>-0.348155</td>\n",
       "      <td>0.129550</td>\n",
       "      <td>0.336581</td>\n",
       "      <td>-0.214834</td>\n",
       "      <td>-0.311400</td>\n",
       "      <td>0.327872</td>\n",
       "      <td>0.261785</td>\n",
       "      <td>-0.571430</td>\n",
       "    </tr>\n",
       "    <tr>\n",
       "      <th>4</th>\n",
       "      <td>1.0</td>\n",
       "      <td>0.055048</td>\n",
       "      <td>-0.348155</td>\n",
       "      <td>-0.129550</td>\n",
       "      <td>0.336581</td>\n",
       "      <td>0.214834</td>\n",
       "      <td>-0.311400</td>\n",
       "      <td>-0.327872</td>\n",
       "      <td>0.261785</td>\n",
       "      <td>0.571430</td>\n",
       "    </tr>\n",
       "    <tr>\n",
       "      <th>5</th>\n",
       "      <td>1.0</td>\n",
       "      <td>0.165145</td>\n",
       "      <td>-0.261116</td>\n",
       "      <td>-0.334671</td>\n",
       "      <td>0.056097</td>\n",
       "      <td>0.393863</td>\n",
       "      <td>0.233550</td>\n",
       "      <td>-0.245904</td>\n",
       "      <td>-0.523570</td>\n",
       "      <td>-0.380953</td>\n",
       "    </tr>\n",
       "    <tr>\n",
       "      <th>6</th>\n",
       "      <td>1.0</td>\n",
       "      <td>0.275241</td>\n",
       "      <td>-0.087039</td>\n",
       "      <td>-0.377854</td>\n",
       "      <td>-0.317882</td>\n",
       "      <td>0.035806</td>\n",
       "      <td>0.389249</td>\n",
       "      <td>0.503518</td>\n",
       "      <td>0.373979</td>\n",
       "      <td>0.163266</td>\n",
       "    </tr>\n",
       "    <tr>\n",
       "      <th>7</th>\n",
       "      <td>1.0</td>\n",
       "      <td>0.385337</td>\n",
       "      <td>0.174078</td>\n",
       "      <td>-0.151142</td>\n",
       "      <td>-0.411377</td>\n",
       "      <td>-0.501280</td>\n",
       "      <td>-0.428174</td>\n",
       "      <td>-0.275179</td>\n",
       "      <td>-0.130893</td>\n",
       "      <td>-0.040816</td>\n",
       "    </tr>\n",
       "    <tr>\n",
       "      <th>8</th>\n",
       "      <td>1.0</td>\n",
       "      <td>0.495434</td>\n",
       "      <td>0.522233</td>\n",
       "      <td>0.453425</td>\n",
       "      <td>0.336581</td>\n",
       "      <td>0.214834</td>\n",
       "      <td>0.116775</td>\n",
       "      <td>0.052694</td>\n",
       "      <td>0.018699</td>\n",
       "      <td>0.004535</td>\n",
       "    </tr>\n",
       "    <tr>\n",
       "      <th>9</th>\n",
       "      <td>1.0</td>\n",
       "      <td>-0.385337</td>\n",
       "      <td>0.174078</td>\n",
       "      <td>0.151142</td>\n",
       "      <td>-0.411377</td>\n",
       "      <td>0.501280</td>\n",
       "      <td>-0.428174</td>\n",
       "      <td>0.275179</td>\n",
       "      <td>-0.130893</td>\n",
       "      <td>0.040816</td>\n",
       "    </tr>\n",
       "  </tbody>\n",
       "</table>\n",
       "</div>"
      ],
      "text/plain": [
       "   Intercept  C(x1, Poly).Linear  C(x1, Poly).Quadratic  C(x1, Poly).Cubic  \\\n",
       "0        1.0           -0.495434               0.522233          -0.453425   \n",
       "1        1.0           -0.275241              -0.087039           0.377854   \n",
       "2        1.0           -0.165145              -0.261116           0.334671   \n",
       "3        1.0           -0.055048              -0.348155           0.129550   \n",
       "4        1.0            0.055048              -0.348155          -0.129550   \n",
       "5        1.0            0.165145              -0.261116          -0.334671   \n",
       "6        1.0            0.275241              -0.087039          -0.377854   \n",
       "7        1.0            0.385337               0.174078          -0.151142   \n",
       "8        1.0            0.495434               0.522233           0.453425   \n",
       "9        1.0           -0.385337               0.174078           0.151142   \n",
       "\n",
       "   C(x1, Poly)^4  C(x1, Poly)^5  C(x1, Poly)^6  C(x1, Poly)^7  C(x1, Poly)^8  \\\n",
       "0       0.336581      -0.214834       0.116775      -0.052694       0.018699   \n",
       "1      -0.317882      -0.035806       0.389249      -0.503518       0.373979   \n",
       "2       0.056097      -0.393863       0.233550       0.245904      -0.523570   \n",
       "3       0.336581      -0.214834      -0.311400       0.327872       0.261785   \n",
       "4       0.336581       0.214834      -0.311400      -0.327872       0.261785   \n",
       "5       0.056097       0.393863       0.233550      -0.245904      -0.523570   \n",
       "6      -0.317882       0.035806       0.389249       0.503518       0.373979   \n",
       "7      -0.411377      -0.501280      -0.428174      -0.275179      -0.130893   \n",
       "8       0.336581       0.214834       0.116775       0.052694       0.018699   \n",
       "9      -0.411377       0.501280      -0.428174       0.275179      -0.130893   \n",
       "\n",
       "   C(x1, Poly)^9  \n",
       "0      -0.004535  \n",
       "1      -0.163266  \n",
       "2       0.380953  \n",
       "3      -0.571430  \n",
       "4       0.571430  \n",
       "5      -0.380953  \n",
       "6       0.163266  \n",
       "7      -0.040816  \n",
       "8       0.004535  \n",
       "9       0.040816  "
      ]
     },
     "execution_count": 26,
     "metadata": {},
     "output_type": "execute_result"
    }
   ],
   "source": [
    "dmatrix(\"C(x1, Poly)\", balanced(x1=10), return_type=\"dataframe\")"
   ]
  },
  {
   "cell_type": "markdown",
   "metadata": {},
   "source": [
    "# 2. OLS.from_formula 메서드"
   ]
  },
  {
   "cell_type": "code",
   "execution_count": 27,
   "metadata": {},
   "outputs": [],
   "source": [
    "# 데이터 생성\n",
    "np.random.seed(0)\n",
    "x1 = np.random.rand(20) + 10\n",
    "x2 = np.random.rand(20) * 10\n",
    "y = x1 + 2 * x2 + np.random.randn(20)\n",
    "df4 = pd.DataFrame(np.array([x1, x2, y]).T, columns=[\"x1\", \"x2\", \"y\"])"
   ]
  },
  {
   "cell_type": "code",
   "execution_count": 28,
   "metadata": {},
   "outputs": [],
   "source": [
    "# 모형 정의 문자열을 사용하는 경우\n",
    "model2 = sm.OLS.from_formula(\"y ~ x1 + x2\", data=df4)"
   ]
  },
  {
   "cell_type": "code",
   "execution_count": 29,
   "metadata": {},
   "outputs": [
    {
     "name": "stdout",
     "output_type": "stream",
     "text": [
      "                            OLS Regression Results                            \n",
      "==============================================================================\n",
      "Dep. Variable:                      y   R-squared:                       0.967\n",
      "Model:                            OLS   Adj. R-squared:                  0.963\n",
      "Method:                 Least Squares   F-statistic:                     246.8\n",
      "Date:                Sat, 25 May 2019   Prob (F-statistic):           2.75e-13\n",
      "Time:                        17:07:27   Log-Likelihood:                -29.000\n",
      "No. Observations:                  20   AIC:                             64.00\n",
      "Df Residuals:                      17   BIC:                             66.99\n",
      "Df Model:                           2                                         \n",
      "Covariance Type:            nonrobust                                         \n",
      "==============================================================================\n",
      "                 coef    std err          t      P>|t|      [0.025      0.975]\n",
      "------------------------------------------------------------------------------\n",
      "Intercept      1.4226     10.140      0.140      0.890     -19.971      22.816\n",
      "x1             0.8114      0.977      0.831      0.418      -1.249       2.872\n",
      "x2             2.0367      0.100     20.305      0.000       1.825       2.248\n",
      "==============================================================================\n",
      "Omnibus:                        1.081   Durbin-Watson:                   1.896\n",
      "Prob(Omnibus):                  0.583   Jarque-Bera (JB):                0.949\n",
      "Skew:                           0.470   Prob(JB):                        0.622\n",
      "Kurtosis:                       2.494   Cond. No.                         494.\n",
      "==============================================================================\n",
      "\n",
      "Warnings:\n",
      "[1] Standard Errors assume that the covariance matrix of the errors is correctly specified.\n"
     ]
    }
   ],
   "source": [
    "print(model2.fit().summary())"
   ]
  },
  {
   "cell_type": "code",
   "execution_count": null,
   "metadata": {},
   "outputs": [],
   "source": []
  },
  {
   "cell_type": "code",
   "execution_count": null,
   "metadata": {},
   "outputs": [],
   "source": []
  },
  {
   "cell_type": "code",
   "execution_count": null,
   "metadata": {},
   "outputs": [],
   "source": []
  }
 ],
 "metadata": {
  "kernelspec": {
   "display_name": "Python 3",
   "language": "python",
   "name": "python3"
  },
  "language_info": {
   "codemirror_mode": {
    "name": "ipython",
    "version": 3
   },
   "file_extension": ".py",
   "mimetype": "text/x-python",
   "name": "python",
   "nbconvert_exporter": "python",
   "pygments_lexer": "ipython3",
   "version": "3.7.3"
  }
 },
 "nbformat": 4,
 "nbformat_minor": 2
}
