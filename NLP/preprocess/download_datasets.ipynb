{
 "cells": [
  {
   "cell_type": "code",
   "id": "initial_id",
   "metadata": {
    "collapsed": true,
    "ExecuteTime": {
     "end_time": "2024-04-24T08:16:06.267148Z",
     "start_time": "2024-04-24T08:15:44.057605Z"
    }
   },
   "source": [
    "from datasets import load_dataset\n",
    "\n",
    "# AG_NEWS 데이터셋 로드\n",
    "dataset = load_dataset(\"ag_news\")\n",
    "\n",
    "# 데이터셋 구조 확인\n",
    "print(dataset)"
   ],
   "outputs": [
    {
     "name": "stdout",
     "output_type": "stream",
     "text": [
      "DatasetDict({\n",
      "    train: Dataset({\n",
      "        features: ['text', 'label'],\n",
      "        num_rows: 120000\n",
      "    })\n",
      "    test: Dataset({\n",
      "        features: ['text', 'label'],\n",
      "        num_rows: 7600\n",
      "    })\n",
      "})\n"
     ]
    }
   ],
   "execution_count": 30
  },
  {
   "metadata": {
    "ExecuteTime": {
     "end_time": "2024-04-24T08:14:59.310053Z",
     "start_time": "2024-04-24T08:14:59.306252Z"
    }
   },
   "cell_type": "code",
   "source": "type(dataset)",
   "id": "79e6a85d08445834",
   "outputs": [
    {
     "data": {
      "text/plain": [
       "datasets.dataset_dict.DatasetDict"
      ]
     },
     "execution_count": 28,
     "metadata": {},
     "output_type": "execute_result"
    }
   ],
   "execution_count": 28
  },
  {
   "metadata": {
    "ExecuteTime": {
     "end_time": "2024-04-24T08:56:42.823063Z",
     "start_time": "2024-04-24T08:56:42.584995Z"
    }
   },
   "cell_type": "code",
   "source": [
    "train_dataset = dataset['train']\n",
    "\n",
    "print(train_dataset.features)\n",
    "\n",
    "# 훈련 데이터의 첫 번째 샘플 출력\n",
    "print(\"첫 번째 훈련 샘플:\", dataset['train'][0])"
   ],
   "id": "b49cb3efd1d7c347",
   "outputs": [
    {
     "ename": "NameError",
     "evalue": "name 'dataset' is not defined",
     "output_type": "error",
     "traceback": [
      "\u001B[0;31m---------------------------------------------------------------------------\u001B[0m",
      "\u001B[0;31mNameError\u001B[0m                                 Traceback (most recent call last)",
      "Cell \u001B[0;32mIn[1], line 1\u001B[0m\n\u001B[0;32m----> 1\u001B[0m train_dataset \u001B[38;5;241m=\u001B[39m \u001B[43mdataset\u001B[49m[\u001B[38;5;124m'\u001B[39m\u001B[38;5;124mtrain\u001B[39m\u001B[38;5;124m'\u001B[39m]\n\u001B[1;32m      3\u001B[0m \u001B[38;5;28mprint\u001B[39m(train_dataset\u001B[38;5;241m.\u001B[39mfeatures)\n\u001B[1;32m      5\u001B[0m \u001B[38;5;66;03m# 훈련 데이터의 첫 번째 샘플 출력\u001B[39;00m\n",
      "\u001B[0;31mNameError\u001B[0m: name 'dataset' is not defined"
     ]
    }
   ],
   "execution_count": 1
  },
  {
   "metadata": {
    "ExecuteTime": {
     "end_time": "2024-04-25T07:19:15.115240Z",
     "start_time": "2024-04-25T07:19:14.932012Z"
    }
   },
   "cell_type": "code",
   "source": [
    "# import datasets\n",
    "from torchtext.datasets import IMDB\n",
    "\n",
    "train_iter = IMDB(split='train')\n",
    "\n",
    "for label, line in train_iter:\n",
    "    break"
   ],
   "id": "878266c146290c76",
   "outputs": [],
   "execution_count": 3
  },
  {
   "metadata": {
    "ExecuteTime": {
     "end_time": "2024-04-25T07:19:16.390544Z",
     "start_time": "2024-04-25T07:19:16.387028Z"
    }
   },
   "cell_type": "code",
   "source": "line",
   "id": "72187b823951348e",
   "outputs": [
    {
     "data": {
      "text/plain": [
       "'I rented I AM CURIOUS-YELLOW from my video store because of all the controversy that surrounded it when it was first released in 1967. I also heard that at first it was seized by U.S. customs if it ever tried to enter this country, therefore being a fan of films considered \"controversial\" I really had to see this for myself.<br /><br />The plot is centered around a young Swedish drama student named Lena who wants to learn everything she can about life. In particular she wants to focus her attentions to making some sort of documentary on what the average Swede thought about certain political issues such as the Vietnam War and race issues in the United States. In between asking politicians and ordinary denizens of Stockholm about their opinions on politics, she has sex with her drama teacher, classmates, and married men.<br /><br />What kills me about I AM CURIOUS-YELLOW is that 40 years ago, this was considered pornographic. Really, the sex and nudity scenes are few and far between, even then it\\'s not shot like some cheaply made porno. While my countrymen mind find it shocking, in reality sex and nudity are a major staple in Swedish cinema. Even Ingmar Bergman, arguably their answer to good old boy John Ford, had sex scenes in his films.<br /><br />I do commend the filmmakers for the fact that any sex shown in the film is shown for artistic purposes rather than just to shock people and make money to be shown in pornographic theaters in America. I AM CURIOUS-YELLOW is a good film for anyone wanting to study the meat and potatoes (no pun intended) of Swedish cinema. But really, this film doesn\\'t have much of a plot.'"
      ]
     },
     "execution_count": 4,
     "metadata": {},
     "output_type": "execute_result"
    }
   ],
   "execution_count": 4
  },
  {
   "metadata": {
    "ExecuteTime": {
     "end_time": "2024-04-25T07:47:29.415804Z",
     "start_time": "2024-04-25T07:47:20.688852Z"
    }
   },
   "cell_type": "code",
   "source": [
    "# 라이브러리 가져오기\n",
    "import torch\n",
    "import torchvision\n",
    "import torchtext\n",
    "import torchdata\n",
    "import transformers\n",
    "from datasets import load_dataset\n",
    "from transformers import BertTokenizer\n",
    "from tokenizers.implementations import ByteLevelBPETokenizer\n",
    "\n",
    "# 각 라이브러리의 버전을 출력하여 잘 설치되어 있는지 확인\n",
    "print(\"Torch version:\", torch.__version__)\n",
    "print(\"Torchvision version:\", torchvision.__version__)\n",
    "print(\"Torchtext version:\", torchtext.__version__)\n",
    "print(\"Torchdata version:\", torchdata.__version__)\n",
    "print(\"Transformers version:\", transformers.__version__)\n",
    "\n",
    "# 각 라이브러리의 기능을 간단히 테스트\n",
    "# 1. Torch: 랜덤 텐서 생성\n",
    "tensor = torch.rand(2, 3)\n",
    "print(\"Random tensor from Torch:\", tensor)\n",
    "\n",
    "# 2. Torchvision: 사전 훈련된 모델 로드\n",
    "model = torchvision.models.resnet18(pretrained=True)\n",
    "print(\"ResNet18 model loaded from torchvision.\")\n",
    "\n",
    "# 3. Torchtext: 데이터 로드 예제\n",
    "train_iter = torchtext.datasets.IMDB(split='train')\n",
    "print(\"First data sample from Torchtext IMDB dataset:\", next(iter(train_iter)))\n",
    "\n",
    "# 4. Torchdata: 데이터셋 접근 예제\n",
    "from torchdata.datapipes.iter import IterableWrapper\n",
    "data = IterableWrapper([1, 2, 3, 4, 5])\n",
    "for x in data:\n",
    "    print(\"Sample data from Torchdata:\", x)\n",
    "    break\n",
    "\n",
    "# 5. Datasets: 공개 데이터셋 로드\n",
    "dataset = load_dataset(\"glue\", \"mrpc\", split='train')\n",
    "print(\"Sample from Hugging Face 'glue/mrpc' dataset:\", dataset[0])\n",
    "\n",
    "# 6. Transformers: 토크나이저 로드\n",
    "tokenizer = BertTokenizer.from_pretrained('bert-base-uncased')\n",
    "print(\"BERT tokenizer loaded from transformers.\")\n",
    "\n",
    "# 7. Tokenizers: 기본 토크나이저 설정 및 테스트\n",
    "tokenizer = ByteLevelBPETokenizer()\n",
    "tokenizer.enable_truncation(max_length=512)\n",
    "encoding = tokenizer.encode(\"Hello, Tokenizers library!\")\n",
    "print(\"Encoded output from Tokenizers:\", encoding.tokens)\n",
    "\n",
    "# 모든 라이브러리가 제대로 작동하는지 확인\n",
    "print(\"All libraries are imported and tested successfully.\")\n"
   ],
   "id": "8587c83b2ba50cf",
   "outputs": [
    {
     "name": "stdout",
     "output_type": "stream",
     "text": [
      "Torch version: 2.2.2\n",
      "Torchvision version: 0.17.2\n",
      "Torchtext version: 0.17.2\n",
      "Torchdata version: 0.7.1\n",
      "Transformers version: 4.40.1\n",
      "Random tensor from Torch: tensor([[0.2812, 0.9981, 0.5388],\n",
      "        [0.6786, 0.4856, 0.0286]])\n",
      "ResNet18 model loaded from torchvision.\n",
      "First data sample from Torchtext IMDB dataset: (1, 'I rented I AM CURIOUS-YELLOW from my video store because of all the controversy that surrounded it when it was first released in 1967. I also heard that at first it was seized by U.S. customs if it ever tried to enter this country, therefore being a fan of films considered \"controversial\" I really had to see this for myself.<br /><br />The plot is centered around a young Swedish drama student named Lena who wants to learn everything she can about life. In particular she wants to focus her attentions to making some sort of documentary on what the average Swede thought about certain political issues such as the Vietnam War and race issues in the United States. In between asking politicians and ordinary denizens of Stockholm about their opinions on politics, she has sex with her drama teacher, classmates, and married men.<br /><br />What kills me about I AM CURIOUS-YELLOW is that 40 years ago, this was considered pornographic. Really, the sex and nudity scenes are few and far between, even then it\\'s not shot like some cheaply made porno. While my countrymen mind find it shocking, in reality sex and nudity are a major staple in Swedish cinema. Even Ingmar Bergman, arguably their answer to good old boy John Ford, had sex scenes in his films.<br /><br />I do commend the filmmakers for the fact that any sex shown in the film is shown for artistic purposes rather than just to shock people and make money to be shown in pornographic theaters in America. I AM CURIOUS-YELLOW is a good film for anyone wanting to study the meat and potatoes (no pun intended) of Swedish cinema. But really, this film doesn\\'t have much of a plot.')\n",
      "Sample data from Torchdata: 1\n",
      "Sample from Hugging Face 'glue/mrpc' dataset: {'sentence1': 'Amrozi accused his brother , whom he called \" the witness \" , of deliberately distorting his evidence .', 'sentence2': 'Referring to him as only \" the witness \" , Amrozi accused his brother of deliberately distorting his evidence .', 'label': 1, 'idx': 0}\n",
      "BERT tokenizer loaded from transformers.\n",
      "Encoded output from Tokenizers: []\n",
      "All libraries are imported and tested successfully.\n"
     ]
    }
   ],
   "execution_count": 3
  },
  {
   "metadata": {
    "ExecuteTime": {
     "end_time": "2024-04-25T08:05:51.859644Z",
     "start_time": "2024-04-25T08:05:51.691295Z"
    }
   },
   "cell_type": "code",
   "source": [
    "label, data = next(iter(train_iter))\n",
    "\n",
    "print(label)\n",
    "print(data)"
   ],
   "id": "c18b0d7c2f986563",
   "outputs": [
    {
     "name": "stdout",
     "output_type": "stream",
     "text": [
      "1\n",
      "I rented I AM CURIOUS-YELLOW from my video store because of all the controversy that surrounded it when it was first released in 1967. I also heard that at first it was seized by U.S. customs if it ever tried to enter this country, therefore being a fan of films considered \"controversial\" I really had to see this for myself.<br /><br />The plot is centered around a young Swedish drama student named Lena who wants to learn everything she can about life. In particular she wants to focus her attentions to making some sort of documentary on what the average Swede thought about certain political issues such as the Vietnam War and race issues in the United States. In between asking politicians and ordinary denizens of Stockholm about their opinions on politics, she has sex with her drama teacher, classmates, and married men.<br /><br />What kills me about I AM CURIOUS-YELLOW is that 40 years ago, this was considered pornographic. Really, the sex and nudity scenes are few and far between, even then it's not shot like some cheaply made porno. While my countrymen mind find it shocking, in reality sex and nudity are a major staple in Swedish cinema. Even Ingmar Bergman, arguably their answer to good old boy John Ford, had sex scenes in his films.<br /><br />I do commend the filmmakers for the fact that any sex shown in the film is shown for artistic purposes rather than just to shock people and make money to be shown in pornographic theaters in America. I AM CURIOUS-YELLOW is a good film for anyone wanting to study the meat and potatoes (no pun intended) of Swedish cinema. But really, this film doesn't have much of a plot.\n"
     ]
    }
   ],
   "execution_count": 5
  }
 ],
 "metadata": {
  "kernelspec": {
   "display_name": "Python 3",
   "language": "python",
   "name": "python3"
  },
  "language_info": {
   "codemirror_mode": {
    "name": "ipython",
    "version": 2
   },
   "file_extension": ".py",
   "mimetype": "text/x-python",
   "name": "python",
   "nbconvert_exporter": "python",
   "pygments_lexer": "ipython2",
   "version": "2.7.6"
  }
 },
 "nbformat": 4,
 "nbformat_minor": 5
}
