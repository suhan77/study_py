{
 "cells": [
  {
   "metadata": {},
   "cell_type": "markdown",
   "source": "# 1. 세팅",
   "id": "571cf01ee6c05cb8"
  },
  {
   "metadata": {
    "ExecuteTime": {
     "end_time": "2024-05-03T08:06:43.587096Z",
     "start_time": "2024-05-03T08:06:43.585190Z"
    }
   },
   "cell_type": "code",
   "source": [
    "from torchtext.datasets import AG_NEWS\n",
    "from torchtext.data.utils import get_tokenizer\n",
    "from torchtext.vocab import build_vocab_from_iterator\n",
    "from torch.utils.data import DataLoader\n",
    "import torch"
   ],
   "id": "initial_id",
   "outputs": [],
   "execution_count": 8
  },
  {
   "metadata": {},
   "cell_type": "markdown",
   "source": [
    "# 2. 데이터셋 준비 \n",
    "\n",
    "- 기법: 단어 인덱싱\n",
    "- 데이터: 연습용 데이터, 2진 분류용"
   ],
   "id": "f19041951cc0fa73"
  },
  {
   "metadata": {
    "ExecuteTime": {
     "end_time": "2024-05-03T08:06:51.689002Z",
     "start_time": "2024-05-03T08:06:45.697657Z"
    }
   },
   "cell_type": "code",
   "source": [
    "# 토크나이저와 어휘집 정의\n",
    "tokenizer = get_tokenizer('basic_english')\n",
    "train_iter = AG_NEWS(split='train')\n",
    "\n",
    "def yield_tokens(data_iter):\n",
    "    for _, text in data_iter:\n",
    "        yield tokenizer(text)\n",
    "\n",
    "vocab = build_vocab_from_iterator(yield_tokens(train_iter), specials=[\"<unk>\"])\n",
    "vocab.set_default_index(vocab[\"<unk>\"])\n",
    "\n",
    "# 데이터 처리 파이프라인 정의\n",
    "text_pipeline = lambda x: vocab(tokenizer(x))\n",
    "label_pipeline = lambda x: int(x) - 1\n",
    "\n",
    "# DataLoader 준비\n",
    "def collate_batch(batch):\n",
    "    label_list, text_list, lengths = [], [], []\n",
    "    for (_label, _text) in batch:\n",
    "        label_list.append(label_pipeline(_label))\n",
    "        processed_text = torch.tensor(text_pipeline(_text), dtype=torch.int64)\n",
    "        text_list.append(processed_text)\n",
    "        lengths.append(processed_text.size(0))\n",
    "    labels = torch.tensor(label_list, dtype=torch.int64)\n",
    "    texts = torch.nn.utils.rnn.pad_sequence(text_list, padding_value=vocab[\"<pad>\"])\n",
    "    lengths = torch.tensor(lengths, dtype=torch.int64)\n",
    "    return labels, texts, lengths\n",
    "\n",
    "train_dataset = AG_NEWS(split='train')\n",
    "train_dataloader = DataLoader(train_dataset, batch_size=8, shuffle=False, collate_fn=collate_batch)\n",
    "\n",
    "# 이제 train_dataloader를 이용하여 학습 루프에서 반복할 수 있습니다.\n"
   ],
   "id": "ea1e5ad99ba7022a",
   "outputs": [],
   "execution_count": 9
  },
  {
   "metadata": {},
   "cell_type": "markdown",
   "source": [
    "# 4. 모델 정의\n",
    "\n",
    "1. nn.Embedding\n",
    "\n",
    "```python\n",
    "nn.Embedding(num_embeddings, embedding_dim, padding_idx=None)\n",
    "\n",
    "# num_embeddings: 사전에 있는 고유 단어의 수\n",
    "# embedding_dim: 각 단어 인덱스에 대해 생성되는 임베딩 벡터의 차원\n",
    "# padding_idx: 패딩 인덱스를 지정하면, 해당 인덱스에 대한 벡터는 모델이 학습하는 동안 업데이트되지 않고 0으로 유지\n",
    "```"
   ],
   "id": "811789c2abb2231a"
  },
  {
   "metadata": {
    "ExecuteTime": {
     "end_time": "2024-04-15T07:09:02.609408Z",
     "start_time": "2024-04-15T07:09:02.604732Z"
    }
   },
   "cell_type": "code",
   "source": "",
   "id": "db02d1ad398a89c3",
   "outputs": [],
   "execution_count": 3
  },
  {
   "metadata": {},
   "cell_type": "markdown",
   "source": "# 5. 모델 학습",
   "id": "1d51299b4290ee53"
  },
  {
   "metadata": {
    "ExecuteTime": {
     "end_time": "2024-04-15T07:09:03.815426Z",
     "start_time": "2024-04-15T07:09:03.508073Z"
    }
   },
   "cell_type": "code",
   "source": "",
   "id": "cc3ba6099f142bb",
   "outputs": [
    {
     "name": "stdout",
     "output_type": "stream",
     "text": [
      "Batch 1, Loss: 0.6993478536605835\n",
      "Batch 2, Loss: 0.6983717083930969\n",
      "Batch 3, Loss: 0.6256541013717651\n",
      "Batch 4, Loss: 0.7896268367767334\n",
      "Batch 5, Loss: 0.7258651256561279\n"
     ]
    }
   ],
   "execution_count": 4
  },
  {
   "metadata": {},
   "cell_type": "code",
   "outputs": [],
   "execution_count": null,
   "source": "",
   "id": "179cacd016bc94c1"
  }
 ],
 "metadata": {
  "kernelspec": {
   "display_name": "Python 3",
   "language": "python",
   "name": "python3"
  },
  "language_info": {
   "codemirror_mode": {
    "name": "ipython",
    "version": 2
   },
   "file_extension": ".py",
   "mimetype": "text/x-python",
   "name": "python",
   "nbconvert_exporter": "python",
   "pygments_lexer": "ipython2",
   "version": "2.7.6"
  }
 },
 "nbformat": 4,
 "nbformat_minor": 5
}
