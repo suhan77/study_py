{
 "cells": [
  {
   "cell_type": "markdown",
   "metadata": {},
   "source": [
    "https://wikidocs.net/21693"
   ]
  },
  {
   "cell_type": "markdown",
   "metadata": {},
   "source": [
    "# NLP (natural language processing)\n",
    "\n",
    "음성 인식, 내용 요약, 번역, 사용자의 감성 분석, 텍스트 분류 작업(스팸 메일 분류, 뉴스 기사 카테고리 분류), 질의 응답 시스템, 챗봇과 같은 곳에서 사용.\n",
    "\n",
    "기계에게 인간의 언어를 이해시킨다\n",
    "\n",
    "## 필요한 툴\n",
    "\n",
    " - 아나콘다\n",
    " - nltk, ntlk data : 자연어 처리를 위해 파이썬 패키지\n",
    " - KoNLpy : 한국의 형태소 분석기\n",
    " - tensorflow, keras\n",
    " - sklearn, pandas, numpy"
   ]
  },
  {
   "cell_type": "markdown",
   "metadata": {},
   "source": [
    "## 텍스트 전처리\n",
    "\n",
    "### 토큰화 (Tokenization)\n",
    "\n",
    " - 코퍼스(corpus)에서 토큰(token)이라 불리는 단위로 나누는 작업\n",
    "\n",
    "#### 단어 토큰화 (Word Tokenization)\n",
    " - 토큰의 기준을 단어(Word)로 하는 경우, 단어 토큰화(Word Tokenization)\n",
    " \n",
    "#### 토큰화 기준\n",
    " - 애매하다\n",
    " - ex) don't 를 토큰화하면 do n't로 토큰화할것인가?\n",
    " \n",
    "#### 토큰화시 고려할점\n",
    " - 구두점이나 특수 문자를 단순 제외해서는 안 된다.\n",
    " - 줄임말과 단어 내에 띄어쓰기가 있는 경우\n",
    "\n",
    "#### 문장 토큰화 (Sentence Tokenization)\n",
    " - 문장 분류(Sentence Segmentation)\n",
    " \n",
    "#### 이진 분류기 (Binary Classifier)\n",
    " - 1. 온점(.)이 단어의 일부분일 경우. 즉, 온점이 약어(Abbreivation)로 쓰이는 경우\n",
    " - 2. 온점(.)이 정말로 문장의 구분자(boundary)일 경우를 의미할 것입니다.\n",
    " - 문장 토큰화를 수행하는 오픈 소스로는 NLTK, OpenNLP, 스탠포드 CoreNLP, splitta, LingPipe\n",
    " \n",
    "#### 한국어의 어려움\n",
    " - 조사, 어미 등을 붙여서 말을 만드는 언어 = 교착어\n",
    " - 형태소(morpheme)란 개념을 반드시 이해해야 합니다.\n",
    " - 자립 형태소 : 접사, 어미, 조사와 상관없이 자립하여 사용할 수 있는 형태소. 그 자체로 단어가 된다. 체언(명사, 대명사, 수사), 수식언(관형사, 부사), 감탄사 등이 있다.\n",
    " - 의존 형태소 : 다른 형태소와 결합하여 사용되는 형태소. 접사, 어미, 조사, 어간를 말한다.\n",
    " - 한국어는 띄어쓰기가 영어보다 잘 지켜지지 않는다.\n",
    " \n",
    "#### 품사 태깅(Part-of-speech tagging)\n",
    " - 품사에 따라서 단어의 의미가 달라지기도 합니다\n",
    " "
   ]
  },
  {
   "cell_type": "markdown",
   "metadata": {},
   "source": [
    "## 정제(Cleaning) and 정규화(Normalization)\n",
    "\n"
   ]
  }
 ],
 "metadata": {
  "kernelspec": {
   "display_name": "Python 3",
   "language": "python",
   "name": "python3"
  },
  "language_info": {
   "codemirror_mode": {
    "name": "ipython",
    "version": 3
   },
   "file_extension": ".py",
   "mimetype": "text/x-python",
   "name": "python",
   "nbconvert_exporter": "python",
   "pygments_lexer": "ipython3",
   "version": "3.7.3"
  }
 },
 "nbformat": 4,
 "nbformat_minor": 2
}
