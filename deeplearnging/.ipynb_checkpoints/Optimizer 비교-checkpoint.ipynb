{
 "cells": [
  {
   "cell_type": "code",
   "execution_count": 1,
   "id": "e7b928c5",
   "metadata": {},
   "outputs": [
    {
     "data": {
      "text/plain": [
       "'2.4.0'"
      ]
     },
     "execution_count": 1,
     "metadata": {},
     "output_type": "execute_result"
    }
   ],
   "source": [
    "import tensorflow as tf\n",
    "tf.__version__"
   ]
  },
  {
   "cell_type": "code",
   "execution_count": 2,
   "id": "f27aa503",
   "metadata": {},
   "outputs": [
    {
     "data": {
      "text/plain": [
       "[name: \"/device:CPU:0\"\n",
       " device_type: \"CPU\"\n",
       " memory_limit: 268435456\n",
       " locality {\n",
       " }\n",
       " incarnation: 2604577054925905926]"
      ]
     },
     "execution_count": 2,
     "metadata": {},
     "output_type": "execute_result"
    }
   ],
   "source": [
    "from tensorflow.python.client import device_lib\n",
    "device_lib.list_local_devices()"
   ]
  },
  {
   "cell_type": "code",
   "execution_count": 3,
   "id": "5c6039aa",
   "metadata": {},
   "outputs": [],
   "source": [
    "mnist = tf.keras.datasets.mnist\n",
    "\n",
    "(x_train, y_train), (x_test, y_test) = mnist.load_data()\n",
    "x_train, x_test = x_train / 255.0, x_test / 255.0"
   ]
  },
  {
   "cell_type": "markdown",
   "id": "ccb68e52",
   "metadata": {},
   "source": [
    "# 1. SGD"
   ]
  },
  {
   "cell_type": "code",
   "execution_count": 8,
   "id": "80f4f3f7",
   "metadata": {},
   "outputs": [],
   "source": [
    "model = tf.keras.models.Sequential([\n",
    "  tf.keras.layers.Flatten(input_shape=(28, 28)),\n",
    "  tf.keras.layers.Dense(128, activation='relu'),\n",
    "  tf.keras.layers.Dropout(0.2),\n",
    "  tf.keras.layers.Dense(10, activation='softmax')\n",
    "])\n",
    "\n",
    "model.compile(optimizer='SGD',\n",
    "              loss='sparse_categorical_crossentropy',\n",
    "              metrics=['accuracy'])"
   ]
  },
  {
   "cell_type": "code",
   "execution_count": 9,
   "id": "ff8c004d",
   "metadata": {},
   "outputs": [
    {
     "name": "stdout",
     "output_type": "stream",
     "text": [
      "Epoch 1/5\n",
      "1875/1875 [==============================] - 1s 526us/step - loss: 1.0960 - accuracy: 0.6873\n",
      "Epoch 2/5\n",
      "1875/1875 [==============================] - 1s 518us/step - loss: 0.4099 - accuracy: 0.8825\n",
      "Epoch 3/5\n",
      "1875/1875 [==============================] - 1s 518us/step - loss: 0.3351 - accuracy: 0.9046\n",
      "Epoch 4/5\n",
      "1875/1875 [==============================] - 1s 533us/step - loss: 0.2934 - accuracy: 0.9159\n",
      "Epoch 5/5\n",
      "1875/1875 [==============================] - 1s 517us/step - loss: 0.2658 - accuracy: 0.9255\n",
      "313/313 - 0s - loss: 0.2142 - accuracy: 0.9406\n"
     ]
    },
    {
     "data": {
      "text/plain": [
       "[0.2141595482826233, 0.9405999779701233]"
      ]
     },
     "execution_count": 9,
     "metadata": {},
     "output_type": "execute_result"
    }
   ],
   "source": [
    "model.fit(x_train, y_train, epochs=5)\n",
    "\n",
    "model.evaluate(x_test,  y_test, verbose=2)"
   ]
  },
  {
   "cell_type": "markdown",
   "id": "aa46d841",
   "metadata": {},
   "source": [
    "# 2. Adagrad"
   ]
  },
  {
   "cell_type": "code",
   "execution_count": 22,
   "id": "d0aaa5a1",
   "metadata": {},
   "outputs": [],
   "source": [
    "model = tf.keras.models.Sequential([\n",
    "  tf.keras.layers.Flatten(input_shape=(28, 28)),\n",
    "  tf.keras.layers.Dense(128, activation='relu'),\n",
    "  tf.keras.layers.Dropout(0.2),\n",
    "  tf.keras.layers.Dense(10, activation='softmax')\n",
    "])\n",
    "\n",
    "model.compile(optimizer='Adagrad',\n",
    "              loss='sparse_categorical_crossentropy',\n",
    "              metrics=['accuracy'])"
   ]
  },
  {
   "cell_type": "code",
   "execution_count": 23,
   "id": "c21e28f0",
   "metadata": {},
   "outputs": [
    {
     "name": "stdout",
     "output_type": "stream",
     "text": [
      "Epoch 1/5\n",
      "1875/1875 [==============================] - 1s 561us/step - loss: 1.6900 - accuracy: 0.5014\n",
      "Epoch 2/5\n",
      "1875/1875 [==============================] - 1s 553us/step - loss: 0.7571 - accuracy: 0.8118\n",
      "Epoch 3/5\n",
      "1875/1875 [==============================] - 1s 547us/step - loss: 0.5971 - accuracy: 0.8420\n",
      "Epoch 4/5\n",
      "1875/1875 [==============================] - 1s 543us/step - loss: 0.5304 - accuracy: 0.8576\n",
      "Epoch 5/5\n",
      "1875/1875 [==============================] - 1s 541us/step - loss: 0.4913 - accuracy: 0.8656\n",
      "313/313 - 0s - loss: 0.3940 - accuracy: 0.8982\n"
     ]
    },
    {
     "data": {
      "text/plain": [
       "[0.3939772844314575, 0.8981999754905701]"
      ]
     },
     "execution_count": 23,
     "metadata": {},
     "output_type": "execute_result"
    }
   ],
   "source": [
    "model.fit(x_train, y_train, epochs=5)\n",
    "\n",
    "model.evaluate(x_test,  y_test, verbose=2)"
   ]
  },
  {
   "cell_type": "markdown",
   "id": "b0f17a4b",
   "metadata": {},
   "source": [
    "# 3. RMSprop"
   ]
  },
  {
   "cell_type": "code",
   "execution_count": 10,
   "id": "e1bee44d",
   "metadata": {},
   "outputs": [],
   "source": [
    "model = tf.keras.models.Sequential([\n",
    "  tf.keras.layers.Flatten(input_shape=(28, 28)),\n",
    "  tf.keras.layers.Dense(128, activation='relu'),\n",
    "  tf.keras.layers.Dropout(0.2),\n",
    "  tf.keras.layers.Dense(10, activation='softmax')\n",
    "])\n",
    "\n",
    "model.compile(optimizer='RMSprop',\n",
    "              loss='sparse_categorical_crossentropy',\n",
    "              metrics=['accuracy'])"
   ]
  },
  {
   "cell_type": "code",
   "execution_count": 11,
   "id": "9c7ca730",
   "metadata": {},
   "outputs": [
    {
     "name": "stdout",
     "output_type": "stream",
     "text": [
      "Epoch 1/5\n",
      "1875/1875 [==============================] - 2s 672us/step - loss: 0.4662 - accuracy: 0.8664\n",
      "Epoch 2/5\n",
      "1875/1875 [==============================] - 1s 649us/step - loss: 0.1619 - accuracy: 0.9510\n",
      "Epoch 3/5\n",
      "1875/1875 [==============================] - 1s 638us/step - loss: 0.1269 - accuracy: 0.9638\n",
      "Epoch 4/5\n",
      "1875/1875 [==============================] - 1s 674us/step - loss: 0.1074 - accuracy: 0.9699\n",
      "Epoch 5/5\n",
      "1875/1875 [==============================] - 1s 635us/step - loss: 0.1116 - accuracy: 0.9710\n",
      "313/313 - 0s - loss: 0.1003 - accuracy: 0.9757\n"
     ]
    },
    {
     "data": {
      "text/plain": [
       "[0.10033827275037766, 0.9757000207901001]"
      ]
     },
     "execution_count": 11,
     "metadata": {},
     "output_type": "execute_result"
    }
   ],
   "source": [
    "model.fit(x_train, y_train, epochs=5)\n",
    "\n",
    "model.evaluate(x_test,  y_test, verbose=2)"
   ]
  },
  {
   "cell_type": "markdown",
   "id": "77bffaf4",
   "metadata": {},
   "source": [
    "# 3. Momentum"
   ]
  },
  {
   "cell_type": "code",
   "execution_count": 18,
   "id": "4302b933",
   "metadata": {},
   "outputs": [],
   "source": [
    "opt = tf.keras.optimizers.SGD(learning_rate=0.1, momentum=0.9)"
   ]
  },
  {
   "cell_type": "code",
   "execution_count": 19,
   "id": "4c67de0d",
   "metadata": {},
   "outputs": [],
   "source": [
    "model = tf.keras.models.Sequential([\n",
    "  tf.keras.layers.Flatten(input_shape=(28, 28)),\n",
    "  tf.keras.layers.Dense(128, activation='relu'),\n",
    "  tf.keras.layers.Dropout(0.2),\n",
    "  tf.keras.layers.Dense(10, activation='softmax')\n",
    "])\n",
    "\n",
    "# momentum 정도를 줄 수 있음\n",
    "model.compile(optimizer=opt,\n",
    "              loss='sparse_categorical_crossentropy',\n",
    "              metrics=['accuracy'])"
   ]
  },
  {
   "cell_type": "code",
   "execution_count": 21,
   "id": "f6a85e1d",
   "metadata": {},
   "outputs": [
    {
     "name": "stdout",
     "output_type": "stream",
     "text": [
      "Epoch 1/5\n",
      "1875/1875 [==============================] - 1s 519us/step - loss: 0.2130 - accuracy: 0.9446\n",
      "Epoch 2/5\n",
      "1875/1875 [==============================] - 1s 523us/step - loss: 0.1948 - accuracy: 0.9493\n",
      "Epoch 3/5\n",
      "1875/1875 [==============================] - 1s 518us/step - loss: 0.1871 - accuracy: 0.9508\n",
      "Epoch 4/5\n",
      "1875/1875 [==============================] - 1s 528us/step - loss: 0.1904 - accuracy: 0.9519\n",
      "Epoch 5/5\n",
      "1875/1875 [==============================] - 1s 521us/step - loss: 0.1709 - accuracy: 0.9562\n",
      "313/313 - 0s - loss: 0.1926 - accuracy: 0.9623\n"
     ]
    },
    {
     "data": {
      "text/plain": [
       "[0.19261913001537323, 0.9623000025749207]"
      ]
     },
     "execution_count": 21,
     "metadata": {},
     "output_type": "execute_result"
    }
   ],
   "source": [
    "model.fit(x_train, y_train, epochs=5)\n",
    "model.evaluate(x_test,  y_test, verbose=2)"
   ]
  },
  {
   "cell_type": "markdown",
   "id": "0b152436",
   "metadata": {},
   "source": [
    "# 1. adam"
   ]
  },
  {
   "cell_type": "code",
   "execution_count": 4,
   "id": "72d40e61",
   "metadata": {},
   "outputs": [],
   "source": [
    "model = tf.keras.models.Sequential([\n",
    "  tf.keras.layers.Flatten(input_shape=(28, 28)),\n",
    "  tf.keras.layers.Dense(128, activation='relu'),\n",
    "  tf.keras.layers.Dropout(0.2),\n",
    "  tf.keras.layers.Dense(10, activation='softmax')\n",
    "])\n",
    "\n",
    "model.compile(optimizer='adam',\n",
    "              loss='sparse_categorical_crossentropy',\n",
    "              metrics=['accuracy'])"
   ]
  },
  {
   "cell_type": "code",
   "execution_count": 32,
   "id": "a461049c",
   "metadata": {
    "scrolled": true
   },
   "outputs": [
    {
     "name": "stdout",
     "output_type": "stream",
     "text": [
      "Epoch 1/5\n",
      "1875/1875 [==============================] - 1s 532us/step - loss: 0.2875 - accuracy: 0.9197\n",
      "Epoch 2/5\n",
      "1875/1875 [==============================] - 1s 539us/step - loss: 0.2872 - accuracy: 0.9202\n",
      "Epoch 3/5\n",
      "1875/1875 [==============================] - 1s 530us/step - loss: 0.2867 - accuracy: 0.9196\n",
      "Epoch 4/5\n",
      "1875/1875 [==============================] - 1s 535us/step - loss: 0.2861 - accuracy: 0.9205\n",
      "Epoch 5/5\n",
      "1875/1875 [==============================] - 1s 534us/step - loss: 0.2872 - accuracy: 0.9200\n"
     ]
    },
    {
     "data": {
      "text/plain": [
       "<tensorflow.python.keras.callbacks.History at 0x28d3105ebb0>"
      ]
     },
     "execution_count": 32,
     "metadata": {},
     "output_type": "execute_result"
    }
   ],
   "source": [
    "model.fit(x_train, y_train, epochs=5, batch_size=32)"
   ]
  },
  {
   "cell_type": "code",
   "execution_count": 6,
   "id": "3c4d9fc5",
   "metadata": {},
   "outputs": [
    {
     "name": "stdout",
     "output_type": "stream",
     "text": [
      "313/313 - 0s - loss: 0.0752 - accuracy: 0.9770\n"
     ]
    },
    {
     "data": {
      "text/plain": [
       "[0.07515289634466171, 0.9769999980926514]"
      ]
     },
     "execution_count": 6,
     "metadata": {},
     "output_type": "execute_result"
    }
   ],
   "source": [
    "model.evaluate(x_test,  y_test, verbose=2)"
   ]
  },
  {
   "cell_type": "code",
   "execution_count": 29,
   "id": "60a7431b",
   "metadata": {},
   "outputs": [
    {
     "data": {
      "text/plain": [
       "60000"
      ]
     },
     "execution_count": 29,
     "metadata": {},
     "output_type": "execute_result"
    }
   ],
   "source": [
    "len(x_train)"
   ]
  }
 ],
 "metadata": {
  "kernelspec": {
   "display_name": "Python 3",
   "language": "python",
   "name": "python3"
  },
  "language_info": {
   "codemirror_mode": {
    "name": "ipython",
    "version": 3
   },
   "file_extension": ".py",
   "mimetype": "text/x-python",
   "name": "python",
   "nbconvert_exporter": "python",
   "pygments_lexer": "ipython3",
   "version": "3.8.8"
  }
 },
 "nbformat": 4,
 "nbformat_minor": 5
}
