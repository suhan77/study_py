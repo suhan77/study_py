{
 "cells": [
  {
   "cell_type": "markdown",
   "metadata": {},
   "source": [
    "출처\n",
    "https://datascienceschool.net/view-notebook/2205ad8f0c5947c08696e8927b466341/"
   ]
  },
  {
   "cell_type": "markdown",
   "metadata": {},
   "source": [
    "다음과 같은 목적함수 값이 최소화될 때까지 클러스터의 중심(centroid) 위치와 각 데이터가 소속될 클러스터를 반복해서 찾는다. 이 값을 inertia라고도 한다."
   ]
  },
  {
   "cell_type": "markdown",
   "metadata": {},
   "source": [
    "$$\n",
    "J = \\sum^{k}_{k=1}\\sum_{i=C_{K}} d(x_{i}, \\mu_{k})\n",
    "$$"
   ]
  },
  {
   "cell_type": "markdown",
   "metadata": {},
   "source": [
    "이 식에서  K 는 클러스터의 갯수이고  Ck 는  k 번째 클러스터에 속하는 데이터의 집합,  μk 는  k 번째 클러스터의 중심위치,  d 는  xi,μk  두 데이터사이의 거리(distance) 혹은 비유사도(dissimilarity)로 정의한다. 만약 유클리드 거리를 사용한다면 다음과 같다."
   ]
  },
  {
   "cell_type": "markdown",
   "metadata": {},
   "source": [
    "$$\n",
    "d(x_{i},\\mu_{k}) = ||x_{i} - \\mu_{k}||^2\n",
    "$$"
   ]
  },
  {
   "cell_type": "markdown",
   "metadata": {},
   "source": [
    "세부 알고리즘은 다음과 같다.\n",
    "\n",
    "1. 임의의 중심값  μk  를 고른다. 보통 데이터 샘플 중에서  K 개를 선택한다.\n",
    "2. 중심에서 각 데이터까지의 거리를 계산\n",
    "3. 각 데이터에서 가장 가까운 중심을 선택하여 클러스터 갱신\n",
    "4. 다시 만들어진 클러스터에 대해 중심을 다시 계산하고 1 ~ 4를 반복한다."
   ]
  },
  {
   "cell_type": "markdown",
   "metadata": {},
   "source": [
    "scikit-learn의 cluster 서브패키지는 KMeans 클러스터링을 위한 KMeans 클래스를 제공한다. 다음과 같은 인수를 받을 수 있다.\n",
    "\n",
    "- n_clusters: 클러스터의 갯수\n",
    "- init: 초기화 방법. \"random\"이면 무작위, \"k-means++\"이면 K-Means++ 방법. 또는 각 데이터의 클러스터 라벨.\n",
    "- n_init: 초기 중심값 시도 횟수. 디폴트는 10이고 10개의 무작위 중심값 목록 중 가장 좋은 값을 선택한다.\n",
    "- max_iter: 최대 반복 횟수.\n",
    "- random_state: 시드값."
   ]
  },
  {
   "cell_type": "markdown",
   "metadata": {},
   "source": [
    "# 1. K-Means "
   ]
  },
  {
   "cell_type": "code",
   "execution_count": 5,
   "metadata": {},
   "outputs": [],
   "source": [
    "from sklearn.datasets import make_blobs\n",
    "from sklearn.cluster import KMeans\n",
    "import matplotlib.pyplot as plt"
   ]
  },
  {
   "cell_type": "code",
   "execution_count": null,
   "metadata": {},
   "outputs": [],
   "source": [
    "# 데이터 불로오기\n",
    "X, _ = make_blobs(n_samples=20, random_state=4)"
   ]
  },
  {
   "cell_type": "code",
   "execution_count": 8,
   "metadata": {},
   "outputs": [
    {
     "data": {
      "text/plain": [
       "array([[11.08943474,  2.93535428],\n",
       "       [ 4.00258274, -8.03628372],\n",
       "       [ 8.80246137,  4.83877118],\n",
       "       [ 2.81077792, -5.16829031],\n",
       "       [10.17702881,  4.34245544],\n",
       "       [ 8.92229526, -0.63993225],\n",
       "       [ 8.7337095 ,  2.49162431],\n",
       "       [11.67704742,  4.69061509],\n",
       "       [ 9.95926647,  0.85665806],\n",
       "       [ 9.67284681, -0.20283165],\n",
       "       [ 6.04244736, -4.76336913],\n",
       "       [ 8.18378052,  1.29564214],\n",
       "       [ 9.61358013,  3.08737171],\n",
       "       [ 8.69289001,  1.54322016],\n",
       "       [ 3.67837314, -4.88169819],\n",
       "       [ 2.84899245, -4.84037373],\n",
       "       [ 2.6071162 , -5.68757019],\n",
       "       [ 8.47069555,  4.35075261],\n",
       "       [11.14604491,  3.18350772],\n",
       "       [ 9.76566918,  1.27689813]])"
      ]
     },
     "execution_count": 8,
     "metadata": {},
     "output_type": "execute_result"
    }
   ],
   "source": [
    "X"
   ]
  },
  {
   "cell_type": "code",
   "execution_count": 12,
   "metadata": {},
   "outputs": [
    {
     "data": {
      "text/plain": [
       "array([0, 1, 0, 1, 0, 0, 0, 0, 0, 0, 1, 0, 0, 0, 1, 1, 1, 0, 0, 0])"
      ]
     },
     "execution_count": 12,
     "metadata": {},
     "output_type": "execute_result"
    }
   ],
   "source": [
    "# 분류 해보기, 모델 생성\n",
    "model = KMeans(n_clusters=2, init=\"random\", n_init=1, max_iter=4, random_state=8).fit(X)\n",
    "model.labels_"
   ]
  },
  {
   "cell_type": "code",
   "execution_count": null,
   "metadata": {},
   "outputs": [],
   "source": [
    "# 함수로 만들어 사용\n",
    "def plot_KMeans(n):\n",
    "    # 모델 생성\n",
    "    model = KMeans(n_clusters=2, init=\"random\", n_init=1, max_iter=n, random_state=8).fit(X)\n",
    "    \n",
    "    # cluster의 중심\n",
    "    c0, c1 = model.cluster_centers_\n",
    "    \n",
    "    # 그래프 그리기\n",
    "    plt.scatter(X[model.labels_ == 0, 0], X[model.labels_ == 0, 1], marker='v', facecolor='r', edgecolors='k')\n",
    "    plt.scatter(X[model.labels_ == 1, 0], X[model.labels_ == 1, 1], marker='^', facecolor='y', edgecolors='k')\n",
    "    plt.scatter(c0[0], c0[1], marker='v', c=\"r\", s=200)\n",
    "    plt.scatter(c1[0], c1[1], marker='^', c=\"y\", s=200)\n",
    "    plt.grid(False)\n",
    "    plt.title(\"iteration={}, score={:5.2f}\".format(n, model.score(X)))"
   ]
  },
  {
   "cell_type": "code",
   "execution_count": 6,
   "metadata": {},
   "outputs": [
    {
     "data": {
      "image/png": "[encoded data removed]",
      "text/plain": [
       "<Figure size 576x576 with 4 Axes>"
      ]
     },
     "metadata": {
      "needs_background": "light"
     },
     "output_type": "display_data"
    }
   ],
   "source": [
    "plt.figure(figsize=(8, 8))\n",
    "plt.subplot(321)\n",
    "plot_KMeans(1) #1회 반복\n",
    "plt.subplot(322)\n",
    "plot_KMeans(2) # 2회반복\n",
    "plt.subplot(323)\n",
    "plot_KMeans(3) # 3회 반복\n",
    "plt.subplot(324)\n",
    "plot_KMeans(4) # 4회 반복\n",
    "plt.tight_layout()\n",
    "plt.show()"
   ]
  },
  {
   "cell_type": "markdown",
   "metadata": {},
   "source": [
    "반복할 수록 중심값을 찾아간다"
   ]
  },
  {
   "cell_type": "markdown",
   "metadata": {},
   "source": [
    "# 2. K-means++ "
   ]
  },
  {
   "cell_type": "markdown",
   "metadata": {},
   "source": [
    "K-Means++ 알고리즘은 초기 중심값을 설정하기 위한 알고리즘이다. 다음과 같은 방법을 통해 되도록 멀리 떨어진 중심값 집합을 찾아낸다.\n",
    "\n",
    "1. 중심값을 저장할 집합  M  준비\n",
    "2. 일단 하나의 중심  μ0 를 랜덤하게 선택하여  M 에 넣는다.\n",
    "3. M 에 속하지 않는 모든 샘플  xi 에 대해 거리  d(M,xi) 를 계산.  d(M,xi) 는  M 안의 모든 샘플  μk 에 대해  d(μk,xi) 를 계산하여 가장 작은 값 선택\n",
    "4. d(M,xi) 에 비례한 확률로 다음 중심  μ 를 선택.\n",
    "5. K 개의 중심을 선택할 때까지 반복\n",
    "6. K-Means 알고리즘 사용\n",
    "\n",
    "다음은 KMean 방법을 사용하여 MNIST Digit 이미지 데이터를 클러스터링한 결과이다. 각 클러스터에서 10개씩의 데이터만 표시하였다."
   ]
  },
  {
   "cell_type": "code",
   "execution_count": 16,
   "metadata": {},
   "outputs": [
    {
     "data": {
      "image/png": "[encoded data removed]",
      "text/plain": [
       "<Figure size 576x144 with 10 Axes>"
      ]
     },
     "metadata": {},
     "output_type": "display_data"
    },
    {
     "data": {
      "image/png": "[encoded data removed]",
      "text/plain": [
       "<Figure size 576x144 with 10 Axes>"
      ]
     },
     "metadata": {},
     "output_type": "display_data"
    },
    {
     "data": {
      "image/png": "[encoded data removed]",
      "text/plain": [
       "<Figure size 576x144 with 10 Axes>"
      ]
     },
     "metadata": {},
     "output_type": "display_data"
    },
    {
     "data": {
      "image/png": "[encoded data removed]",
      "text/plain": [
       "<Figure size 576x144 with 10 Axes>"
      ]
     },
     "metadata": {},
     "output_type": "display_data"
    },
    {
     "data": {
      "image/png": "[encoded data removed]",
      "text/plain": [
       "<Figure size 576x144 with 10 Axes>"
      ]
     },
     "metadata": {},
     "output_type": "display_data"
    },
    {
     "data": {
      "image/png": "[encoded data removed]",
      "text/plain": [
       "<Figure size 576x144 with 10 Axes>"
      ]
     },
     "metadata": {},
     "output_type": "display_data"
    },
    {
     "data": {
      "image/png": "[encoded data removed]",
      "text/plain": [
       "<Figure size 576x144 with 10 Axes>"
      ]
     },
     "metadata": {},
     "output_type": "display_data"
    },
    {
     "data": {
      "image/png": "[encoded data removed]",
      "text/plain": [
       "<Figure size 576x144 with 10 Axes>"
      ]
     },
     "metadata": {},
     "output_type": "display_data"
    },
    {
     "data": {
      "image/png": "[encoded data removed]",
      "text/plain": [
       "<Figure size 576x144 with 10 Axes>"
      ]
     },
     "metadata": {},
     "output_type": "display_data"
    },
    {
     "data": {
      "image/png": "[encoded data removed]",
      "text/plain": [
       "<Figure size 576x144 with 10 Axes>"
      ]
     },
     "metadata": {},
     "output_type": "display_data"
    }
   ],
   "source": [
    "from sklearn.datasets import load_digits\n",
    "\n",
    "digits = load_digits()\n",
    "\n",
    "model = KMeans(init=\"k-means++\", n_clusters=10, random_state=0) #모델 만들기\n",
    "model.fit(digits.data) #학습\n",
    "y_pred = model.labels_ #예측\n",
    "\n",
    "# 시각화\n",
    "def show_digits(images, labels):\n",
    "    f = plt.figure(figsize=(8, 2))\n",
    "    i = 0\n",
    "    while (i < 10 and i < images.shape[0]):\n",
    "        ax = f.add_subplot(1, 10, i + 1)\n",
    "        ax.imshow(images[i], cmap=plt.cm.bone)\n",
    "        ax.grid(False)\n",
    "        ax.set_title(labels[i])\n",
    "        ax.xaxis.set_ticks([])\n",
    "        ax.yaxis.set_ticks([])\n",
    "        plt.tight_layout()\n",
    "        i += 1\n",
    "        \n",
    "def show_cluster(images, y_pred, cluster_number):\n",
    "    images = images[y_pred == cluster_number]\n",
    "    y_pred = y_pred[y_pred == cluster_number]\n",
    "    show_digits(images, y_pred)\n",
    "    \n",
    "\n",
    "for i in range(10):\n",
    "    show_cluster(digits.images, y_pred, i)"
   ]
  }
 ],
 "metadata": {
  "kernelspec": {
   "display_name": "Python 3",
   "language": "python",
   "name": "python3"
  },
  "language_info": {
   "codemirror_mode": {
    "name": "ipython",
    "version": 3
   },
   "file_extension": ".py",
   "mimetype": "text/x-python",
   "name": "python",
   "nbconvert_exporter": "python",
   "pygments_lexer": "ipython3",
   "version": "3.7.3"
  }
 },
 "nbformat": 4,
 "nbformat_minor": 2
}
