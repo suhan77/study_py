{
 "cells": [
  {
   "cell_type": "markdown",
   "metadata": {},
   "source": [
    "출처 : https://datascienceschool.net/view-notebook/094bcb7b86574711a2e8d81f26bce2f5/"
   ]
  },
  {
   "cell_type": "markdown",
   "metadata": {},
   "source": [
    "# 계층적 클러스터링"
   ]
  },
  {
   "cell_type": "markdown",
   "metadata": {},
   "source": [
    "계층적 클러스터링은 하나의 데이터 샘플을 하나의 클러스터로 보고 가장 유사도가 높은 클러스터를 합치면서 클러스터 갯수를 줄여 가는 방법을 말한다.\n",
    "\n",
    "### 클러스터간의 거리 측정¶\n",
    "클러스터간의 비유사도(dissimilarity) 혹은 거리(distance)를 측정하는 방법에는 다음과 같은 것이 있다."
   ]
  },
  {
   "cell_type": "markdown",
   "metadata": {},
   "source": [
    "### 귀납\n",
    "\n",
    "경험적 사실로부터 추측 혹은 가설과 원리를 생각해내고 경험적 사실로 참/거짓을 판단하는 방법을 말한다. 편견과 선입견으로부터 벗어나 오로지 경험적 사실로부터 추론해 낸다는 것이 그 핵심이다.( 출처 : wiki백과)"
   ]
  },
  {
   "cell_type": "markdown",
   "metadata": {},
   "source": [
    "### 비귀납적 방벙\n",
    "\n",
    "#### 1) controid\n",
    "***\n",
    "두 클러스터의 중심점(centroid)를 정의한 다음 두 중심점의 거리를 클러스터간의 거리로 정의한다.\n",
    "\n",
    "$$ d(u,v)=||c_u−c_v||_2 $$\n",
    " \n",
    "여기에서  cu  와  cv  는 각각 두 클러스터  u  와  v  의 중심점이다.\n",
    "\n",
    "#### 2) sigle\n",
    "***\n",
    "클러스터  u 의 모든 데이터  i 와 클러스터  v 의 모든 데이터  j 의 모든 조합에 대해 거리를 측정해서 최소값을 구한다. 최소 거리(Nearest Point) 방법이라고도 한다.\n",
    "\n",
    "$$ d(u,v)=min(dist(u[i],v[j])) $$\n",
    "\n",
    "#### 3) average\n",
    "***\n",
    "클러스터  u 의 모든 데이터  i 와 클러스터  v 의 모든 데이터  j 의 모든 조합에 대해 거리를 측정한 후 평균을 구한다.  |u| 와  |v| 는 각각 두 클러스터의 원소의 갯수를 뜻한다.\n",
    "$$ d(u,v) = \\sum_{ij} \\frac{d(u[i],v[j])}{|u||v|} $$\n",
    "\n",
    "### 귀납적 방법\n",
    "#### 1) median\n",
    "***\n",
    "이 방법은 Agglomerative Clustering 에서 사용할 수 있는 귀납적 방법으로 centroid 방법의 변형이다. 만약 클러스터  u 가 클러스터  s 와 클러스터  t 가 결합하여 생겼다면 클러스터  u 의 중심점은 새로 계산하지 않고 원래 클러스터의 두 클러스터의 중심점의 평균을 사용한다.\n",
    "\n",
    "#### 2) weighted\n",
    "***\n",
    "이 방법은 Agglomerative Clustering 에서 사용할 수 있는 귀납적 방법이다. 만약 클러스터  u 가 클러스터  s 와 클러스터  t 가 결합하여 생겼다면 다음과 같이 원래 클러스터까지의 두 거리의 평균을 사용한다.\n",
    "\n",
    "$$ d(u,v)=(dist(s,v)+dist(t,v))/2 $$\n",
    "\n",
    "#### 3) ward\n",
    "***\n",
    "이 방법은 Agglomerative Clustering 에서 사용할 수 있는 귀납적 방법이다. 만약 클러스터  u 가 클러스터  s 와 클러스터  t 가 결합하여 생겼다면 다음과 같이 두 클러스터의 거리의 가중 평균에서 원래의 두 클래스터 사이의 거리를 보정한 값을 사용한다.\n",
    "\n",
    "$$ d(u,v) = \\sqrt{\\frac{|v|+|s|}{|v|+|s|+|t|}d(v,s)^2 + \\frac{|v|+|t|}{|v|+|s|+|t|}d(v,t)^2 - \\frac{|v|}{|v|+|s|+|t|}d(s,t)^2} $$"
   ]
  },
  {
   "cell_type": "code",
   "execution_count": 5,
   "metadata": {},
   "outputs": [],
   "source": [
    "from sklearn.datasets import load_digits\n",
    "import numpy as np\n",
    "import matplotlib.pyplot as plt"
   ]
  },
  {
   "cell_type": "code",
   "execution_count": 6,
   "metadata": {},
   "outputs": [
    {
     "data": {
      "image/png": "[encoded data removed]",
      "text/plain": [
       "<Figure size 864x72 with 20 Axes>"
      ]
     },
     "metadata": {},
     "output_type": "display_data"
    }
   ],
   "source": [
    "# 데이터 불러오기\n",
    "digits = load_digits()\n",
    "n_image = 20 # 이미지 개수\n",
    "np.random.seed(0)\n",
    "idx = np.random.choice(range(len(digits.images)), n_image) # 랜덤으로 뽑기\n",
    "X = digits.data[idx]\n",
    "images = digits.images[idx]\n",
    "\n",
    "plt.figure(figsize=(12, 1))\n",
    "for i in range(n_image):\n",
    "    plt.subplot(1, n_image, i + 1)\n",
    "    plt.imshow(images[i], cmap=plt.cm.bone)\n",
    "    plt.grid(False)\n",
    "    plt.xticks(())\n",
    "    plt.yticks(())\n",
    "    plt.title(i)"
   ]
  },
  {
   "cell_type": "code",
   "execution_count": 24,
   "metadata": {},
   "outputs": [
    {
     "data": {
      "text/plain": [
       "array([[ 0.,  0.,  6., ..., 11.,  0.,  0.],\n",
       "       [ 0.,  0.,  4., ...,  0.,  0.,  0.],\n",
       "       [ 0.,  0.,  5., ...,  0.,  0.,  0.],\n",
       "       ...,\n",
       "       [ 0.,  0.,  3., ..., 14.,  4.,  0.],\n",
       "       [ 0.,  0.,  6., ...,  8.,  0.,  0.],\n",
       "       [ 0.,  0.,  0., ..., 16.,  5.,  0.]])"
      ]
     },
     "execution_count": 24,
     "metadata": {},
     "output_type": "execute_result"
    }
   ],
   "source": [
    "X"
   ]
  },
  {
   "cell_type": "markdown",
   "metadata": {},
   "source": [
    "# 1. Scipy 이용 "
   ]
  },
  {
   "cell_type": "code",
   "execution_count": 23,
   "metadata": {},
   "outputs": [
    {
     "data": {
      "text/plain": [
       "array([[ 3.        , 18.        , 23.51595203,  2.        ],\n",
       "       [13.        , 19.        , 25.27844932,  2.        ],\n",
       "       [ 1.        , 14.        , 28.67054237,  2.        ],\n",
       "       [17.        , 21.        , 31.04298096,  3.        ],\n",
       "       [ 4.        ,  7.        , 31.51190251,  2.        ],\n",
       "       [ 6.        ,  8.        , 32.54228019,  2.        ],\n",
       "       [ 9.        , 10.        , 33.36165464,  2.        ],\n",
       "       [ 0.        , 24.        , 34.51086785,  3.        ],\n",
       "       [ 2.        , 22.        , 37.03151811,  3.        ],\n",
       "       [11.        , 26.        , 43.25505751,  3.        ],\n",
       "       [12.        , 15.        , 45.31004304,  2.        ],\n",
       "       [16.        , 20.        , 45.36151085,  3.        ],\n",
       "       [ 5.        , 27.        , 53.54437412,  4.        ],\n",
       "       [30.        , 32.        , 56.6892112 ,  6.        ],\n",
       "       [25.        , 29.        , 60.16809786,  5.        ],\n",
       "       [28.        , 34.        , 66.61618922,  8.        ],\n",
       "       [31.        , 33.        , 70.35228813,  9.        ],\n",
       "       [23.        , 36.        , 80.11172754, 12.        ],\n",
       "       [35.        , 37.        , 93.57946712, 20.        ]])"
      ]
     },
     "execution_count": 23,
     "metadata": {},
     "output_type": "execute_result"
    }
   ],
   "source": [
    "from scipy.cluster.hierarchy import linkage, dendrogram\n",
    "\n",
    "# 모델 생성\n",
    "Z = linkage(X, 'ward')\n",
    "Z"
   ]
  },
  {
   "cell_type": "code",
   "execution_count": 8,
   "metadata": {},
   "outputs": [
    {
     "data": {
      "image/png": "[encoded data removed]",
      "text/plain": [
       "<Figure size 720x288 with 1 Axes>"
      ]
     },
     "metadata": {
      "needs_background": "light"
     },
     "output_type": "display_data"
    }
   ],
   "source": [
    "from matplotlib.offsetbox import OffsetImage, AnnotationBbox\n",
    "\n",
    "# 시각화\n",
    "plt.figure(figsize=(10, 4))\n",
    "ax = plt.subplot()\n",
    "\n",
    "ddata = dendrogram(Z) # tree 형태로 시각화\n",
    "\n",
    "dcoord = np.array(ddata[\"dcoord\"])\n",
    "icoord = np.array(ddata[\"icoord\"])\n",
    "leaves = np.array(ddata[\"leaves\"])\n",
    "idx = np.argsort(dcoord[:, 2])\n",
    "dcoord = dcoord[idx, :]\n",
    "icoord = icoord[idx, :]\n",
    "idx = np.argsort(Z[:, :2].ravel())\n",
    "label_pos = icoord[:, 1:3].ravel()[idx][:20]\n",
    "\n",
    "for i in range(20):\n",
    "    imagebox = OffsetImage(images[i], cmap=plt.cm.bone_r, interpolation=\"bilinear\", zoom=3)\n",
    "    ab = AnnotationBbox(imagebox, (label_pos[i], 0),  box_alignment=(0.5, -0.1), \n",
    "                        bboxprops={\"edgecolor\" : \"none\"})\n",
    "    ax.add_artist(ab)\n",
    "\n",
    "plt.show()"
   ]
  },
  {
   "cell_type": "code",
   "execution_count": 13,
   "metadata": {},
   "outputs": [
    {
     "data": {
      "text/plain": [
       "{'icoord': [[15.0, 15.0, 25.0, 25.0],\n",
       "  [5.0, 5.0, 20.0, 20.0],\n",
       "  [35.0, 35.0, 45.0, 45.0],\n",
       "  [65.0, 65.0, 75.0, 75.0],\n",
       "  [55.0, 55.0, 70.0, 70.0],\n",
       "  [40.0, 40.0, 62.5, 62.5],\n",
       "  [12.5, 12.5, 51.25, 51.25],\n",
       "  [95.0, 95.0, 105.0, 105.0],\n",
       "  [85.0, 85.0, 100.0, 100.0],\n",
       "  [125.0, 125.0, 135.0, 135.0],\n",
       "  [115.0, 115.0, 130.0, 130.0],\n",
       "  [145.0, 145.0, 155.0, 155.0],\n",
       "  [185.0, 185.0, 195.0, 195.0],\n",
       "  [175.0, 175.0, 190.0, 190.0],\n",
       "  [165.0, 165.0, 182.5, 182.5],\n",
       "  [150.0, 150.0, 173.75, 173.75],\n",
       "  [122.5, 122.5, 161.875, 161.875],\n",
       "  [92.5, 92.5, 142.1875, 142.1875],\n",
       "  [31.875, 31.875, 117.34375, 117.34375]],\n",
       " 'dcoord': [[0.0, 28.6705423736629, 28.6705423736629, 0.0],\n",
       "  [0.0, 37.03151810732762, 37.03151810732762, 28.6705423736629],\n",
       "  [0.0, 32.54228019054596, 32.54228019054596, 0.0],\n",
       "  [0.0, 33.36165463522455, 33.36165463522455, 0.0],\n",
       "  [0.0, 43.255057507764334, 43.255057507764334, 33.36165463522455],\n",
       "  [32.54228019054596,\n",
       "   60.168097859247645,\n",
       "   60.168097859247645,\n",
       "   43.255057507764334],\n",
       "  [37.03151810732762,\n",
       "   66.61618922354134,\n",
       "   66.61618922354134,\n",
       "   60.168097859247645],\n",
       "  [0.0, 25.278449319529077, 25.278449319529077, 0.0],\n",
       "  [0.0, 31.042980956516832, 31.042980956516832, 25.278449319529077],\n",
       "  [0.0, 23.515952032609693, 23.515952032609693, 0.0],\n",
       "  [0.0, 45.36151085079361, 45.36151085079361, 23.515952032609693],\n",
       "  [0.0, 45.31004303683677, 45.31004303683677, 0.0],\n",
       "  [0.0, 31.51190251317746, 31.51190251317746, 0.0],\n",
       "  [0.0, 34.51086785347479, 34.51086785347479, 31.51190251317746],\n",
       "  [0.0, 53.54437412091021, 53.54437412091021, 34.51086785347479],\n",
       "  [45.31004303683677, 56.68921120166223, 56.68921120166223, 53.54437412091021],\n",
       "  [45.36151085079361, 70.35228812515228, 70.35228812515228, 56.68921120166223],\n",
       "  [31.042980956516832,\n",
       "   80.11172753654041,\n",
       "   80.11172753654041,\n",
       "   70.35228812515228],\n",
       "  [66.61618922354134,\n",
       "   93.57946712108735,\n",
       "   93.57946712108735,\n",
       "   80.11172753654041]],\n",
       " 'ivl': ['2',\n",
       "  '1',\n",
       "  '14',\n",
       "  '6',\n",
       "  '8',\n",
       "  '11',\n",
       "  '9',\n",
       "  '10',\n",
       "  '17',\n",
       "  '13',\n",
       "  '19',\n",
       "  '16',\n",
       "  '3',\n",
       "  '18',\n",
       "  '12',\n",
       "  '15',\n",
       "  '5',\n",
       "  '0',\n",
       "  '4',\n",
       "  '7'],\n",
       " 'leaves': [2,\n",
       "  1,\n",
       "  14,\n",
       "  6,\n",
       "  8,\n",
       "  11,\n",
       "  9,\n",
       "  10,\n",
       "  17,\n",
       "  13,\n",
       "  19,\n",
       "  16,\n",
       "  3,\n",
       "  18,\n",
       "  12,\n",
       "  15,\n",
       "  5,\n",
       "  0,\n",
       "  4,\n",
       "  7],\n",
       " 'color_list': ['g',\n",
       "  'g',\n",
       "  'r',\n",
       "  'r',\n",
       "  'r',\n",
       "  'r',\n",
       "  'b',\n",
       "  'c',\n",
       "  'c',\n",
       "  'm',\n",
       "  'm',\n",
       "  'y',\n",
       "  'y',\n",
       "  'y',\n",
       "  'y',\n",
       "  'y',\n",
       "  'b',\n",
       "  'b',\n",
       "  'b']}"
      ]
     },
     "execution_count": 13,
     "metadata": {},
     "output_type": "execute_result"
    }
   ],
   "source": [
    "ddata"
   ]
  },
  {
   "cell_type": "markdown",
   "metadata": {},
   "source": [
    "# 2. Sikit-learn 이용 "
   ]
  },
  {
   "cell_type": "code",
   "execution_count": 20,
   "metadata": {},
   "outputs": [],
   "source": [
    "from sklearn.cluster import AgglomerativeClustering\n",
    "model = AgglomerativeClustering(n_clusters=5).fit(X)"
   ]
  },
  {
   "cell_type": "code",
   "execution_count": 21,
   "metadata": {},
   "outputs": [
    {
     "data": {
      "text/plain": [
       "AgglomerativeClustering(affinity='euclidean', compute_full_tree='auto',\n",
       "            connectivity=None, linkage='ward', memory=None, n_clusters=5,\n",
       "            pooling_func='deprecated')"
      ]
     },
     "execution_count": 21,
     "metadata": {},
     "output_type": "execute_result"
    }
   ],
   "source": [
    "model"
   ]
  },
  {
   "cell_type": "code",
   "execution_count": 22,
   "metadata": {},
   "outputs": [
    {
     "data": {
      "text/plain": [
       "array([1, 4, 4, 3, 1, 1, 0, 1, 0, 0, 0, 0, 1, 2, 4, 1, 3, 2, 3, 2],\n",
       "      dtype=int64)"
      ]
     },
     "execution_count": 22,
     "metadata": {},
     "output_type": "execute_result"
    }
   ],
   "source": [
    "model.labels_"
   ]
  }
 ],
 "metadata": {
  "kernelspec": {
   "display_name": "Python 3",
   "language": "python",
   "name": "python3"
  },
  "language_info": {
   "codemirror_mode": {
    "name": "ipython",
    "version": 3
   },
   "file_extension": ".py",
   "mimetype": "text/x-python",
   "name": "python",
   "nbconvert_exporter": "python",
   "pygments_lexer": "ipython3",
   "version": "3.7.3"
  }
 },
 "nbformat": 4,
 "nbformat_minor": 2
}
