{
 "cells": [
  {
   "cell_type": "code",
   "execution_count": 2,
   "metadata": {},
   "outputs": [
    {
     "ename": "ImportError",
     "evalue": "Traceback (most recent call last):\n  File \"C:\\Users\\jsh\\AppData\\Local\\conda\\conda\\envs\\tens\\lib\\site-packages\\tensorflow\\python\\pywrap_tensorflow.py\", line 58, in <module>\n    from tensorflow.python.pywrap_tensorflow_internal import *\n  File \"C:\\Users\\jsh\\AppData\\Local\\conda\\conda\\envs\\tens\\lib\\site-packages\\tensorflow\\python\\pywrap_tensorflow_internal.py\", line 28, in <module>\n    _pywrap_tensorflow_internal = swig_import_helper()\n  File \"C:\\Users\\jsh\\AppData\\Local\\conda\\conda\\envs\\tens\\lib\\site-packages\\tensorflow\\python\\pywrap_tensorflow_internal.py\", line 24, in swig_import_helper\n    _mod = imp.load_module('_pywrap_tensorflow_internal', fp, pathname, description)\n  File \"C:\\Users\\jsh\\AppData\\Local\\conda\\conda\\envs\\tens\\lib\\imp.py\", line 242, in load_module\n    return load_dynamic(name, filename, file)\n  File \"C:\\Users\\jsh\\AppData\\Local\\conda\\conda\\envs\\tens\\lib\\imp.py\", line 342, in load_dynamic\n    return _load(spec)\nImportError: DLL load failed: DLL 초기화 루틴을 실행할 수 없습니다.\n\n\nFailed to load the native TensorFlow runtime.\n\nSee https://www.tensorflow.org/install/errors\n\nfor some common reasons and solutions.  Include the entire stack trace\nabove this error message when asking for help.",
     "output_type": "error",
     "traceback": [
      "\u001b[1;31m---------------------------------------------------------------------------\u001b[0m",
      "\u001b[1;31mImportError\u001b[0m                               Traceback (most recent call last)",
      "\u001b[1;32m~\\AppData\\Local\\conda\\conda\\envs\\tens\\lib\\site-packages\\tensorflow\\python\\pywrap_tensorflow.py\u001b[0m in \u001b[0;36m<module>\u001b[1;34m\u001b[0m\n\u001b[0;32m     57\u001b[0m \u001b[1;33m\u001b[0m\u001b[0m\n\u001b[1;32m---> 58\u001b[1;33m   \u001b[1;32mfrom\u001b[0m \u001b[0mtensorflow\u001b[0m\u001b[1;33m.\u001b[0m\u001b[0mpython\u001b[0m\u001b[1;33m.\u001b[0m\u001b[0mpywrap_tensorflow_internal\u001b[0m \u001b[1;32mimport\u001b[0m \u001b[1;33m*\u001b[0m\u001b[1;33m\u001b[0m\u001b[1;33m\u001b[0m\u001b[0m\n\u001b[0m\u001b[0;32m     59\u001b[0m   \u001b[1;32mfrom\u001b[0m \u001b[0mtensorflow\u001b[0m\u001b[1;33m.\u001b[0m\u001b[0mpython\u001b[0m\u001b[1;33m.\u001b[0m\u001b[0mpywrap_tensorflow_internal\u001b[0m \u001b[1;32mimport\u001b[0m \u001b[0m__version__\u001b[0m\u001b[1;33m\u001b[0m\u001b[1;33m\u001b[0m\u001b[0m\n",
      "\u001b[1;32m~\\AppData\\Local\\conda\\conda\\envs\\tens\\lib\\site-packages\\tensorflow\\python\\pywrap_tensorflow_internal.py\u001b[0m in \u001b[0;36m<module>\u001b[1;34m\u001b[0m\n\u001b[0;32m     27\u001b[0m             \u001b[1;32mreturn\u001b[0m \u001b[0m_mod\u001b[0m\u001b[1;33m\u001b[0m\u001b[1;33m\u001b[0m\u001b[0m\n\u001b[1;32m---> 28\u001b[1;33m     \u001b[0m_pywrap_tensorflow_internal\u001b[0m \u001b[1;33m=\u001b[0m \u001b[0mswig_import_helper\u001b[0m\u001b[1;33m(\u001b[0m\u001b[1;33m)\u001b[0m\u001b[1;33m\u001b[0m\u001b[1;33m\u001b[0m\u001b[0m\n\u001b[0m\u001b[0;32m     29\u001b[0m     \u001b[1;32mdel\u001b[0m \u001b[0mswig_import_helper\u001b[0m\u001b[1;33m\u001b[0m\u001b[1;33m\u001b[0m\u001b[0m\n",
      "\u001b[1;32m~\\AppData\\Local\\conda\\conda\\envs\\tens\\lib\\site-packages\\tensorflow\\python\\pywrap_tensorflow_internal.py\u001b[0m in \u001b[0;36mswig_import_helper\u001b[1;34m()\u001b[0m\n\u001b[0;32m     23\u001b[0m             \u001b[1;32mtry\u001b[0m\u001b[1;33m:\u001b[0m\u001b[1;33m\u001b[0m\u001b[1;33m\u001b[0m\u001b[0m\n\u001b[1;32m---> 24\u001b[1;33m                 \u001b[0m_mod\u001b[0m \u001b[1;33m=\u001b[0m \u001b[0mimp\u001b[0m\u001b[1;33m.\u001b[0m\u001b[0mload_module\u001b[0m\u001b[1;33m(\u001b[0m\u001b[1;34m'_pywrap_tensorflow_internal'\u001b[0m\u001b[1;33m,\u001b[0m \u001b[0mfp\u001b[0m\u001b[1;33m,\u001b[0m \u001b[0mpathname\u001b[0m\u001b[1;33m,\u001b[0m \u001b[0mdescription\u001b[0m\u001b[1;33m)\u001b[0m\u001b[1;33m\u001b[0m\u001b[1;33m\u001b[0m\u001b[0m\n\u001b[0m\u001b[0;32m     25\u001b[0m             \u001b[1;32mfinally\u001b[0m\u001b[1;33m:\u001b[0m\u001b[1;33m\u001b[0m\u001b[1;33m\u001b[0m\u001b[0m\n",
      "\u001b[1;32m~\\AppData\\Local\\conda\\conda\\envs\\tens\\lib\\imp.py\u001b[0m in \u001b[0;36mload_module\u001b[1;34m(name, file, filename, details)\u001b[0m\n\u001b[0;32m    241\u001b[0m         \u001b[1;32melse\u001b[0m\u001b[1;33m:\u001b[0m\u001b[1;33m\u001b[0m\u001b[1;33m\u001b[0m\u001b[0m\n\u001b[1;32m--> 242\u001b[1;33m             \u001b[1;32mreturn\u001b[0m \u001b[0mload_dynamic\u001b[0m\u001b[1;33m(\u001b[0m\u001b[0mname\u001b[0m\u001b[1;33m,\u001b[0m \u001b[0mfilename\u001b[0m\u001b[1;33m,\u001b[0m \u001b[0mfile\u001b[0m\u001b[1;33m)\u001b[0m\u001b[1;33m\u001b[0m\u001b[1;33m\u001b[0m\u001b[0m\n\u001b[0m\u001b[0;32m    243\u001b[0m     \u001b[1;32melif\u001b[0m \u001b[0mtype_\u001b[0m \u001b[1;33m==\u001b[0m \u001b[0mPKG_DIRECTORY\u001b[0m\u001b[1;33m:\u001b[0m\u001b[1;33m\u001b[0m\u001b[1;33m\u001b[0m\u001b[0m\n",
      "\u001b[1;32m~\\AppData\\Local\\conda\\conda\\envs\\tens\\lib\\imp.py\u001b[0m in \u001b[0;36mload_dynamic\u001b[1;34m(name, path, file)\u001b[0m\n\u001b[0;32m    341\u001b[0m             name=name, loader=loader, origin=path)\n\u001b[1;32m--> 342\u001b[1;33m         \u001b[1;32mreturn\u001b[0m \u001b[0m_load\u001b[0m\u001b[1;33m(\u001b[0m\u001b[0mspec\u001b[0m\u001b[1;33m)\u001b[0m\u001b[1;33m\u001b[0m\u001b[1;33m\u001b[0m\u001b[0m\n\u001b[0m\u001b[0;32m    343\u001b[0m \u001b[1;33m\u001b[0m\u001b[0m\n",
      "\u001b[1;31mImportError\u001b[0m: DLL load failed: DLL 초기화 루틴을 실행할 수 없습니다.",
      "\nDuring handling of the above exception, another exception occurred:\n",
      "\u001b[1;31mImportError\u001b[0m                               Traceback (most recent call last)",
      "\u001b[1;32m<ipython-input-2-64156d691fe5>\u001b[0m in \u001b[0;36m<module>\u001b[1;34m\u001b[0m\n\u001b[1;32m----> 1\u001b[1;33m \u001b[1;32mimport\u001b[0m \u001b[0mtensorflow\u001b[0m \u001b[1;32mas\u001b[0m \u001b[0mtf\u001b[0m\u001b[1;33m\u001b[0m\u001b[1;33m\u001b[0m\u001b[0m\n\u001b[0m",
      "\u001b[1;32m~\\AppData\\Local\\conda\\conda\\envs\\tens\\lib\\site-packages\\tensorflow\\__init__.py\u001b[0m in \u001b[0;36m<module>\u001b[1;34m\u001b[0m\n\u001b[0;32m     22\u001b[0m \u001b[1;33m\u001b[0m\u001b[0m\n\u001b[0;32m     23\u001b[0m \u001b[1;31m# pylint: disable=g-bad-import-order\u001b[0m\u001b[1;33m\u001b[0m\u001b[1;33m\u001b[0m\u001b[1;33m\u001b[0m\u001b[0m\n\u001b[1;32m---> 24\u001b[1;33m \u001b[1;32mfrom\u001b[0m \u001b[0mtensorflow\u001b[0m\u001b[1;33m.\u001b[0m\u001b[0mpython\u001b[0m \u001b[1;32mimport\u001b[0m \u001b[0mpywrap_tensorflow\u001b[0m  \u001b[1;31m# pylint: disable=unused-import\u001b[0m\u001b[1;33m\u001b[0m\u001b[1;33m\u001b[0m\u001b[0m\n\u001b[0m\u001b[0;32m     25\u001b[0m \u001b[1;33m\u001b[0m\u001b[0m\n\u001b[0;32m     26\u001b[0m \u001b[1;32mfrom\u001b[0m \u001b[0mtensorflow\u001b[0m\u001b[1;33m.\u001b[0m\u001b[0m_api\u001b[0m\u001b[1;33m.\u001b[0m\u001b[0mv1\u001b[0m \u001b[1;32mimport\u001b[0m \u001b[0mapp\u001b[0m\u001b[1;33m\u001b[0m\u001b[1;33m\u001b[0m\u001b[0m\n",
      "\u001b[1;32m~\\AppData\\Local\\conda\\conda\\envs\\tens\\lib\\site-packages\\tensorflow\\python\\__init__.py\u001b[0m in \u001b[0;36m<module>\u001b[1;34m\u001b[0m\n\u001b[0;32m     47\u001b[0m \u001b[1;32mimport\u001b[0m \u001b[0mnumpy\u001b[0m \u001b[1;32mas\u001b[0m \u001b[0mnp\u001b[0m\u001b[1;33m\u001b[0m\u001b[1;33m\u001b[0m\u001b[0m\n\u001b[0;32m     48\u001b[0m \u001b[1;33m\u001b[0m\u001b[0m\n\u001b[1;32m---> 49\u001b[1;33m \u001b[1;32mfrom\u001b[0m \u001b[0mtensorflow\u001b[0m\u001b[1;33m.\u001b[0m\u001b[0mpython\u001b[0m \u001b[1;32mimport\u001b[0m \u001b[0mpywrap_tensorflow\u001b[0m\u001b[1;33m\u001b[0m\u001b[1;33m\u001b[0m\u001b[0m\n\u001b[0m\u001b[0;32m     50\u001b[0m \u001b[1;33m\u001b[0m\u001b[0m\n\u001b[0;32m     51\u001b[0m \u001b[1;31m# Protocol buffers\u001b[0m\u001b[1;33m\u001b[0m\u001b[1;33m\u001b[0m\u001b[1;33m\u001b[0m\u001b[0m\n",
      "\u001b[1;32m~\\AppData\\Local\\conda\\conda\\envs\\tens\\lib\\site-packages\\tensorflow\\python\\pywrap_tensorflow.py\u001b[0m in \u001b[0;36m<module>\u001b[1;34m\u001b[0m\n\u001b[0;32m     72\u001b[0m \u001b[1;32mfor\u001b[0m \u001b[0msome\u001b[0m \u001b[0mcommon\u001b[0m \u001b[0mreasons\u001b[0m \u001b[1;32mand\u001b[0m \u001b[0msolutions\u001b[0m\u001b[1;33m.\u001b[0m  \u001b[0mInclude\u001b[0m \u001b[0mthe\u001b[0m \u001b[0mentire\u001b[0m \u001b[0mstack\u001b[0m \u001b[0mtrace\u001b[0m\u001b[1;33m\u001b[0m\u001b[1;33m\u001b[0m\u001b[0m\n\u001b[0;32m     73\u001b[0m above this error message when asking for help.\"\"\" % traceback.format_exc()\n\u001b[1;32m---> 74\u001b[1;33m   \u001b[1;32mraise\u001b[0m \u001b[0mImportError\u001b[0m\u001b[1;33m(\u001b[0m\u001b[0mmsg\u001b[0m\u001b[1;33m)\u001b[0m\u001b[1;33m\u001b[0m\u001b[1;33m\u001b[0m\u001b[0m\n\u001b[0m\u001b[0;32m     75\u001b[0m \u001b[1;33m\u001b[0m\u001b[0m\n\u001b[0;32m     76\u001b[0m \u001b[1;31m# pylint: enable=wildcard-import,g-import-not-at-top,unused-import,line-too-long\u001b[0m\u001b[1;33m\u001b[0m\u001b[1;33m\u001b[0m\u001b[1;33m\u001b[0m\u001b[0m\n",
      "\u001b[1;31mImportError\u001b[0m: Traceback (most recent call last):\n  File \"C:\\Users\\jsh\\AppData\\Local\\conda\\conda\\envs\\tens\\lib\\site-packages\\tensorflow\\python\\pywrap_tensorflow.py\", line 58, in <module>\n    from tensorflow.python.pywrap_tensorflow_internal import *\n  File \"C:\\Users\\jsh\\AppData\\Local\\conda\\conda\\envs\\tens\\lib\\site-packages\\tensorflow\\python\\pywrap_tensorflow_internal.py\", line 28, in <module>\n    _pywrap_tensorflow_internal = swig_import_helper()\n  File \"C:\\Users\\jsh\\AppData\\Local\\conda\\conda\\envs\\tens\\lib\\site-packages\\tensorflow\\python\\pywrap_tensorflow_internal.py\", line 24, in swig_import_helper\n    _mod = imp.load_module('_pywrap_tensorflow_internal', fp, pathname, description)\n  File \"C:\\Users\\jsh\\AppData\\Local\\conda\\conda\\envs\\tens\\lib\\imp.py\", line 242, in load_module\n    return load_dynamic(name, filename, file)\n  File \"C:\\Users\\jsh\\AppData\\Local\\conda\\conda\\envs\\tens\\lib\\imp.py\", line 342, in load_dynamic\n    return _load(spec)\nImportError: DLL load failed: DLL 초기화 루틴을 실행할 수 없습니다.\n\n\nFailed to load the native TensorFlow runtime.\n\nSee https://www.tensorflow.org/install/errors\n\nfor some common reasons and solutions.  Include the entire stack trace\nabove this error message when asking for help."
     ]
    }
   ],
   "source": [
    "import tensorflow as tf"
   ]
  },
  {
   "cell_type": "code",
   "execution_count": 5,
   "metadata": {
    "scrolled": true
   },
   "outputs": [
    {
     "name": "stdout",
     "output_type": "stream",
     "text": [
      "WARNING:tensorflow:From <ipython-input-5-d63f79221b26>:3: read_data_sets (from tensorflow.contrib.learn.python.learn.datasets.mnist) is deprecated and will be removed in a future version.\n",
      "Instructions for updating:\n",
      "Please use alternatives such as official/mnist/dataset.py from tensorflow/models.\n",
      "WARNING:tensorflow:From C:\\Users\\jsh\\Anaconda3\\envs\\tens\\lib\\site-packages\\tensorflow\\contrib\\learn\\python\\learn\\datasets\\mnist.py:260: maybe_download (from tensorflow.contrib.learn.python.learn.datasets.base) is deprecated and will be removed in a future version.\n",
      "Instructions for updating:\n",
      "Please write your own downloading logic.\n",
      "WARNING:tensorflow:From C:\\Users\\jsh\\Anaconda3\\envs\\tens\\lib\\site-packages\\tensorflow\\contrib\\learn\\python\\learn\\datasets\\mnist.py:262: extract_images (from tensorflow.contrib.learn.python.learn.datasets.mnist) is deprecated and will be removed in a future version.\n",
      "Instructions for updating:\n",
      "Please use tf.data to implement this functionality.\n",
      "Extracting /tmp/data/train-images-idx3-ubyte.gz\n",
      "WARNING:tensorflow:From C:\\Users\\jsh\\Anaconda3\\envs\\tens\\lib\\site-packages\\tensorflow\\contrib\\learn\\python\\learn\\datasets\\mnist.py:267: extract_labels (from tensorflow.contrib.learn.python.learn.datasets.mnist) is deprecated and will be removed in a future version.\n",
      "Instructions for updating:\n",
      "Please use tf.data to implement this functionality.\n",
      "Extracting /tmp/data/train-labels-idx1-ubyte.gz\n",
      "WARNING:tensorflow:From C:\\Users\\jsh\\Anaconda3\\envs\\tens\\lib\\site-packages\\tensorflow\\contrib\\learn\\python\\learn\\datasets\\mnist.py:110: dense_to_one_hot (from tensorflow.contrib.learn.python.learn.datasets.mnist) is deprecated and will be removed in a future version.\n",
      "Instructions for updating:\n",
      "Please use tf.one_hot on tensors.\n",
      "Extracting /tmp/data/t10k-images-idx3-ubyte.gz\n",
      "Extracting /tmp/data/t10k-labels-idx1-ubyte.gz\n",
      "WARNING:tensorflow:From C:\\Users\\jsh\\Anaconda3\\envs\\tens\\lib\\site-packages\\tensorflow\\contrib\\learn\\python\\learn\\datasets\\mnist.py:290: DataSet.__init__ (from tensorflow.contrib.learn.python.learn.datasets.mnist) is deprecated and will be removed in a future version.\n",
      "Instructions for updating:\n",
      "Please use alternatives such as official/mnist/dataset.py from tensorflow/models.\n"
     ]
    }
   ],
   "source": [
    "# MNIST 데이터 다운\n",
    "from tensorflow.examples.tutorials.mnist import input_data\n",
    "mnist = input_data.read_data_sets(\"/tmp/data/\", one_hot=True)"
   ]
  },
  {
   "cell_type": "code",
   "execution_count": 6,
   "metadata": {},
   "outputs": [],
   "source": [
    "# CNN 모델 정의\n",
    "def build_CNN_classifier(x):\n",
    "    x_image = tf.reshape(x, [-1, 28, 28, 1])\n",
    "    \n",
    "    # 1st convolution layer\n",
    "    # kernel 5 x 5 size 32개\n",
    "    # 28 x 28 x 1 -> 28 x 28 x 32\n",
    "    W_conv1 = tf.Variable(tf.truncated_normal(shape=[5, 5, 1, 32], stddev=5e-2))\n",
    "    b_conv1 = tf.Variable(tf.constant(0.1, shape=[32]))\n",
    "    h_conv1 = tf.nn.relu(tf.nn.conv2d(x_image, W_conv1, strides=[1, 1, 1, 1], padding='SAME') + b_conv1)\n",
    "    \n",
    "    # 1st pooling layer\n",
    "    # 28 x 28 x 31 -> 14 x 14 x 32\n",
    "    h_pool1 = tf.nn.max_pool(h_conv1, ksize=[1, 2, 2, 1], strides=[1, 2, 2, 1], padding='SAME')\n",
    "    \n",
    "    # 2nd convolution layer\n",
    "    # kernel 5 x 5 size 64개\n",
    "    # 14 x 14 x 32 -> 14 x 14 x 64\n",
    "    W_conv2 = tf.Variable(tf.truncated_normal(shape=[5, 5, 32, 64], stddev=5e-2))\n",
    "    b_conv2 = tf.Variable(tf.constant(0.1, shape=[64]))\n",
    "    h_conv2 = tf.nn.relu(tf.nn.conv2d(h_pool1, W_conv2, strides=[1, 1, 1, 1], padding='SAME') + b_conv2)\n",
    "    \n",
    "    # 2nd pooling layer\n",
    "    # 14 x 14 x 64 -> 7 x 7 x 64\n",
    "    h_pool2 = tf.nn.max_pool(h_conv2, ksize=[1, 2, 2, 1], strides=[1, 2, 2, 1], padding='SAME')\n",
    "    \n",
    "    # 완전연결층\n",
    "    # 7 x 7 x 64 (3136) -> 1024\n",
    "    W_fc1 = tf.Variable(tf.truncated_normal(shape=[7*7*64, 1024], stddev=5e-2))\n",
    "    b_fc1 = tf.Variable(tf.constant(0.1, shape=[1024]))\n",
    "    h_pool2_flat = tf.reshape(h_pool2, [-1, 7*7*64])\n",
    "    h_fc1 = tf.nn.relu(tf.matmul(h_pool2_flat, W_fc1) + b_fc1)\n",
    "    \n",
    "    # 출력층\n",
    "    # 1024 -> 10\n",
    "    W_output = tf.Variable(tf.truncated_normal(shape=[1024, 10]))\n",
    "    b_output = tf.Variable(tf.constant(0.1, shape=[10]))\n",
    "    logits = tf.matmul(h_fc1, W_output) + b_output\n",
    "    y_pred = tf.nn.softmax(logits)\n",
    "    \n",
    "    return y_pred, logits"
   ]
  },
  {
   "cell_type": "code",
   "execution_count": 7,
   "metadata": {},
   "outputs": [],
   "source": [
    "# 인풋, 아웃풋 데이터\n",
    "x = tf.placeholder(tf.float32, shape=[None, 784])\n",
    "y = tf.placeholder(tf.float32, shape=[None, 10])\n",
    "\n",
    "# cnn 선언\n",
    "y_pred, logits = build_CNN_classifier(x)\n",
    "\n",
    "# cross entropy 손실함수, 옵티마이저 정의\n",
    "loss = tf.reduce_mean(tf.nn.softmax_cross_entropy_with_logits(labels=y, logits=logits))\n",
    "train_step = tf.train.AdamOptimizer(1e-4).minimize(loss)"
   ]
  },
  {
   "cell_type": "code",
   "execution_count": 8,
   "metadata": {},
   "outputs": [],
   "source": [
    "# 정확도를 계산하는 연산\n",
    "correct_prediction = tf.equal(tf.argmax(y_pred, 1), tf.argmax(y, 1))\n",
    "accuracy = tf.reduce_mean(tf.cast(correct_prediction, tf.float32))"
   ]
  },
  {
   "cell_type": "code",
   "execution_count": 10,
   "metadata": {
    "scrolled": true
   },
   "outputs": [
    {
     "name": "stdout",
     "output_type": "stream",
     "text": [
      "반복(epoch) : 0, 트레이닝 데이터 정확도 : 0.120000\n",
      "반복(epoch) : 100, 트레이닝 데이터 정확도 : 0.700000\n",
      "반복(epoch) : 200, 트레이닝 데이터 정확도 : 0.920000\n",
      "반복(epoch) : 300, 트레이닝 데이터 정확도 : 0.840000\n",
      "반복(epoch) : 400, 트레이닝 데이터 정확도 : 0.900000\n",
      "반복(epoch) : 500, 트레이닝 데이터 정확도 : 0.880000\n",
      "반복(epoch) : 600, 트레이닝 데이터 정확도 : 0.960000\n",
      "반복(epoch) : 700, 트레이닝 데이터 정확도 : 0.940000\n",
      "반복(epoch) : 800, 트레이닝 데이터 정확도 : 0.940000\n",
      "반복(epoch) : 900, 트레이닝 데이터 정확도 : 0.920000\n",
      "반복(epoch) : 1000, 트레이닝 데이터 정확도 : 1.000000\n",
      "반복(epoch) : 1100, 트레이닝 데이터 정확도 : 1.000000\n",
      "반복(epoch) : 1200, 트레이닝 데이터 정확도 : 1.000000\n",
      "반복(epoch) : 1300, 트레이닝 데이터 정확도 : 0.920000\n",
      "반복(epoch) : 1400, 트레이닝 데이터 정확도 : 0.980000\n",
      "반복(epoch) : 1500, 트레이닝 데이터 정확도 : 0.960000\n",
      "반복(epoch) : 1600, 트레이닝 데이터 정확도 : 0.920000\n",
      "반복(epoch) : 1700, 트레이닝 데이터 정확도 : 0.940000\n",
      "반복(epoch) : 1800, 트레이닝 데이터 정확도 : 1.000000\n",
      "반복(epoch) : 1900, 트레이닝 데이터 정확도 : 0.940000\n",
      "반복(epoch) : 2000, 트레이닝 데이터 정확도 : 0.960000\n",
      "반복(epoch) : 2100, 트레이닝 데이터 정확도 : 0.980000\n",
      "반복(epoch) : 2200, 트레이닝 데이터 정확도 : 0.940000\n",
      "반복(epoch) : 2300, 트레이닝 데이터 정확도 : 0.960000\n",
      "반복(epoch) : 2400, 트레이닝 데이터 정확도 : 0.980000\n",
      "반복(epoch) : 2500, 트레이닝 데이터 정확도 : 1.000000\n",
      "반복(epoch) : 2600, 트레이닝 데이터 정확도 : 0.960000\n",
      "반복(epoch) : 2700, 트레이닝 데이터 정확도 : 0.980000\n",
      "반복(epoch) : 2800, 트레이닝 데이터 정확도 : 0.980000\n",
      "반복(epoch) : 2900, 트레이닝 데이터 정확도 : 1.000000\n",
      "반복(epoch) : 3000, 트레이닝 데이터 정확도 : 1.000000\n",
      "반복(epoch) : 3100, 트레이닝 데이터 정확도 : 0.980000\n",
      "반복(epoch) : 3200, 트레이닝 데이터 정확도 : 0.980000\n",
      "반복(epoch) : 3300, 트레이닝 데이터 정확도 : 0.980000\n",
      "반복(epoch) : 3400, 트레이닝 데이터 정확도 : 0.980000\n",
      "반복(epoch) : 3500, 트레이닝 데이터 정확도 : 0.960000\n",
      "반복(epoch) : 3600, 트레이닝 데이터 정확도 : 0.980000\n",
      "반복(epoch) : 3700, 트레이닝 데이터 정확도 : 0.960000\n",
      "반복(epoch) : 3800, 트레이닝 데이터 정확도 : 0.980000\n",
      "반복(epoch) : 3900, 트레이닝 데이터 정확도 : 0.940000\n",
      "반복(epoch) : 4000, 트레이닝 데이터 정확도 : 0.960000\n",
      "반복(epoch) : 4100, 트레이닝 데이터 정확도 : 0.980000\n",
      "반복(epoch) : 4200, 트레이닝 데이터 정확도 : 0.980000\n",
      "반복(epoch) : 4300, 트레이닝 데이터 정확도 : 1.000000\n",
      "반복(epoch) : 4400, 트레이닝 데이터 정확도 : 0.980000\n",
      "반복(epoch) : 4500, 트레이닝 데이터 정확도 : 0.940000\n",
      "반복(epoch) : 4600, 트레이닝 데이터 정확도 : 1.000000\n",
      "반복(epoch) : 4700, 트레이닝 데이터 정확도 : 0.980000\n",
      "반복(epoch) : 4800, 트레이닝 데이터 정확도 : 0.980000\n",
      "반복(epoch) : 4900, 트레이닝 데이터 정확도 : 0.960000\n",
      "반복(epoch) : 5000, 트레이닝 데이터 정확도 : 0.980000\n",
      "반복(epoch) : 5100, 트레이닝 데이터 정확도 : 1.000000\n",
      "반복(epoch) : 5200, 트레이닝 데이터 정확도 : 0.980000\n",
      "반복(epoch) : 5300, 트레이닝 데이터 정확도 : 1.000000\n",
      "반복(epoch) : 5400, 트레이닝 데이터 정확도 : 0.980000\n",
      "반복(epoch) : 5500, 트레이닝 데이터 정확도 : 1.000000\n",
      "반복(epoch) : 5600, 트레이닝 데이터 정확도 : 1.000000\n",
      "반복(epoch) : 5700, 트레이닝 데이터 정확도 : 1.000000\n",
      "반복(epoch) : 5800, 트레이닝 데이터 정확도 : 0.960000\n",
      "반복(epoch) : 5900, 트레이닝 데이터 정확도 : 0.980000\n",
      "반복(epoch) : 6000, 트레이닝 데이터 정확도 : 1.000000\n",
      "반복(epoch) : 6100, 트레이닝 데이터 정확도 : 1.000000\n",
      "반복(epoch) : 6200, 트레이닝 데이터 정확도 : 1.000000\n",
      "반복(epoch) : 6300, 트레이닝 데이터 정확도 : 1.000000\n",
      "반복(epoch) : 6400, 트레이닝 데이터 정확도 : 0.980000\n",
      "반복(epoch) : 6500, 트레이닝 데이터 정확도 : 1.000000\n",
      "반복(epoch) : 6600, 트레이닝 데이터 정확도 : 1.000000\n",
      "반복(epoch) : 6700, 트레이닝 데이터 정확도 : 1.000000\n",
      "반복(epoch) : 6800, 트레이닝 데이터 정확도 : 1.000000\n",
      "반복(epoch) : 6900, 트레이닝 데이터 정확도 : 1.000000\n",
      "반복(epoch) : 7000, 트레이닝 데이터 정확도 : 1.000000\n",
      "반복(epoch) : 7100, 트레이닝 데이터 정확도 : 1.000000\n",
      "반복(epoch) : 7200, 트레이닝 데이터 정확도 : 0.960000\n",
      "반복(epoch) : 7300, 트레이닝 데이터 정확도 : 0.980000\n",
      "반복(epoch) : 7400, 트레이닝 데이터 정확도 : 0.960000\n",
      "반복(epoch) : 7500, 트레이닝 데이터 정확도 : 0.980000\n",
      "반복(epoch) : 7600, 트레이닝 데이터 정확도 : 1.000000\n",
      "반복(epoch) : 7700, 트레이닝 데이터 정확도 : 1.000000\n",
      "반복(epoch) : 7800, 트레이닝 데이터 정확도 : 1.000000\n",
      "반복(epoch) : 7900, 트레이닝 데이터 정확도 : 1.000000\n",
      "반복(epoch) : 8000, 트레이닝 데이터 정확도 : 1.000000\n",
      "반복(epoch) : 8100, 트레이닝 데이터 정확도 : 0.980000\n",
      "반복(epoch) : 8200, 트레이닝 데이터 정확도 : 0.980000\n",
      "반복(epoch) : 8300, 트레이닝 데이터 정확도 : 0.980000\n",
      "반복(epoch) : 8400, 트레이닝 데이터 정확도 : 1.000000\n",
      "반복(epoch) : 8500, 트레이닝 데이터 정확도 : 1.000000\n",
      "반복(epoch) : 8600, 트레이닝 데이터 정확도 : 1.000000\n",
      "반복(epoch) : 8700, 트레이닝 데이터 정확도 : 1.000000\n",
      "반복(epoch) : 8800, 트레이닝 데이터 정확도 : 0.980000\n",
      "반복(epoch) : 8900, 트레이닝 데이터 정확도 : 1.000000\n",
      "반복(epoch) : 9000, 트레이닝 데이터 정확도 : 1.000000\n",
      "반복(epoch) : 9100, 트레이닝 데이터 정확도 : 1.000000\n",
      "반복(epoch) : 9200, 트레이닝 데이터 정확도 : 1.000000\n",
      "반복(epoch) : 9300, 트레이닝 데이터 정확도 : 1.000000\n",
      "반복(epoch) : 9400, 트레이닝 데이터 정확도 : 1.000000\n",
      "반복(epoch) : 9500, 트레이닝 데이터 정확도 : 1.000000\n",
      "반복(epoch) : 9600, 트레이닝 데이터 정확도 : 1.000000\n",
      "반복(epoch) : 9700, 트레이닝 데이터 정확도 : 0.980000\n",
      "반복(epoch) : 9800, 트레이닝 데이터 정확도 : 1.000000\n",
      "반복(epoch) : 9900, 트레이닝 데이터 정확도 : 1.000000\n",
      "테스트 데이터 정확도 : 0.987800\n"
     ]
    }
   ],
   "source": [
    "# 세션을 열어 학습 진행\n",
    "with tf.Session() as sess:\n",
    "    sess.run(tf.global_variables_initializer())\n",
    "    \n",
    "    for i in range(10000):\n",
    "        batch = mnist.train.next_batch(50)\n",
    "        \n",
    "        if i % 100 == 0:\n",
    "            train_accuracy = accuracy.eval(feed_dict={x : batch[0], y : batch[1]})\n",
    "            print('반복(epoch) : %d, 트레이닝 데이터 정확도 : %f'%(i, train_accuracy))\n",
    "        \n",
    "        sess.run([train_step], feed_dict={x : batch[0], y : batch[1]})\n",
    "        \n",
    "    print('테스트 데이터 정확도 : %f' % (accuracy.eval(feed_dict={x : mnist.test.images, y : mnist.test.labels})))"
   ]
  },
  {
   "cell_type": "code",
   "execution_count": 48,
   "metadata": {},
   "outputs": [
    {
     "name": "stdout",
     "output_type": "stream",
     "text": [
      "6\n"
     ]
    }
   ],
   "source": [
    "with tf.Session() as sess:\n",
    "    \n",
    "#     correct_prediction = tf.equal(tf.argmax([1,1], 1), tf.argmax([1,1], 1))\n",
    "#     accuracy = tf.reduce_mean(tf.cast(correct_prediction, tf.float32))\n",
    "    print(sess.run(tf.argmax([1,1,2,3,4,5,6])))"
   ]
  }
 ],
 "metadata": {
  "kernelspec": {
   "display_name": "Python 3",
   "language": "python",
   "name": "python3"
  },
  "language_info": {
   "codemirror_mode": {
    "name": "ipython",
    "version": 3
   },
   "file_extension": ".py",
   "mimetype": "text/x-python",
   "name": "python",
   "nbconvert_exporter": "python",
   "pygments_lexer": "ipython3",
   "version": "3.7.2"
  }
 },
 "nbformat": 4,
 "nbformat_minor": 2
}
